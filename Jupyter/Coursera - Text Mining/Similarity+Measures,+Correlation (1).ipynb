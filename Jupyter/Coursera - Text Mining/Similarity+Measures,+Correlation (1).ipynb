{
 "cells": [
  {
   "cell_type": "markdown",
   "metadata": {},
   "source": [
    "유사도를 측정하는 여러가지 방법들이 있다.\n",
    "\n",
    "여기에는 그 방법들을 정리해놓겠다."
   ]
  },
  {
   "cell_type": "markdown",
   "metadata": {},
   "source": [
    "# Similarity Measures"
   ]
  },
  {
   "cell_type": "markdown",
   "metadata": {},
   "source": [
    "### 1. Euclidean Measure"
   ]
  },
  {
   "cell_type": "markdown",
   "metadata": {},
   "source": [
    "### 2. Mahalanobis Distance"
   ]
  },
  {
   "cell_type": "markdown",
   "metadata": {},
   "source": [
    "### 3. Minkowsky Distance"
   ]
  },
  {
   "cell_type": "markdown",
   "metadata": {},
   "source": [
    "### 4. Levenshtein Distance (Edit Distance)"
   ]
  },
  {
   "cell_type": "markdown",
   "metadata": {},
   "source": [
    "\n",
    "Levenshtein Distance (Edit Distance)\n",
    "\n",
    "https://en.wikipedia.org/wiki/Damerau%E2%80%93Levenshtein_distance#Algorithm\n",
    "\n",
    "\n",
    "https://people.cs.pitt.edu/~kirk/cs1501/Pruhs/Spring2006/assignments/editdistance/Levenshtein%20Distance.htm\n",
    "\n",
    "\n",
    "String metric for measuring the edit distance between two sequences. Minimum number of operations of a single character, or transposition of two adjacent characters required to change one word into the other.\n",
    "\n",
    "\n",
    "** Damerau-Levenshtein distance differs from the classical Levenshtein distance by including transpositions to insertions, deletions and substitutions.\n",
    "\n",
    "\n",
    "Code attached to assignment #2.\n",
    "\n"
   ]
  },
  {
   "cell_type": "markdown",
   "metadata": {},
   "source": [
    "### 5. Jaccard Similarity"
   ]
  },
  {
   "cell_type": "markdown",
   "metadata": {},
   "source": [
    "\n",
    "https://www.cs.utah.edu/~jeffp/teaching/cs5140-S15/cs5140/L4-Jaccard+nGram.pdf\n",
    "\n",
    " Jaccard Index (Intersection over Union, Jaccard similarity coefficient)\n",
    "\n",
    "> used for comparing the similarity and diversity of sample sets.\n",
    "\n",
    "> is known as a method to test the similarity btw groups\n",
    "\n",
    "> Jaccard similarity J(A,B) is defined as dividing the size of intersection with the size of Union. (Intersection over Union)\n",
    "\n",
    "•Application to documents & Words\n",
    "\n",
    "\n",
    "\n",
    "Bag of words vs. k-Grams ( k-shingle )\n",
    "1.Bag of words model, each document is treated as an unordered set of works.\n",
    "\n",
    "\n",
    "2.k-Gram model, consecutive set of k words.\n",
    "\n",
    "\n",
    "a.I am Sam, Sam I am  -> [I am] [am Sam] ,[Sam Sam] , …\n",
    "\n",
    "\n",
    "b.professional -> [pr] [ro] [of] [fe], …\n",
    "\n",
    "\n",
    "\n",
    "Code is attached to assignment #2\n",
    "\n"
   ]
  },
  {
   "cell_type": "markdown",
   "metadata": {},
   "source": [
    "### 6. Cosine Similarity"
   ]
  },
  {
   "cell_type": "markdown",
   "metadata": {},
   "source": [
    "# Rank Correlation"
   ]
  },
  {
   "cell_type": "markdown",
   "metadata": {},
   "source": [
    "### 1. Kendall Rank Correlation Coefficient"
   ]
  }
 ],
 "metadata": {
  "kernelspec": {
   "display_name": "Python 3",
   "language": "python",
   "name": "python3"
  },
  "language_info": {
   "codemirror_mode": {
    "name": "ipython",
    "version": 3
   },
   "file_extension": ".py",
   "mimetype": "text/x-python",
   "name": "python",
   "nbconvert_exporter": "python",
   "pygments_lexer": "ipython3",
   "version": "3.6.3"
  }
 },
 "nbformat": 4,
 "nbformat_minor": 2
}
