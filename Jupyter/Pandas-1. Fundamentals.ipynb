{
 "cells": [
  {
   "cell_type": "markdown",
   "metadata": {},
   "source": [
    "** Pandas\n",
    "- Handle data in a way suited to analysis\n",
    "- Similar to R\n",
    "\n",
    "can learn pandas from here\n",
    "https://bitbucket.org/hrojas/learn-pandas\n"
   ]
  },
  {
   "cell_type": "code",
   "execution_count": 33,
   "metadata": {
    "collapsed": true
   },
   "outputs": [],
   "source": [
    "import pandas"
   ]
  },
  {
   "cell_type": "markdown",
   "metadata": {},
   "source": [
    "### 1. Pandas - Series\n",
    "\n",
    "Series는 array, list, column과 비슷한 1차원 오브젝트이다. \n",
    "디폴트 값으로서 0~N까지의 인덱스를 각 항목에 부여한다."
   ]
  },
  {
   "cell_type": "code",
   "execution_count": 34,
   "metadata": {},
   "outputs": [
    {
     "name": "stdout",
     "output_type": "stream",
     "text": [
      "0           Dave\n",
      "1      Cheng-Han\n",
      "2        Udacity\n",
      "3             42\n",
      "4    -1789710578\n",
      "dtype: object\n"
     ]
    }
   ],
   "source": [
    "# Series 선언\n",
    "\n",
    "series = pandas.Series(['Dave', 'Cheng-Han', 'Udacity', 42, -1789710578])\n",
    "print(series)"
   ]
  },
  {
   "cell_type": "code",
   "execution_count": 35,
   "metadata": {},
   "outputs": [
    {
     "name": "stdout",
     "output_type": "stream",
     "text": [
      "Instructor                 Dave\n",
      "Curriculum Manager    Cheng-Han\n",
      "Course Number               359\n",
      "Power Level                9001\n",
      "dtype: object\n"
     ]
    }
   ],
   "source": [
    "# Index를 다음과 같이 선언할 수도 있다.\n",
    "\n",
    "series = pandas.Series(['Dave', 'Cheng-Han', 359, 9001], \n",
    "                       index=['Instructor', 'Curriculum Manager',\n",
    "                              'Course Number', 'Power Level'])\n",
    "print(series)"
   ]
  },
  {
   "cell_type": "code",
   "execution_count": 36,
   "metadata": {},
   "outputs": [
    {
     "name": "stdout",
     "output_type": "stream",
     "text": [
      "Dave\n",
      "\n",
      "Instructor                 Dave\n",
      "Curriculum Manager    Cheng-Han\n",
      "Course Number               359\n",
      "dtype: object\n"
     ]
    }
   ],
   "source": [
    "# Index로 특정 항목 뽑아내기 (1개인 경우, 여러 개인 경우)\n",
    "\n",
    "series = pandas.Series(['Dave', 'Cheng-Han', 359, 9001],\n",
    "                      index=['Instructor', 'Curriculum Manager',\n",
    "                            'Course Number', 'Power Level'])\n",
    "print(series['Instructor'])\n",
    "print(\"\")\n",
    "print(series[['Instructor', 'Curriculum Manager', 'Course Number']])"
   ]
  },
  {
   "cell_type": "code",
   "execution_count": 37,
   "metadata": {},
   "outputs": [
    {
     "name": "stdout",
     "output_type": "stream",
     "text": [
      "Cockroach    False\n",
      "Fish         False\n",
      "Mini Pig     False\n",
      "Puppy         True\n",
      "Kitten        True\n",
      "dtype: bool\n",
      "\n",
      "Puppy     4\n",
      "Kitten    5\n",
      "dtype: int64\n"
     ]
    }
   ],
   "source": [
    "# boolean operator로 Indexing하기\n",
    "\n",
    "cuteness = pandas.Series([1,2,3,4,5], \n",
    "                        index=['Cockroach', 'Fish', 'Mini Pig', 'Puppy', 'Kitten'])\n",
    "\n",
    "print(cuteness > 3)\n",
    "print(\"\")\n",
    "print( cuteness[cuteness>3])\n"
   ]
  },
  {
   "cell_type": "markdown",
   "metadata": {},
   "source": [
    "\n",
    "\n",
    "\n",
    "\n",
    "\n",
    "\n",
    "### 2. Pandas - Dataframe\n",
    "\n",
    "Dataframe을 만들기 위해서, '리스트로 구성된 딕셔너리'를 인자로 넣어준다.\n",
    "\n",
    "그렇게 하면,\n",
    "1. 딕셔너리의 키는 열 이름이 된다.\n",
    "2. 키에 해당하는 리스트는 그 열의 값들이 된다.\n",
    "\n"
   ]
  },
  {
   "cell_type": "code",
   "execution_count": 38,
   "metadata": {},
   "outputs": [
    {
     "name": "stdout",
     "output_type": "stream",
     "text": [
      "   losses     team  wins  year\n",
      "0       5    Bears    11  2010\n",
      "1       8    Bears     8  2011\n",
      "2       6    Bears    10  2012\n",
      "3       1  Packers    15  2011\n",
      "4       5  Packers    11  2012\n",
      "5      10    Lions     6  2010\n",
      "6       6    Lions    10  2011\n",
      "7      12    Lions     4  2012\n"
     ]
    }
   ],
   "source": [
    "data = {'year' : [2010, 2011, 2012, 2011, 2012, 2010, 2011, 2012],\n",
    "       'team' : ['Bears', 'Bears', 'Bears', 'Packers', 'Packers', 'Lions', 'Lions', 'Lions'],\n",
    "       'wins' : [11,8,10,15,11,6,10,4],\n",
    "       'losses': [5,8,6,1,5,10,6,12]}\n",
    "\n",
    "football = pandas.DataFrame(data)\n",
    "print(football)"
   ]
  },
  {
   "cell_type": "code",
   "execution_count": 44,
   "metadata": {},
   "outputs": [
    {
     "name": "stdout",
     "output_type": "stream",
     "text": [
      "losses     int64\n",
      "team      object\n",
      "wins       int64\n",
      "year       int64\n",
      "dtype: object\n",
      "\n",
      "          losses       wins         year\n",
      "count   8.000000   8.000000     8.000000\n",
      "mean    6.625000   9.375000  2011.125000\n",
      "std     3.377975   3.377975     0.834523\n",
      "min     1.000000   4.000000  2010.000000\n",
      "25%     5.000000   7.500000  2010.750000\n",
      "50%     6.000000  10.000000  2011.000000\n",
      "75%     8.500000  11.000000  2012.000000\n",
      "max    12.000000  15.000000  2012.000000\n",
      "\n",
      "   losses     team  wins  year\n",
      "0       5    Bears    11  2010\n",
      "1       8    Bears     8  2011\n",
      "2       6    Bears    10  2012\n",
      "3       1  Packers    15  2011\n",
      "4       5  Packers    11  2012\n",
      "\n",
      "   losses     team  wins  year\n",
      "3       1  Packers    15  2011\n",
      "4       5  Packers    11  2012\n",
      "5      10    Lions     6  2010\n",
      "6       6    Lions    10  2011\n",
      "7      12    Lions     4  2012\n"
     ]
    }
   ],
   "source": [
    "print(football.dtypes)     # 각 열의 데이터 타입을 출력\n",
    "print(\"\")\n",
    "print(football.describe()) # 수치형 열의 기초 통계량 출력\n",
    "print(\"\")\n",
    "print(football.head())     # 데이터셋의 처음 N행 출력, 디폴트는 5행\n",
    "print(\"\")\n",
    "print(football.tail())     # 데이터셋의 마지막 N행 출력\n"
   ]
  },
  {
   "cell_type": "markdown",
   "metadata": {},
   "source": [
    "### 3. Series & Dfs\n",
    "\n",
    "You can think of DataFrame as a group of Series that share an index.\n",
    "\n",
    "Also,\n",
    "1. Selecting a single column returns a Series\n",
    "2. Selecting multiple columns returns a DataFrame\n",
    "\n",
    "Series와 DataFrame은 아래와 같이 사용할 수 있다."
   ]
  },
  {
   "cell_type": "code",
   "execution_count": 49,
   "metadata": {},
   "outputs": [
    {
     "name": "stdout",
     "output_type": "stream",
     "text": [
      "   age     name\n",
      "0   28    Sarah\n",
      "1   32     Mike\n",
      "2   25  Chrisna\n",
      "   age     name\n",
      "0   28    Sarah\n",
      "1   32     Mike\n",
      "2   25  Chrisna\n"
     ]
    }
   ],
   "source": [
    "people = ['Sarah', 'Mike', 'Chrisna']\n",
    "ages = [28, 32, 25]\n",
    "\n",
    "# 1. Series와 DF 함께 사용\n",
    "df = pandas.DataFrame({'name' : pandas.Series(people),\n",
    "               'age' : pandas.Series(ages)})\n",
    "print(df)\n",
    "\n",
    "\n",
    "# 2. 그냥 DF만 사용\n",
    "df = pandas.DataFrame({'name' : people,\n",
    "               'age' : ages})\n",
    "print(df)"
   ]
  },
  {
   "cell_type": "code",
   "execution_count": 111,
   "metadata": {},
   "outputs": [
    {
     "data": {
      "text/html": [
       "<div>\n",
       "<style>\n",
       "    .dataframe thead tr:only-child th {\n",
       "        text-align: right;\n",
       "    }\n",
       "\n",
       "    .dataframe thead th {\n",
       "        text-align: left;\n",
       "    }\n",
       "\n",
       "    .dataframe tbody tr th {\n",
       "        vertical-align: top;\n",
       "    }\n",
       "</style>\n",
       "<table border=\"1\" class=\"dataframe\">\n",
       "  <thead>\n",
       "    <tr style=\"text-align: right;\">\n",
       "      <th></th>\n",
       "      <th>name</th>\n",
       "      <th>age</th>\n",
       "    </tr>\n",
       "  </thead>\n",
       "  <tbody>\n",
       "    <tr>\n",
       "      <th>a</th>\n",
       "      <td>Braund</td>\n",
       "      <td>22</td>\n",
       "    </tr>\n",
       "    <tr>\n",
       "      <th>b</th>\n",
       "      <td>Cummings</td>\n",
       "      <td>38</td>\n",
       "    </tr>\n",
       "    <tr>\n",
       "      <th>c</th>\n",
       "      <td>Heikkinen</td>\n",
       "      <td>26</td>\n",
       "    </tr>\n",
       "    <tr>\n",
       "      <th>d</th>\n",
       "      <td>Allen</td>\n",
       "      <td>35</td>\n",
       "    </tr>\n",
       "  </tbody>\n",
       "</table>\n",
       "</div>"
      ],
      "text/plain": [
       "        name  age\n",
       "a     Braund   22\n",
       "b   Cummings   38\n",
       "c  Heikkinen   26\n",
       "d      Allen   35"
      ]
     },
     "execution_count": 111,
     "metadata": {},
     "output_type": "execute_result"
    }
   ],
   "source": [
    "## 주의, DataFrame은 Index를 자동으로 정렬하기 때문에 그 위치를 수동으로 바꿔줄 수 있다.\n",
    "\n",
    "df = df[['name', 'age']]\n",
    "df"
   ]
  },
  {
   "cell_type": "markdown",
   "metadata": {},
   "source": [
    "### 4. Indexing DFs\n",
    "\n",
    "파이썬의 딕셔너리와 같은 원리로 호출할 수 있다."
   ]
  },
  {
   "cell_type": "code",
   "execution_count": 72,
   "metadata": {
    "collapsed": true
   },
   "outputs": [],
   "source": [
    "d = {'name' : pandas.Series(['Braund', 'Cummings', 'Heikkinen', 'Allen'],\n",
    "                    index = ['a', 'b', 'c', 'd']),\n",
    "    'age' : pandas.Series([22,38,26,35], index = ['a', 'b', 'c', 'd']),\n",
    "    'fare' : pandas.Series([7.25, 71.83, 8.05], index=['a', 'b', 'd']),\n",
    "    'survived?': pandas.Series([False, True, True, False], index=['a','b','c','d'])}\n",
    "\n",
    "df = pandas.DataFrame(d)"
   ]
  },
  {
   "cell_type": "code",
   "execution_count": 86,
   "metadata": {},
   "outputs": [
    {
     "data": {
      "text/plain": [
       "a       Braund\n",
       "b     Cummings\n",
       "c    Heikkinen\n",
       "d        Allen\n",
       "Name: name, dtype: object"
      ]
     },
     "execution_count": 86,
     "metadata": {},
     "output_type": "execute_result"
    }
   ],
   "source": [
    "#1. Column Indexing\n",
    "\n",
    "df['name'] \n",
    "    # Same as df.name"
   ]
  },
  {
   "cell_type": "code",
   "execution_count": 77,
   "metadata": {},
   "outputs": [
    {
     "data": {
      "text/html": [
       "<div>\n",
       "<style>\n",
       "    .dataframe thead tr:only-child th {\n",
       "        text-align: right;\n",
       "    }\n",
       "\n",
       "    .dataframe thead th {\n",
       "        text-align: left;\n",
       "    }\n",
       "\n",
       "    .dataframe tbody tr th {\n",
       "        vertical-align: top;\n",
       "    }\n",
       "</style>\n",
       "<table border=\"1\" class=\"dataframe\">\n",
       "  <thead>\n",
       "    <tr style=\"text-align: right;\">\n",
       "      <th></th>\n",
       "      <th>name</th>\n",
       "      <th>age</th>\n",
       "    </tr>\n",
       "  </thead>\n",
       "  <tbody>\n",
       "    <tr>\n",
       "      <th>a</th>\n",
       "      <td>Braund</td>\n",
       "      <td>22</td>\n",
       "    </tr>\n",
       "    <tr>\n",
       "      <th>b</th>\n",
       "      <td>Cummings</td>\n",
       "      <td>38</td>\n",
       "    </tr>\n",
       "    <tr>\n",
       "      <th>c</th>\n",
       "      <td>Heikkinen</td>\n",
       "      <td>26</td>\n",
       "    </tr>\n",
       "    <tr>\n",
       "      <th>d</th>\n",
       "      <td>Allen</td>\n",
       "      <td>35</td>\n",
       "    </tr>\n",
       "  </tbody>\n",
       "</table>\n",
       "</div>"
      ],
      "text/plain": [
       "        name  age\n",
       "a     Braund   22\n",
       "b   Cummings   38\n",
       "c  Heikkinen   26\n",
       "d      Allen   35"
      ]
     },
     "execution_count": 77,
     "metadata": {},
     "output_type": "execute_result"
    }
   ],
   "source": [
    "df[['name', 'age']]"
   ]
  },
  {
   "cell_type": "code",
   "execution_count": 101,
   "metadata": {},
   "outputs": [
    {
     "name": "stdout",
     "output_type": "stream",
     "text": [
      "   age   fare       name  survived?\n",
      "b   38  71.83   Cummings       True\n",
      "c   26    NaN  Heikkinen       True\n",
      "d   35   8.05      Allen      False\n",
      "\n",
      "age              22\n",
      "fare           7.25\n",
      "name         Braund\n",
      "survived?     False\n",
      "Name: a, dtype: object\n"
     ]
    }
   ],
   "source": [
    "#2. Row Indexing\n",
    "\n",
    "print(df[1:4])     # Through Indices\n",
    "print(\"\")\n",
    "print(df.loc['a']) # Through named indices\n"
   ]
  },
  {
   "cell_type": "code",
   "execution_count": 107,
   "metadata": {},
   "outputs": [
    {
     "data": {
      "text/html": [
       "<div>\n",
       "<style>\n",
       "    .dataframe thead tr:only-child th {\n",
       "        text-align: right;\n",
       "    }\n",
       "\n",
       "    .dataframe thead th {\n",
       "        text-align: left;\n",
       "    }\n",
       "\n",
       "    .dataframe tbody tr th {\n",
       "        vertical-align: top;\n",
       "    }\n",
       "</style>\n",
       "<table border=\"1\" class=\"dataframe\">\n",
       "  <thead>\n",
       "    <tr style=\"text-align: right;\">\n",
       "      <th></th>\n",
       "      <th>age</th>\n",
       "      <th>fare</th>\n",
       "      <th>name</th>\n",
       "      <th>survived?</th>\n",
       "    </tr>\n",
       "  </thead>\n",
       "  <tbody>\n",
       "    <tr>\n",
       "      <th>b</th>\n",
       "      <td>38</td>\n",
       "      <td>71.83</td>\n",
       "      <td>Cummings</td>\n",
       "      <td>True</td>\n",
       "    </tr>\n",
       "    <tr>\n",
       "      <th>d</th>\n",
       "      <td>35</td>\n",
       "      <td>8.05</td>\n",
       "      <td>Allen</td>\n",
       "      <td>False</td>\n",
       "    </tr>\n",
       "  </tbody>\n",
       "</table>\n",
       "</div>"
      ],
      "text/plain": [
       "   age   fare      name  survived?\n",
       "b   38  71.83  Cummings       True\n",
       "d   35   8.05     Allen      False"
      ]
     },
     "execution_count": 107,
     "metadata": {},
     "output_type": "execute_result"
    }
   ],
   "source": [
    "# Column의 조건에 따라 모든 Column 출력\n",
    "\n",
    "df[df['age'] >= 30]"
   ]
  },
  {
   "cell_type": "code",
   "execution_count": 108,
   "metadata": {},
   "outputs": [
    {
     "data": {
      "text/html": [
       "<div>\n",
       "<style>\n",
       "    .dataframe thead tr:only-child th {\n",
       "        text-align: right;\n",
       "    }\n",
       "\n",
       "    .dataframe thead th {\n",
       "        text-align: left;\n",
       "    }\n",
       "\n",
       "    .dataframe tbody tr th {\n",
       "        vertical-align: top;\n",
       "    }\n",
       "</style>\n",
       "<table border=\"1\" class=\"dataframe\">\n",
       "  <thead>\n",
       "    <tr style=\"text-align: right;\">\n",
       "      <th></th>\n",
       "      <th>age</th>\n",
       "      <th>fare</th>\n",
       "      <th>name</th>\n",
       "      <th>survived?</th>\n",
       "    </tr>\n",
       "  </thead>\n",
       "  <tbody>\n",
       "    <tr>\n",
       "      <th>b</th>\n",
       "      <td>38</td>\n",
       "      <td>71.83</td>\n",
       "      <td>Cummings</td>\n",
       "      <td>True</td>\n",
       "    </tr>\n",
       "  </tbody>\n",
       "</table>\n",
       "</div>"
      ],
      "text/plain": [
       "   age   fare      name  survived?\n",
       "b   38  71.83  Cummings       True"
      ]
     },
     "execution_count": 108,
     "metadata": {},
     "output_type": "execute_result"
    }
   ],
   "source": [
    "# Column의 여러 조건에 따라 모든 Column 출력\n",
    "\n",
    "df[ (df.age >=30) & (df['survived?'] == True) ]"
   ]
  },
  {
   "cell_type": "code",
   "execution_count": 109,
   "metadata": {},
   "outputs": [
    {
     "data": {
      "text/plain": [
       "b     True\n",
       "d    False\n",
       "Name: survived?, dtype: bool"
      ]
     },
     "execution_count": 109,
     "metadata": {},
     "output_type": "execute_result"
    }
   ],
   "source": [
    "# Column의 조건에 맞는, 특정 Column만 출력\n",
    "\n",
    "df['survived?'][df['age'] >= 30]"
   ]
  },
  {
   "cell_type": "code",
   "execution_count": 1,
   "metadata": {
    "collapsed": true
   },
   "outputs": [],
   "source": [
    "# numpy.roll(numpyarray, number)  \n",
    "# DataFrame.shift(number)"
   ]
  }
 ],
 "metadata": {
  "kernelspec": {
   "display_name": "Python 3",
   "language": "python",
   "name": "python3"
  },
  "language_info": {
   "codemirror_mode": {
    "name": "ipython",
    "version": 3
   },
   "file_extension": ".py",
   "mimetype": "text/x-python",
   "name": "python",
   "nbconvert_exporter": "python",
   "pygments_lexer": "ipython3",
   "version": "3.6.3"
  }
 },
 "nbformat": 4,
 "nbformat_minor": 2
}
