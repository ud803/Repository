{
 "cells": [
  {
   "cell_type": "markdown",
   "metadata": {},
   "source": [
    "유사도를 측정하는 여러가지 방법들이 있다.\n",
    "\n",
    "여기에는 그 방법들을 정리해놓겠다."
   ]
  },
  {
   "cell_type": "markdown",
   "metadata": {},
   "source": [
    "# Similarity Measures"
   ]
  },
  {
   "cell_type": "markdown",
   "metadata": {},
   "source": [
    "### 1. Euclidean Measure"
   ]
  },
  {
   "cell_type": "markdown",
   "metadata": {},
   "source": [
    "### 2. Mahalanobis Distance"
   ]
  },
  {
   "cell_type": "markdown",
   "metadata": {},
   "source": [
    "### 3. Minkowsky Distance"
   ]
  },
  {
   "cell_type": "markdown",
   "metadata": {},
   "source": [
    "### 4. Levenshtein Distance (Edit Distance)"
   ]
  },
  {
   "cell_type": "markdown",
   "metadata": {},
   "source": [
    "\n",
    "Levenshtein Distance (Edit Distance)\n",
    "\n",
    "https://en.wikipedia.org/wiki/Damerau%E2%80%93Levenshtein_distance#Algorithm\n",
    "\n",
    "\n",
    "https://people.cs.pitt.edu/~kirk/cs1501/Pruhs/Spring2006/assignments/editdistance/Levenshtein%20Distance.htm\n",
    "\n",
    "\n",
    "String metric for measuring the edit distance between two sequences. Minimum number of operations of a single character, or transposition of two adjacent characters required to change one word into the other.\n",
    "\n",
    "\n",
    "** Damerau-Levenshtein distance differs from the classical Levenshtein distance by including transpositions to insertions, deletions and substitutions.\n",
    "\n",
    "\n",
    "Code attached to assignment #2.\n",
    "\n"
   ]
  },
  {
   "cell_type": "markdown",
   "metadata": {},
   "source": [
    "### 5. Jaccard Similarity"
   ]
  },
  {
   "cell_type": "markdown",
   "metadata": {},
   "source": [
    "\n",
    "https://www.cs.utah.edu/~jeffp/teaching/cs5140-S15/cs5140/L4-Jaccard+nGram.pdf\n",
    "\n",
    " Jaccard Index (Intersection over Union, Jaccard similarity coefficient)\n",
    "\n",
    "> used for comparing the similarity and diversity of sample sets.\n",
    "\n",
    "> is known as a method to test the similarity btw groups\n",
    "\n",
    "> Jaccard similarity J(A,B) is defined as dividing the size of intersection with the size of Union. (Intersection over Union)\n",
    "\n",
    "•Application to documents & Words\n",
    "\n",
    "\n",
    "\n",
    "Bag of words vs. k-Grams ( k-shingle )\n",
    "1.Bag of words model, each document is treated as an unordered set of works.\n",
    "\n",
    "\n",
    "2.k-Gram model, consecutive set of k words.\n",
    "\n",
    "\n",
    "a.I am Sam, Sam I am  -> [I am] [am Sam] ,[Sam Sam] , …\n",
    "\n",
    "\n",
    "b.professional -> [pr] [ro] [of] [fe], …\n",
    "\n",
    "\n",
    "\n",
    "Code is attached to assignment #2\n",
    "\n"
   ]
  },
  {
   "cell_type": "markdown",
   "metadata": {},
   "source": [
    "### 6. Cosine Similarity"
   ]
  },
  {
   "cell_type": "markdown",
   "metadata": {},
   "source": [
    "# Rank Correlation"
   ]
  },
  {
   "cell_type": "markdown",
   "metadata": {},
   "source": [
    "### 1. Kendall Rank Correlation Coefficient"
   ]
  },
  {
   "cell_type": "code",
   "execution_count": 365,
   "metadata": {
    "collapsed": true
   },
   "outputs": [],
   "source": [
    "import re"
   ]
  },
  {
   "cell_type": "markdown",
   "metadata": {},
   "source": [
    "### Regex Methods\n",
    "\n",
    "- **regex.match(string, pos, endpos)**\n",
    "<br>if \"beginning\" of string matches the regex, returns a corresponding match object\n",
    "\n",
    "- **regex.fullmatch(string, pos, endpos)**\n",
    "<br>if the \"whole\" string matches the regex, returnsa corresponding match object\n",
    "\n",
    "- **regex.split(string, maxsplit= 0)**\n",
    "<br>identical to the split() function with given pattern\n",
    "\n",
    "- **regex.findall(string, pos, end)**\n",
    "<br>return all matches of pattern in string, as a list of strings\n",
    "\n",
    "- **regex.finditer(string, pos, end) **\n",
    "<br>return an iterator yielding match objects\n"
   ]
  },
  {
   "cell_type": "code",
   "execution_count": 366,
   "metadata": {
    "scrolled": true
   },
   "outputs": [
    {
     "name": "stdout",
     "output_type": "stream",
     "text": [
      "None\n",
      "None\n",
      "<_sre.SRE_Match object; span=(1, 3), match='og'>\n"
     ]
    }
   ],
   "source": [
    "# fullmatch example\n",
    "pattern = re.compile(\"o[gh]\")\n",
    "print(pattern.fullmatch(\"dog\")) # no match as \"o\" is not at the start of \"dog\"\n",
    "print(pattern.fullmatch(\"ogre\"))\n",
    "print(pattern.fullmatch(\"doggie\", 1, 3))"
   ]
  },
  {
   "cell_type": "code",
   "execution_count": 367,
   "metadata": {},
   "outputs": [
    {
     "data": {
      "text/plain": [
       "['0', '3', '9']"
      ]
     },
     "execution_count": 367,
     "metadata": {},
     "output_type": "execute_result"
    }
   ],
   "source": [
    "# split example\n",
    "re.split('[a-f+]', '0a3B9', flags=re.IGNORECASE)"
   ]
  },
  {
   "cell_type": "markdown",
   "metadata": {},
   "source": [
    "### Regex Group\n",
    "\n",
    "- **match.group**\n",
    "<br> returns one or more subgroups of the match\n",
    "\n",
    "- **match.groups()**\n",
    "<br>return a tuple containing all the subgroups of the match, from 1 upto however many groups there are in the pattern\n",
    "\n",
    "- **match.groupdict() **\n",
    "<br>return a dict containing all the named subgroups of the match, keyed by the subgroup name"
   ]
  },
  {
   "cell_type": "code",
   "execution_count": 368,
   "metadata": {},
   "outputs": [
    {
     "name": "stdout",
     "output_type": "stream",
     "text": [
      "Isaac newton\n",
      "Isaac\n",
      "newton\n",
      "('Isaac', 'newton')\n"
     ]
    },
    {
     "data": {
      "text/plain": [
       "'newton'"
      ]
     },
     "execution_count": 368,
     "metadata": {},
     "output_type": "execute_result"
    }
   ],
   "source": [
    "# group example\n",
    "m = re.match(r\"(\\w+) (\\w+)\", \"Isaac newton, Physicist\")\n",
    "print(m.group(0))  # The entire match\n",
    "print(m.group(1))  # The first parenthesized subgroup\n",
    "print(m.group(2))  # The second parenthesized subgroup\n",
    "print(m.group(1,2))# Mtp given as tuple\n",
    "\n",
    "m[2] # same as m.group(2)"
   ]
  },
  {
   "cell_type": "code",
   "execution_count": 369,
   "metadata": {},
   "outputs": [
    {
     "data": {
      "text/plain": [
       "'c3'"
      ]
     },
     "execution_count": 369,
     "metadata": {},
     "output_type": "execute_result"
    }
   ],
   "source": [
    "# if a group matches mtp times, only the last match is accessible.\n",
    "m = re.match(r\"(..)+\", \"a1b2c3\") # matches 3 times\n",
    "m.group(1)"
   ]
  },
  {
   "cell_type": "markdown",
   "metadata": {},
   "source": [
    "### Regex Complement\n",
    "\n",
    "Both patterns and strings to be searched can be Unicode strings as well as 8-bit strings. However, they cannot be mixed.\n",
    "\n",
    "Regex use the baskslash character (\"\\\") to indicate special forms or to allow special char to be used without invoking their special meaning. This collide's Python's usage of the same char for the same purpose in string literal.\n",
    "\n",
    "For example, to match a literal backslash, we should use '\\\\\\\\' because regex must be \\\\, and each backslash must be expressed as \\\\ inside a regular Python literal.\n",
    "\n",
    "-> The Solution is to use `r\"\\n\"`."
   ]
  },
  {
   "cell_type": "code",
   "execution_count": 370,
   "metadata": {},
   "outputs": [
    {
     "data": {
      "text/plain": [
       "<_sre.SRE_Match object; span=(2, 11), match='<a> b <c>'>"
      ]
     },
     "execution_count": 370,
     "metadata": {},
     "output_type": "execute_result"
    }
   ],
   "source": [
    "import re\n",
    "# search는 처음으로 일치하는 매치 오브젝트를 반환한다.\n",
    "sent = 'b <a> b <c>'\n",
    "re.search('<.*>', sent)"
   ]
  },
  {
   "cell_type": "code",
   "execution_count": 371,
   "metadata": {
    "collapsed": true
   },
   "outputs": [],
   "source": [
    "# match는 string의 첫 부분부터 일치하는 오브젝트를 반환한다.\n",
    "re.match('<.*>', sent)"
   ]
  },
  {
   "cell_type": "markdown",
   "metadata": {},
   "source": [
    "#### *?, +?, ??\n",
    "\n",
    "The `'*', '+', and '?'` qualifiers are all greedy ; they match as much text as possible.<br>\n",
    "Sometimes, this behavior isn't desired; if the RE `<.*>` is matched against `<a> b <c>`, it will match the entire string, not just `<a>`. <br>\n",
    "Adding ? after it performs the match in non-greedy or minimal fashion.\n",
    "\n",
    "아래의 예를 살펴보자"
   ]
  },
  {
   "cell_type": "code",
   "execution_count": 372,
   "metadata": {},
   "outputs": [
    {
     "data": {
      "text/plain": [
       "<_sre.SRE_Match object; span=(2, 11), match='<a> b <c>'>"
      ]
     },
     "execution_count": 372,
     "metadata": {},
     "output_type": "execute_result"
    }
   ],
   "source": [
    "# greedy way -> sent 전체 문장이 일치한다\n",
    "\n",
    "sent = 'b <a> b <c>'\n",
    "re.search('<.*>', sent)"
   ]
  },
  {
   "cell_type": "code",
   "execution_count": 373,
   "metadata": {},
   "outputs": [
    {
     "data": {
      "text/plain": [
       "<_sre.SRE_Match object; span=(2, 5), match='<a>'>"
      ]
     },
     "execution_count": 373,
     "metadata": {},
     "output_type": "execute_result"
    }
   ],
   "source": [
    "# non greedy way -> minimal하게 <a>만 일치한다.\n",
    "\n",
    "re.search('<.*?>', sent)"
   ]
  },
  {
   "cell_type": "markdown",
   "metadata": {},
   "source": [
    "#### Other Extensions\n",
    "\n",
    "- (?...) : extension notation\n",
    "- (?aiLmsux) : Entire flagging (re.A, re.I, re.L ,...). They should be used first in the expression string.\n",
    "- (?:...) : Non-capturing version of regular parentheses. Substring matched cannot be retrieved.\n",
    "- (?imsx-imsx:...) : Sets or Removes the corresponding flags.\n",
    "- (?P\\<name\\>...) : Similar to regular parentheses, but the substring matched is accessible.\n",
    "- (?P=name) : back-reference to a named group; matches whatever was matched by earlier-group\n",
    "- (?#...) : Comment, ignored\n",
    "- (?=...) : Lookahead assertion, matches if ... matches next <br> For example, Issac (?=Asimov) match 'Isaac' only if it's followed by 'Asimov'\n",
    "- (?!...) : negative Lookahead assertion, matches if ... does not match next.<br> For example, Isaac (?!Asimov) match 'Isaac' only if it's not followed by 'Asimov'\n",
    "- (?<=...) : Positive lookbehind assertion; matches if the cur pos in the string is preceded by a match for ... that ends at the cur pos.\n",
    "- (?<!...) : negative Lookbehind assertion\n",
    "- (? (id/name) yes-pattern | no-pattern) : if the group with given id exists, match with yes-pattern, otw, no-pattern"
   ]
  },
  {
   "cell_type": "markdown",
   "metadata": {},
   "source": [
    "#### Referencing in different ways\n",
    "\n",
    "1. in the same pattern itself\n",
    "    1. (?P=name)\n",
    "    2. \\\\1\n",
    "\n",
    "2. when processing match object m\n",
    "    1. m.group('name')\n",
    "    2. m[1]\n",
    "    3. m.end('name')\n",
    "\n",
    "3. in a string passed to the repl argument of re.sub()\n",
    "    1. \\g<name>\n",
    "    2. \\\\g<1>\n",
    "    3. \\\\1"
   ]
  },
  {
   "cell_type": "markdown",
   "metadata": {},
   "source": [
    "### Data Selection in DataFrame\n",
    "\n",
    "#### 1. DataFrame as a dictionary"
   ]
  },
  {
   "cell_type": "code",
   "execution_count": 374,
   "metadata": {},
   "outputs": [
    {
     "data": {
      "text/html": [
       "<div>\n",
       "<style>\n",
       "    .dataframe thead tr:only-child th {\n",
       "        text-align: right;\n",
       "    }\n",
       "\n",
       "    .dataframe thead th {\n",
       "        text-align: left;\n",
       "    }\n",
       "\n",
       "    .dataframe tbody tr th {\n",
       "        vertical-align: top;\n",
       "    }\n",
       "</style>\n",
       "<table border=\"1\" class=\"dataframe\">\n",
       "  <thead>\n",
       "    <tr style=\"text-align: right;\">\n",
       "      <th></th>\n",
       "      <th>area</th>\n",
       "      <th>pop</th>\n",
       "    </tr>\n",
       "  </thead>\n",
       "  <tbody>\n",
       "    <tr>\n",
       "      <th>California</th>\n",
       "      <td>423967</td>\n",
       "      <td>3833521</td>\n",
       "    </tr>\n",
       "    <tr>\n",
       "      <th>Florida</th>\n",
       "      <td>170312</td>\n",
       "      <td>19552860</td>\n",
       "    </tr>\n",
       "    <tr>\n",
       "      <th>Illinois</th>\n",
       "      <td>12882135</td>\n",
       "      <td>12882135</td>\n",
       "    </tr>\n",
       "    <tr>\n",
       "      <th>New York</th>\n",
       "      <td>141297</td>\n",
       "      <td>19651127</td>\n",
       "    </tr>\n",
       "    <tr>\n",
       "      <th>Texas</th>\n",
       "      <td>695662</td>\n",
       "      <td>26448193</td>\n",
       "    </tr>\n",
       "  </tbody>\n",
       "</table>\n",
       "</div>"
      ],
      "text/plain": [
       "                area       pop\n",
       "California    423967   3833521\n",
       "Florida       170312  19552860\n",
       "Illinois    12882135  12882135\n",
       "New York      141297  19651127\n",
       "Texas         695662  26448193"
      ]
     },
     "execution_count": 374,
     "metadata": {},
     "output_type": "execute_result"
    }
   ],
   "source": [
    "import pandas as pd\n",
    "\n",
    "area = pd.Series( {'California' : 423967, 'Texas' : 695662, 'New York' : 141297, \n",
    "                   'Florida': 170312, 'Illinois': 12882135})\n",
    "\n",
    "pop = pd.Series( {'California': 3833521, 'Texas': 26448193, 'New York': 19651127,\n",
    "                 'Florida': 19552860, 'Illinois': 12882135})\n",
    "\n",
    "data = pd.DataFrame({'area' : area, 'pop' : pop})\n",
    "data"
   ]
  },
  {
   "cell_type": "code",
   "execution_count": 375,
   "metadata": {},
   "outputs": [
    {
     "name": "stdout",
     "output_type": "stream",
     "text": [
      "True\n"
     ]
    },
    {
     "data": {
      "text/plain": [
       "California      423967\n",
       "Florida         170312\n",
       "Illinois      12882135\n",
       "New York        141297\n",
       "Texas           695662\n",
       "Name: area, dtype: int64"
      ]
     },
     "execution_count": 375,
     "metadata": {},
     "output_type": "execute_result"
    }
   ],
   "source": [
    "print(data.area is data['area'])\n",
    "data['area'] # same as data.area"
   ]
  },
  {
   "cell_type": "code",
   "execution_count": 376,
   "metadata": {},
   "outputs": [
    {
     "data": {
      "text/html": [
       "<div>\n",
       "<style>\n",
       "    .dataframe thead tr:only-child th {\n",
       "        text-align: right;\n",
       "    }\n",
       "\n",
       "    .dataframe thead th {\n",
       "        text-align: left;\n",
       "    }\n",
       "\n",
       "    .dataframe tbody tr th {\n",
       "        vertical-align: top;\n",
       "    }\n",
       "</style>\n",
       "<table border=\"1\" class=\"dataframe\">\n",
       "  <thead>\n",
       "    <tr style=\"text-align: right;\">\n",
       "      <th></th>\n",
       "      <th>area</th>\n",
       "      <th>pop</th>\n",
       "      <th>density</th>\n",
       "    </tr>\n",
       "  </thead>\n",
       "  <tbody>\n",
       "    <tr>\n",
       "      <th>California</th>\n",
       "      <td>423967</td>\n",
       "      <td>3833521</td>\n",
       "      <td>9.042027</td>\n",
       "    </tr>\n",
       "    <tr>\n",
       "      <th>Florida</th>\n",
       "      <td>170312</td>\n",
       "      <td>19552860</td>\n",
       "      <td>114.806121</td>\n",
       "    </tr>\n",
       "    <tr>\n",
       "      <th>Illinois</th>\n",
       "      <td>12882135</td>\n",
       "      <td>12882135</td>\n",
       "      <td>1.000000</td>\n",
       "    </tr>\n",
       "    <tr>\n",
       "      <th>New York</th>\n",
       "      <td>141297</td>\n",
       "      <td>19651127</td>\n",
       "      <td>139.076746</td>\n",
       "    </tr>\n",
       "    <tr>\n",
       "      <th>Texas</th>\n",
       "      <td>695662</td>\n",
       "      <td>26448193</td>\n",
       "      <td>38.018740</td>\n",
       "    </tr>\n",
       "  </tbody>\n",
       "</table>\n",
       "</div>"
      ],
      "text/plain": [
       "                area       pop     density\n",
       "California    423967   3833521    9.042027\n",
       "Florida       170312  19552860  114.806121\n",
       "Illinois    12882135  12882135    1.000000\n",
       "New York      141297  19651127  139.076746\n",
       "Texas         695662  26448193   38.018740"
      ]
     },
     "execution_count": 376,
     "metadata": {},
     "output_type": "execute_result"
    }
   ],
   "source": [
    "data['density'] = data['pop'] / data['area']\n",
    "data"
   ]
  },
  {
   "cell_type": "markdown",
   "metadata": {},
   "source": [
    "#### 2. DataFrame as two-dimensional array"
   ]
  },
  {
   "cell_type": "code",
   "execution_count": 377,
   "metadata": {
    "scrolled": true
   },
   "outputs": [
    {
     "name": "stdout",
     "output_type": "stream",
     "text": [
      "[  4.23967000e+05   3.83352100e+06   9.04202686e+00]\n",
      "[[  4.23967000e+05   3.83352100e+06   9.04202686e+00]\n",
      " [  1.70312000e+05   1.95528600e+07   1.14806121e+02]\n",
      " [  1.28821350e+07   1.28821350e+07   1.00000000e+00]\n",
      " [  1.41297000e+05   1.96511270e+07   1.39076746e+02]\n",
      " [  6.95662000e+05   2.64481930e+07   3.80187404e+01]]\n",
      "           California       Florida    Illinois      New York         Texas\n",
      "area     4.239670e+05  1.703120e+05  12882135.0  1.412970e+05  6.956620e+05\n",
      "pop      3.833521e+06  1.955286e+07  12882135.0  1.965113e+07  2.644819e+07\n",
      "density  9.042027e+00  1.148061e+02         1.0  1.390767e+02  3.801874e+01\n",
      "California      423967\n",
      "Florida         170312\n",
      "Illinois      12882135\n",
      "New York        141297\n",
      "Texas           695662\n",
      "Name: area, dtype: int64\n"
     ]
    }
   ],
   "source": [
    "# first row\n",
    "print(data.values[0])\n",
    "\n",
    "# raw underlying data\n",
    "print(data.values)\n",
    "\n",
    "# Transpose\n",
    "print(data.T)\n",
    "\n",
    "# Col access\n",
    "print(data['area'])"
   ]
  },
  {
   "cell_type": "code",
   "execution_count": 378,
   "metadata": {},
   "outputs": [
    {
     "name": "stdout",
     "output_type": "stream",
     "text": [
      "                area       pop\n",
      "California    423967   3833521\n",
      "Florida       170312  19552860\n",
      "Illinois    12882135  12882135\n",
      "                area       pop\n",
      "California    423967   3833521\n",
      "Florida       170312  19552860\n",
      "Illinois    12882135  12882135\n",
      "                area       pop\n",
      "California    423967   3833521\n",
      "Florida       170312  19552860\n",
      "Illinois    12882135  12882135\n"
     ]
    },
    {
     "name": "stderr",
     "output_type": "stream",
     "text": [
      "/opt/conda/lib/python3.6/site-packages/ipykernel/__main__.py:6: DeprecationWarning: \n",
      ".ix is deprecated. Please use\n",
      ".loc for label based indexing or\n",
      ".iloc for positional indexing\n",
      "\n",
      "See the documentation here:\n",
      "http://pandas.pydata.org/pandas-docs/stable/indexing.html#deprecate_ix\n"
     ]
    }
   ],
   "source": [
    "# Using different indexers\n",
    "\n",
    "print(data.iloc[:3, :2])\n",
    "data.iloc[0, 2] = 90\n",
    "print(data.loc[:'Illinois', :'pop'])\n",
    "print(data.ix[:3, :'pop'])"
   ]
  },
  {
   "cell_type": "code",
   "execution_count": 379,
   "metadata": {
    "scrolled": false
   },
   "outputs": [
    {
     "data": {
      "text/html": [
       "<div>\n",
       "<style>\n",
       "    .dataframe thead tr:only-child th {\n",
       "        text-align: right;\n",
       "    }\n",
       "\n",
       "    .dataframe thead th {\n",
       "        text-align: left;\n",
       "    }\n",
       "\n",
       "    .dataframe tbody tr th {\n",
       "        vertical-align: top;\n",
       "    }\n",
       "</style>\n",
       "<table border=\"1\" class=\"dataframe\">\n",
       "  <thead>\n",
       "    <tr style=\"text-align: right;\">\n",
       "      <th></th>\n",
       "      <th>pop</th>\n",
       "      <th>density</th>\n",
       "    </tr>\n",
       "  </thead>\n",
       "  <tbody>\n",
       "    <tr>\n",
       "      <th>Florida</th>\n",
       "      <td>19552860</td>\n",
       "      <td>114.806121</td>\n",
       "    </tr>\n",
       "    <tr>\n",
       "      <th>New York</th>\n",
       "      <td>19651127</td>\n",
       "      <td>139.076746</td>\n",
       "    </tr>\n",
       "  </tbody>\n",
       "</table>\n",
       "</div>"
      ],
      "text/plain": [
       "               pop     density\n",
       "Florida   19552860  114.806121\n",
       "New York  19651127  139.076746"
      ]
     },
     "execution_count": 379,
     "metadata": {},
     "output_type": "execute_result"
    }
   ],
   "source": [
    "# masking + fancy indexing\n",
    "data.loc[ data.density > 100, ['pop', 'density']]"
   ]
  },
  {
   "cell_type": "markdown",
   "metadata": {},
   "source": [
    "#### 3. Additional Indexixng Conventions\n",
    "\n",
    "While indexing refers to columns, slicing refers to rows"
   ]
  },
  {
   "cell_type": "code",
   "execution_count": 380,
   "metadata": {},
   "outputs": [
    {
     "data": {
      "text/plain": [
       "California      423967\n",
       "Florida         170312\n",
       "Illinois      12882135\n",
       "New York        141297\n",
       "Texas           695662\n",
       "Name: area, dtype: int64"
      ]
     },
     "execution_count": 380,
     "metadata": {},
     "output_type": "execute_result"
    }
   ],
   "source": [
    "# Indexing refers to columns\n",
    "data['area']"
   ]
  },
  {
   "cell_type": "code",
   "execution_count": 381,
   "metadata": {
    "scrolled": true
   },
   "outputs": [
    {
     "data": {
      "text/html": [
       "<div>\n",
       "<style>\n",
       "    .dataframe thead tr:only-child th {\n",
       "        text-align: right;\n",
       "    }\n",
       "\n",
       "    .dataframe thead th {\n",
       "        text-align: left;\n",
       "    }\n",
       "\n",
       "    .dataframe tbody tr th {\n",
       "        vertical-align: top;\n",
       "    }\n",
       "</style>\n",
       "<table border=\"1\" class=\"dataframe\">\n",
       "  <thead>\n",
       "    <tr style=\"text-align: right;\">\n",
       "      <th></th>\n",
       "      <th>area</th>\n",
       "      <th>pop</th>\n",
       "      <th>density</th>\n",
       "    </tr>\n",
       "  </thead>\n",
       "  <tbody>\n",
       "    <tr>\n",
       "      <th>Florida</th>\n",
       "      <td>170312</td>\n",
       "      <td>19552860</td>\n",
       "      <td>114.806121</td>\n",
       "    </tr>\n",
       "    <tr>\n",
       "      <th>Illinois</th>\n",
       "      <td>12882135</td>\n",
       "      <td>12882135</td>\n",
       "      <td>1.000000</td>\n",
       "    </tr>\n",
       "  </tbody>\n",
       "</table>\n",
       "</div>"
      ],
      "text/plain": [
       "              area       pop     density\n",
       "Florida     170312  19552860  114.806121\n",
       "Illinois  12882135  12882135    1.000000"
      ]
     },
     "execution_count": 381,
     "metadata": {},
     "output_type": "execute_result"
    }
   ],
   "source": [
    "# Slicing refers to rows\n",
    "data['Florida' : 'Illinois']"
   ]
  },
  {
   "cell_type": "markdown",
   "metadata": {
    "collapsed": true
   },
   "source": [
    "### (NOT HERE) Ufuncs: Index Preservation\n",
    "Any NumPy ufunc will work on Pandas Series and DataFrame Objects"
   ]
  },
  {
   "cell_type": "code",
   "execution_count": 382,
   "metadata": {
    "scrolled": true
   },
   "outputs": [
    {
     "name": "stdout",
     "output_type": "stream",
     "text": [
      "0     403.428793\n",
      "1      20.085537\n",
      "2    1096.633158\n",
      "3      54.598150\n",
      "dtype: float64\n",
      "             A            B           C            D\n",
      "0   403.428793  8103.083928    7.389056   403.428793\n",
      "1  1096.633158    54.598150   20.085537  1096.633158\n",
      "2  1096.633158     7.389056  148.413159    54.598150\n",
      "          A             B         C             D\n",
      "0 -1.000000  7.071068e-01  1.000000 -1.000000e+00\n",
      "1 -0.707107  1.224647e-16  0.707107 -7.071068e-01\n",
      "2 -0.707107  1.000000e+00 -0.707107  1.224647e-16\n"
     ]
    }
   ],
   "source": [
    "import numpy as np\n",
    "rng = np.random.RandomState(42)\n",
    "ser = pd.Series(rng.randint(0, 10, 4))\n",
    "df = pd.DataFrame(rng.randint(0, 10, (3,4)), columns=['A', 'B', 'C', 'D'])\n",
    "print(np.exp(ser))\n",
    "print(np.exp(df))\n",
    "print(np.sin(df*np.pi / 4))"
   ]
  },
  {
   "cell_type": "markdown",
   "metadata": {},
   "source": [
    "### (NOT HERE) Handling Missing Data\n",
    "\n",
    "1. Trade-offs in Missing data conventions\n",
    "    <br>1) using a `mask` that glbally indicates missing values\n",
    "    <br>2) or choosing a `sentinel` value that indicates a missing entry<br>\n",
    "2. Missing Data in Pandas\n",
    "    <br>1) None : Pythonic missing data.\n",
    "    <br> because None is a Python object, it cannot be used in any arbrtrary NumPy / Pandas array.\n",
    "    <br>2) NaN : Special floating-point value recognized by all systems."
   ]
  },
  {
   "cell_type": "code",
   "execution_count": 383,
   "metadata": {},
   "outputs": [
    {
     "name": "stdout",
     "output_type": "stream",
     "text": [
      "nan\n",
      "3.0\n",
      "1.0\n",
      "2.0\n"
     ]
    }
   ],
   "source": [
    "# Some special NaN operations\n",
    "a = [1, 2, np.nan]\n",
    "print(sum(a))       # return nan\n",
    "print(np.nansum(a)) # return value after operating w/o nan\n",
    "print(np.nanmin(a))\n",
    "print(np.nanmax(a))"
   ]
  },
  {
   "cell_type": "markdown",
   "metadata": {},
   "source": [
    "3) Null : To facilitate this convention, there are several useful methods for detecting, removing, and replacing null values in Pandas"
   ]
  },
  {
   "cell_type": "code",
   "execution_count": 384,
   "metadata": {},
   "outputs": [
    {
     "name": "stdout",
     "output_type": "stream",
     "text": [
      "     b\n",
      "0  1.0\n",
      "1  2.0\n",
      "2  NaN\n",
      "       b\n",
      "0  False\n",
      "1  False\n",
      "2   True\n",
      "       b\n",
      "0   True\n",
      "1   True\n",
      "2  False\n",
      "     b\n",
      "0  1.0\n",
      "1  2.0\n",
      "     b\n",
      "0  1.0\n",
      "1  2.0\n",
      "2  0.0\n",
      "     b\n",
      "0  1.0\n",
      "1  2.0\n",
      "2  2.0\n",
      "     b\n",
      "0  1.0\n",
      "1  2.0\n",
      "2  NaN\n"
     ]
    }
   ],
   "source": [
    "b = pd.DataFrame( {'b' : [1, 2, None ]})\n",
    "print(b)\n",
    "print(b.isnull())\n",
    "print(b.notnull())\n",
    "print(b.dropna())\n",
    "print(b.fillna(0))\n",
    "print(b.fillna(method='ffill')) #forward fill\n",
    "print(b.fillna(method='bfill')) #backward fill"
   ]
  },
  {
   "cell_type": "markdown",
   "metadata": {},
   "source": [
    "### (NOT HERE) Hierarchical Indexing (Multi-Indexing)\n",
    "\n",
    "Data indexed by more than one or two keys. (Pandas : `Panel, Panel 4D Object`)"
   ]
  },
  {
   "cell_type": "markdown",
   "metadata": {},
   "source": [
    "#### 1. Multi-Index Creation"
   ]
  },
  {
   "cell_type": "markdown",
   "metadata": {},
   "source": [
    "###### The Bad Way"
   ]
  },
  {
   "cell_type": "code",
   "execution_count": 385,
   "metadata": {
    "scrolled": true
   },
   "outputs": [
    {
     "name": "stdout",
     "output_type": "stream",
     "text": [
      "(California, 2000)    33871648\n",
      "(California, 2010)    37253956\n",
      "(New York, 2000)      20851820\n",
      "(New York, 2010)      25145561\n",
      "(Texas, 2000)         18976457\n",
      "(Texas, 2010)         19378102\n",
      "dtype: int64\n"
     ]
    },
    {
     "data": {
      "text/plain": [
       "(California, 2010)    37253956\n",
       "(New York, 2010)      25145561\n",
       "(Texas, 2010)         19378102\n",
       "dtype: int64"
      ]
     },
     "execution_count": 385,
     "metadata": {},
     "output_type": "execute_result"
    }
   ],
   "source": [
    "index = [ ('California', 2000), ('California', 2010), ('New York', 2000), ('New York', 2010), \n",
    "        ('Texas', 2000), ('Texas', 2010) ]\n",
    "populations = [ 33871648, 37253956, 20851820, 25145561, 18976457, 19378102]\n",
    "\n",
    "pop = pd.Series(populations, index= index)\n",
    "print(pop)\n",
    "\n",
    "# messy code to find all event in 2010\n",
    "pop[[i for i in pop.index if i[1] == 2010]]"
   ]
  },
  {
   "cell_type": "markdown",
   "metadata": {},
   "source": [
    "###### The Better Way\n",
    "**\\- Pass a list of two or more index arrays**"
   ]
  },
  {
   "cell_type": "code",
   "execution_count": 386,
   "metadata": {},
   "outputs": [
    {
     "data": {
      "text/html": [
       "<div>\n",
       "<style>\n",
       "    .dataframe thead tr:only-child th {\n",
       "        text-align: right;\n",
       "    }\n",
       "\n",
       "    .dataframe thead th {\n",
       "        text-align: left;\n",
       "    }\n",
       "\n",
       "    .dataframe tbody tr th {\n",
       "        vertical-align: top;\n",
       "    }\n",
       "</style>\n",
       "<table border=\"1\" class=\"dataframe\">\n",
       "  <thead>\n",
       "    <tr style=\"text-align: right;\">\n",
       "      <th></th>\n",
       "      <th></th>\n",
       "      <th>data1</th>\n",
       "      <th>data2</th>\n",
       "    </tr>\n",
       "  </thead>\n",
       "  <tbody>\n",
       "    <tr>\n",
       "      <th rowspan=\"2\" valign=\"top\">a</th>\n",
       "      <th>1</th>\n",
       "      <td>0.175772</td>\n",
       "      <td>0.741495</td>\n",
       "    </tr>\n",
       "    <tr>\n",
       "      <th>2</th>\n",
       "      <td>0.960148</td>\n",
       "      <td>0.068158</td>\n",
       "    </tr>\n",
       "    <tr>\n",
       "      <th rowspan=\"2\" valign=\"top\">b</th>\n",
       "      <th>1</th>\n",
       "      <td>0.272201</td>\n",
       "      <td>0.086565</td>\n",
       "    </tr>\n",
       "    <tr>\n",
       "      <th>2</th>\n",
       "      <td>0.711245</td>\n",
       "      <td>0.925397</td>\n",
       "    </tr>\n",
       "  </tbody>\n",
       "</table>\n",
       "</div>"
      ],
      "text/plain": [
       "        data1     data2\n",
       "a 1  0.175772  0.741495\n",
       "  2  0.960148  0.068158\n",
       "b 1  0.272201  0.086565\n",
       "  2  0.711245  0.925397"
      ]
     },
     "execution_count": 386,
     "metadata": {},
     "output_type": "execute_result"
    }
   ],
   "source": [
    "df = pd.DataFrame(np.random.rand(4,2), index= [['a', 'a', 'b', 'b'], [1, 2, 1, 2]], columns = ['data1', 'data2'])\n",
    "df"
   ]
  },
  {
   "cell_type": "markdown",
   "metadata": {},
   "source": [
    "**\\-Pass a dictionary with appropriate tuples as keys**"
   ]
  },
  {
   "cell_type": "code",
   "execution_count": 387,
   "metadata": {
    "scrolled": false
   },
   "outputs": [
    {
     "data": {
      "text/plain": [
       "California  2000    33871648\n",
       "            2010    37253956\n",
       "New York    2000    18976457\n",
       "            2010    19378102\n",
       "Texas       2000    20851820\n",
       "            2010    25145561\n",
       "dtype: int64"
      ]
     },
     "execution_count": 387,
     "metadata": {},
     "output_type": "execute_result"
    }
   ],
   "source": [
    "data = {('California', 2000): 33871648, ('California', 2010): 37253956, ('New York', 2000): 18976457, \n",
    "        ('New York', 2010): 19378102, ('Texas', 2000): 20851820, ('Texas', 2010): 25145561 }\n",
    "pop = pd.Series(data)\n",
    "pop"
   ]
  },
  {
   "cell_type": "code",
   "execution_count": 388,
   "metadata": {},
   "outputs": [
    {
     "data": {
      "text/plain": [
       "California    37253956\n",
       "New York      19378102\n",
       "Texas         25145561\n",
       "dtype: int64"
      ]
     },
     "execution_count": 388,
     "metadata": {},
     "output_type": "execute_result"
    }
   ],
   "source": [
    "pop[:, 2010]"
   ]
  },
  {
   "cell_type": "markdown",
   "metadata": {},
   "source": [
    "** \\-Explicit Multi-Index Constructor**"
   ]
  },
  {
   "cell_type": "code",
   "execution_count": 389,
   "metadata": {},
   "outputs": [
    {
     "data": {
      "text/plain": [
       "MultiIndex(levels=[['a', 'b'], [1, 2]],\n",
       "           labels=[[0, 0, 1, 1], [0, 1, 0, 1]])"
      ]
     },
     "execution_count": 389,
     "metadata": {},
     "output_type": "execute_result"
    }
   ],
   "source": [
    "# directly from its encoding\n",
    "pd.MultiIndex(levels= [['a', 'b'], [1, 2]], labels= [[0, 0, 1, 1], [0, 1, 0, 1]])\n",
    "    # 여기서 라벨은 앞의 level을 받는 것\n",
    "    # 아래 Cartesian은 자동으로 교차 선택이라면, 여기서는 수동으로 골라주는 것이다."
   ]
  },
  {
   "cell_type": "code",
   "execution_count": 390,
   "metadata": {
    "collapsed": true
   },
   "outputs": [],
   "source": [
    "# from a single list of array\n",
    "index1 = pd.MultiIndex.from_arrays( [['a', 'a', 'b', 'b'], [1, 2, 1, 2]])"
   ]
  },
  {
   "cell_type": "code",
   "execution_count": 391,
   "metadata": {},
   "outputs": [
    {
     "data": {
      "text/plain": [
       "MultiIndex(levels=[['a', 'b'], [1, 2]],\n",
       "           labels=[[0, 0, 1, 1], [0, 1, 0, 1]])"
      ]
     },
     "execution_count": 391,
     "metadata": {},
     "output_type": "execute_result"
    }
   ],
   "source": [
    "# from a list of tuples\n",
    "pd.MultiIndex.from_tuples([ ('a', 1), ('a', 2), ('b', 1), ('b', 2)])"
   ]
  },
  {
   "cell_type": "code",
   "execution_count": 392,
   "metadata": {
    "scrolled": true
   },
   "outputs": [
    {
     "data": {
      "text/plain": [
       "MultiIndex(levels=[['a', 'b'], [1, 2]],\n",
       "           labels=[[0, 0, 1, 1], [0, 1, 0, 1]])"
      ]
     },
     "execution_count": 392,
     "metadata": {},
     "output_type": "execute_result"
    }
   ],
   "source": [
    "# from a Cartesian product\n",
    "pd.MultiIndex.from_product([['a', 'b'], [1, 2]])"
   ]
  },
  {
   "cell_type": "code",
   "execution_count": 393,
   "metadata": {
    "scrolled": true
   },
   "outputs": [
    {
     "data": {
      "text/plain": [
       "California  2000    33871648\n",
       "            2010    37253956\n",
       "New York    2000    18976457\n",
       "            2010    19378102\n",
       "Texas       2000    20851820\n",
       "            2010    25145561\n",
       "dtype: int64"
      ]
     },
     "execution_count": 393,
     "metadata": {},
     "output_type": "execute_result"
    }
   ],
   "source": [
    "# Index를 만든 다음, 아래처럼 reindex를 해준다.\n",
    "pop = pop.reindex(index)\n",
    "pop"
   ]
  },
  {
   "cell_type": "markdown",
   "metadata": {},
   "source": [
    "**\\- Another way - add extra dimension**"
   ]
  },
  {
   "cell_type": "code",
   "execution_count": 394,
   "metadata": {},
   "outputs": [
    {
     "name": "stdout",
     "output_type": "stream",
     "text": [
      "                2000      2010\n",
      "California  33871648  37253956\n",
      "New York    18976457  19378102\n",
      "Texas       20851820  25145561\n"
     ]
    },
    {
     "data": {
      "text/plain": [
       "California  2000    33871648\n",
       "            2010    37253956\n",
       "New York    2000    18976457\n",
       "            2010    19378102\n",
       "Texas       2000    20851820\n",
       "            2010    25145561\n",
       "dtype: int64"
      ]
     },
     "execution_count": 394,
     "metadata": {},
     "output_type": "execute_result"
    }
   ],
   "source": [
    "pop_df = pop.unstack()\n",
    "print(pop_df)\n",
    "\n",
    "#opposite operation\n",
    "pop_df.stack()\n",
    "pop"
   ]
  },
  {
   "cell_type": "markdown",
   "metadata": {},
   "source": [
    "**\\-MultiIndex Level Names**"
   ]
  },
  {
   "cell_type": "code",
   "execution_count": 395,
   "metadata": {},
   "outputs": [
    {
     "data": {
      "text/plain": [
       "FrozenList([None, None])"
      ]
     },
     "execution_count": 395,
     "metadata": {},
     "output_type": "execute_result"
    }
   ],
   "source": [
    "pop.index.names"
   ]
  },
  {
   "cell_type": "code",
   "execution_count": 396,
   "metadata": {
    "scrolled": true
   },
   "outputs": [
    {
     "data": {
      "text/plain": [
       "state       year\n",
       "California  2000    33871648\n",
       "            2010    37253956\n",
       "New York    2000    18976457\n",
       "            2010    19378102\n",
       "Texas       2000    20851820\n",
       "            2010    25145561\n",
       "dtype: int64"
      ]
     },
     "execution_count": 396,
     "metadata": {},
     "output_type": "execute_result"
    }
   ],
   "source": [
    "pop.index.names = ['state', 'year']\n",
    "pop"
   ]
  },
  {
   "cell_type": "markdown",
   "metadata": {},
   "source": [
    "**\\-MultiIndex For Columns**"
   ]
  },
  {
   "cell_type": "code",
   "execution_count": 397,
   "metadata": {
    "scrolled": false
   },
   "outputs": [
    {
     "data": {
      "text/html": [
       "<div>\n",
       "<style>\n",
       "    .dataframe thead tr:only-child th {\n",
       "        text-align: right;\n",
       "    }\n",
       "\n",
       "    .dataframe thead th {\n",
       "        text-align: left;\n",
       "    }\n",
       "\n",
       "    .dataframe tbody tr th {\n",
       "        vertical-align: top;\n",
       "    }\n",
       "</style>\n",
       "<table border=\"1\" class=\"dataframe\">\n",
       "  <thead>\n",
       "    <tr>\n",
       "      <th></th>\n",
       "      <th>subject</th>\n",
       "      <th colspan=\"2\" halign=\"left\">Bob</th>\n",
       "      <th colspan=\"2\" halign=\"left\">Guido</th>\n",
       "      <th colspan=\"2\" halign=\"left\">Sue</th>\n",
       "    </tr>\n",
       "    <tr>\n",
       "      <th></th>\n",
       "      <th>type</th>\n",
       "      <th>HR</th>\n",
       "      <th>Temp</th>\n",
       "      <th>HR</th>\n",
       "      <th>Temp</th>\n",
       "      <th>HR</th>\n",
       "      <th>Temp</th>\n",
       "    </tr>\n",
       "    <tr>\n",
       "      <th>year</th>\n",
       "      <th>visit</th>\n",
       "      <th></th>\n",
       "      <th></th>\n",
       "      <th></th>\n",
       "      <th></th>\n",
       "      <th></th>\n",
       "      <th></th>\n",
       "    </tr>\n",
       "  </thead>\n",
       "  <tbody>\n",
       "    <tr>\n",
       "      <th rowspan=\"2\" valign=\"top\">2013</th>\n",
       "      <th>1</th>\n",
       "      <td>-23.0</td>\n",
       "      <td>-1.8</td>\n",
       "      <td>-1.0</td>\n",
       "      <td>-0.3</td>\n",
       "      <td>9.0</td>\n",
       "      <td>-0.3</td>\n",
       "    </tr>\n",
       "    <tr>\n",
       "      <th>2</th>\n",
       "      <td>3.0</td>\n",
       "      <td>0.2</td>\n",
       "      <td>-10.0</td>\n",
       "      <td>-1.6</td>\n",
       "      <td>-11.0</td>\n",
       "      <td>0.1</td>\n",
       "    </tr>\n",
       "    <tr>\n",
       "      <th rowspan=\"2\" valign=\"top\">2014</th>\n",
       "      <th>1</th>\n",
       "      <td>-11.0</td>\n",
       "      <td>-0.7</td>\n",
       "      <td>4.0</td>\n",
       "      <td>0.5</td>\n",
       "      <td>-8.0</td>\n",
       "      <td>-0.4</td>\n",
       "    </tr>\n",
       "    <tr>\n",
       "      <th>2</th>\n",
       "      <td>-4.0</td>\n",
       "      <td>-1.3</td>\n",
       "      <td>-1.0</td>\n",
       "      <td>-0.2</td>\n",
       "      <td>-11.0</td>\n",
       "      <td>-0.0</td>\n",
       "    </tr>\n",
       "  </tbody>\n",
       "</table>\n",
       "</div>"
      ],
      "text/plain": [
       "subject      Bob      Guido        Sue     \n",
       "type          HR Temp    HR Temp    HR Temp\n",
       "year visit                                 \n",
       "2013 1     -23.0 -1.8  -1.0 -0.3   9.0 -0.3\n",
       "     2       3.0  0.2 -10.0 -1.6 -11.0  0.1\n",
       "2014 1     -11.0 -0.7   4.0  0.5  -8.0 -0.4\n",
       "     2      -4.0 -1.3  -1.0 -0.2 -11.0 -0.0"
      ]
     },
     "execution_count": 397,
     "metadata": {},
     "output_type": "execute_result"
    }
   ],
   "source": [
    "# Hierarchical Indices and columns\n",
    "index = pd.MultiIndex.from_product( [[2013, 2014], [1, 2]], names= ['year', 'visit'] )\n",
    "columns = pd.MultiIndex.from_product( [['Bob', 'Guido', 'Sue'], ['HR', 'Temp']], names= ['subject', 'type'] )\n",
    "\n",
    "# mock some data\n",
    "data = np.round(np.random.randn(4,6), 1)\n",
    "data[:, ::2]*= 10\n",
    "\n",
    "# Create the DataFrame\n",
    "health_data = pd.DataFrame(data, index= index, columns= columns)\n",
    "health_data"
   ]
  },
  {
   "cell_type": "markdown",
   "metadata": {},
   "source": [
    "#### 2. Indexing and Slicing a MultiIndex"
   ]
  },
  {
   "cell_type": "markdown",
   "metadata": {},
   "source": [
    "**\\-Series**"
   ]
  },
  {
   "cell_type": "code",
   "execution_count": 398,
   "metadata": {},
   "outputs": [
    {
     "data": {
      "text/plain": [
       "state       year\n",
       "California  2000    33871648\n",
       "            2010    37253956\n",
       "New York    2000    18976457\n",
       "            2010    19378102\n",
       "Texas       2000    20851820\n",
       "            2010    25145561\n",
       "dtype: int64"
      ]
     },
     "execution_count": 398,
     "metadata": {},
     "output_type": "execute_result"
    }
   ],
   "source": [
    "pop"
   ]
  },
  {
   "cell_type": "code",
   "execution_count": 403,
   "metadata": {},
   "outputs": [
    {
     "data": {
      "text/plain": [
       "33871648"
      ]
     },
     "execution_count": 403,
     "metadata": {},
     "output_type": "execute_result"
    }
   ],
   "source": [
    "pop['California', 2000]"
   ]
  },
  {
   "cell_type": "code",
   "execution_count": 404,
   "metadata": {
    "scrolled": true
   },
   "outputs": [
    {
     "data": {
      "text/plain": [
       "year\n",
       "2000    33871648\n",
       "2010    37253956\n",
       "dtype: int64"
      ]
     },
     "execution_count": 404,
     "metadata": {},
     "output_type": "execute_result"
    }
   ],
   "source": [
    "# partial indexing\n",
    "pop['California']"
   ]
  },
  {
   "cell_type": "code",
   "execution_count": 405,
   "metadata": {},
   "outputs": [
    {
     "data": {
      "text/plain": [
       "state       year\n",
       "California  2000    33871648\n",
       "            2010    37253956\n",
       "New York    2000    18976457\n",
       "            2010    19378102\n",
       "dtype: int64"
      ]
     },
     "execution_count": 405,
     "metadata": {},
     "output_type": "execute_result"
    }
   ],
   "source": [
    "# partial slicing\n",
    "pop['California':'New York']"
   ]
  },
  {
   "cell_type": "code",
   "execution_count": 410,
   "metadata": {},
   "outputs": [
    {
     "data": {
      "text/plain": [
       "state\n",
       "California    33871648\n",
       "New York      18976457\n",
       "Texas         20851820\n",
       "dtype: int64"
      ]
     },
     "execution_count": 410,
     "metadata": {},
     "output_type": "execute_result"
    }
   ],
   "source": [
    "# partial indexing on lower level\n",
    "pop[:, 2000]"
   ]
  },
  {
   "cell_type": "code",
   "execution_count": 424,
   "metadata": {
    "scrolled": true
   },
   "outputs": [
    {
     "name": "stdout",
     "output_type": "stream",
     "text": [
      "state       year\n",
      "California  2000    33871648\n",
      "            2010    37253956\n",
      "Texas       2010    25145561\n",
      "dtype: int64\n",
      "state       year\n",
      "California  2000    33871648\n",
      "Texas       2000    20851820\n",
      "dtype: int64\n"
     ]
    }
   ],
   "source": [
    "print( pop[ pop> 22000000])  # boolean mask\n",
    "print( pop[ [('California', 2000), ('Texas', 2000)]])  # fancy indexing"
   ]
  },
  {
   "cell_type": "markdown",
   "metadata": {},
   "source": [
    "**\\-DataFrame**"
   ]
  },
  {
   "cell_type": "code",
   "execution_count": 428,
   "metadata": {},
   "outputs": [
    {
     "data": {
      "text/html": [
       "<div>\n",
       "<style>\n",
       "    .dataframe thead tr:only-child th {\n",
       "        text-align: right;\n",
       "    }\n",
       "\n",
       "    .dataframe thead th {\n",
       "        text-align: left;\n",
       "    }\n",
       "\n",
       "    .dataframe tbody tr th {\n",
       "        vertical-align: top;\n",
       "    }\n",
       "</style>\n",
       "<table border=\"1\" class=\"dataframe\">\n",
       "  <thead>\n",
       "    <tr>\n",
       "      <th></th>\n",
       "      <th>subject</th>\n",
       "      <th colspan=\"2\" halign=\"left\">Bob</th>\n",
       "      <th colspan=\"2\" halign=\"left\">Guido</th>\n",
       "      <th colspan=\"2\" halign=\"left\">Sue</th>\n",
       "    </tr>\n",
       "    <tr>\n",
       "      <th></th>\n",
       "      <th>type</th>\n",
       "      <th>HR</th>\n",
       "      <th>Temp</th>\n",
       "      <th>HR</th>\n",
       "      <th>Temp</th>\n",
       "      <th>HR</th>\n",
       "      <th>Temp</th>\n",
       "    </tr>\n",
       "    <tr>\n",
       "      <th>year</th>\n",
       "      <th>visit</th>\n",
       "      <th></th>\n",
       "      <th></th>\n",
       "      <th></th>\n",
       "      <th></th>\n",
       "      <th></th>\n",
       "      <th></th>\n",
       "    </tr>\n",
       "  </thead>\n",
       "  <tbody>\n",
       "    <tr>\n",
       "      <th rowspan=\"2\" valign=\"top\">2013</th>\n",
       "      <th>1</th>\n",
       "      <td>-23.0</td>\n",
       "      <td>-1.8</td>\n",
       "      <td>-1.0</td>\n",
       "      <td>-0.3</td>\n",
       "      <td>9.0</td>\n",
       "      <td>-0.3</td>\n",
       "    </tr>\n",
       "    <tr>\n",
       "      <th>2</th>\n",
       "      <td>3.0</td>\n",
       "      <td>0.2</td>\n",
       "      <td>-10.0</td>\n",
       "      <td>-1.6</td>\n",
       "      <td>-11.0</td>\n",
       "      <td>0.1</td>\n",
       "    </tr>\n",
       "    <tr>\n",
       "      <th rowspan=\"2\" valign=\"top\">2014</th>\n",
       "      <th>1</th>\n",
       "      <td>-11.0</td>\n",
       "      <td>-0.7</td>\n",
       "      <td>4.0</td>\n",
       "      <td>0.5</td>\n",
       "      <td>-8.0</td>\n",
       "      <td>-0.4</td>\n",
       "    </tr>\n",
       "    <tr>\n",
       "      <th>2</th>\n",
       "      <td>-4.0</td>\n",
       "      <td>-1.3</td>\n",
       "      <td>-1.0</td>\n",
       "      <td>-0.2</td>\n",
       "      <td>-11.0</td>\n",
       "      <td>-0.0</td>\n",
       "    </tr>\n",
       "  </tbody>\n",
       "</table>\n",
       "</div>"
      ],
      "text/plain": [
       "subject      Bob      Guido        Sue     \n",
       "type          HR Temp    HR Temp    HR Temp\n",
       "year visit                                 \n",
       "2013 1     -23.0 -1.8  -1.0 -0.3   9.0 -0.3\n",
       "     2       3.0  0.2 -10.0 -1.6 -11.0  0.1\n",
       "2014 1     -11.0 -0.7   4.0  0.5  -8.0 -0.4\n",
       "     2      -4.0 -1.3  -1.0 -0.2 -11.0 -0.0"
      ]
     },
     "execution_count": 428,
     "metadata": {},
     "output_type": "execute_result"
    }
   ],
   "source": [
    "health_data"
   ]
  },
  {
   "cell_type": "code",
   "execution_count": 429,
   "metadata": {},
   "outputs": [
    {
     "data": {
      "text/plain": [
       "year  visit\n",
       "2013  1        -1.0\n",
       "      2       -10.0\n",
       "2014  1         4.0\n",
       "      2        -1.0\n",
       "Name: (Guido, HR), dtype: float64"
      ]
     },
     "execution_count": 429,
     "metadata": {},
     "output_type": "execute_result"
    }
   ],
   "source": [
    "health_data['Guido', 'HR']"
   ]
  },
  {
   "cell_type": "code",
   "execution_count": 431,
   "metadata": {},
   "outputs": [
    {
     "data": {
      "text/html": [
       "<div>\n",
       "<style>\n",
       "    .dataframe thead tr:only-child th {\n",
       "        text-align: right;\n",
       "    }\n",
       "\n",
       "    .dataframe thead th {\n",
       "        text-align: left;\n",
       "    }\n",
       "\n",
       "    .dataframe tbody tr th {\n",
       "        vertical-align: top;\n",
       "    }\n",
       "</style>\n",
       "<table border=\"1\" class=\"dataframe\">\n",
       "  <thead>\n",
       "    <tr>\n",
       "      <th></th>\n",
       "      <th>subject</th>\n",
       "      <th colspan=\"2\" halign=\"left\">Bob</th>\n",
       "    </tr>\n",
       "    <tr>\n",
       "      <th></th>\n",
       "      <th>type</th>\n",
       "      <th>HR</th>\n",
       "      <th>Temp</th>\n",
       "    </tr>\n",
       "    <tr>\n",
       "      <th>year</th>\n",
       "      <th>visit</th>\n",
       "      <th></th>\n",
       "      <th></th>\n",
       "    </tr>\n",
       "  </thead>\n",
       "  <tbody>\n",
       "    <tr>\n",
       "      <th rowspan=\"2\" valign=\"top\">2013</th>\n",
       "      <th>1</th>\n",
       "      <td>-23.0</td>\n",
       "      <td>-1.8</td>\n",
       "    </tr>\n",
       "    <tr>\n",
       "      <th>2</th>\n",
       "      <td>3.0</td>\n",
       "      <td>0.2</td>\n",
       "    </tr>\n",
       "  </tbody>\n",
       "</table>\n",
       "</div>"
      ],
      "text/plain": [
       "subject      Bob     \n",
       "type          HR Temp\n",
       "year visit           \n",
       "2013 1     -23.0 -1.8\n",
       "     2       3.0  0.2"
      ]
     },
     "execution_count": 431,
     "metadata": {},
     "output_type": "execute_result"
    }
   ],
   "source": [
    "health_data.iloc[:2, :2]"
   ]
  },
  {
   "cell_type": "code",
   "execution_count": 432,
   "metadata": {},
   "outputs": [
    {
     "data": {
      "text/plain": [
       "year  visit\n",
       "2013  1       -23.0\n",
       "      2         3.0\n",
       "2014  1       -11.0\n",
       "      2        -4.0\n",
       "Name: (Bob, HR), dtype: float64"
      ]
     },
     "execution_count": 432,
     "metadata": {},
     "output_type": "execute_result"
    }
   ],
   "source": [
    "health_data.loc[:, ('Bob', 'HR')]"
   ]
  },
  {
   "cell_type": "markdown",
   "metadata": {},
   "source": [
    "#### 3. Rearranging Multiple Indices\n",
    "\n",
    "Many of the MultiIndex slicing operations ***will fail*** if the index is not sorted."
   ]
  },
  {
   "cell_type": "markdown",
   "metadata": {},
   "source": [
    "**\\-Unsorted Indices**"
   ]
  },
  {
   "cell_type": "code",
   "execution_count": 451,
   "metadata": {},
   "outputs": [
    {
     "data": {
      "text/plain": [
       "char  int\n",
       "a     1      0.483173\n",
       "      2      0.329294\n",
       "c     1      0.367498\n",
       "      2      0.059973\n",
       "b     1      0.386499\n",
       "      2      0.442006\n",
       "dtype: float64"
      ]
     },
     "execution_count": 451,
     "metadata": {},
     "output_type": "execute_result"
    }
   ],
   "source": [
    "# Unsorted Data\n",
    "index = pd.MultiIndex.from_product([ ['a', 'c', 'b'], [1, 2]])\n",
    "data = pd.Series( np.random.rand(6), index= index)\n",
    "data.index.names = ['char', 'int']\n",
    "data"
   ]
  },
  {
   "cell_type": "code",
   "execution_count": 453,
   "metadata": {},
   "outputs": [
    {
     "name": "stdout",
     "output_type": "stream",
     "text": [
      "error!\n",
      "<class 'pandas.errors.UnsortedIndexError'>\n",
      "'Key length (1) was greater than MultiIndex lexsort depth (0)'\n"
     ]
    }
   ],
   "source": [
    "# will make an error\n",
    "try : data['a' : 'b'] \n",
    "    \n",
    "except KeyError as e :\n",
    "    print(\"error!\")\n",
    "    print(type(e))\n",
    "    print(e)"
   ]
  },
  {
   "cell_type": "markdown",
   "metadata": {},
   "source": [
    "**\\-Sorting**"
   ]
  },
  {
   "cell_type": "code",
   "execution_count": 455,
   "metadata": {},
   "outputs": [
    {
     "name": "stdout",
     "output_type": "stream",
     "text": [
      "char  int\n",
      "a     1      0.483173\n",
      "      2      0.329294\n",
      "b     1      0.386499\n",
      "      2      0.442006\n",
      "c     1      0.367498\n",
      "      2      0.059973\n",
      "dtype: float64\n",
      "char  int\n",
      "a     1      0.483173\n",
      "      2      0.329294\n",
      "b     1      0.386499\n",
      "      2      0.442006\n",
      "c     1      0.367498\n",
      "      2      0.059973\n",
      "dtype: float64\n"
     ]
    },
    {
     "name": "stderr",
     "output_type": "stream",
     "text": [
      "/opt/conda/lib/python3.6/site-packages/ipykernel/__main__.py:4: FutureWarning: sortlevel is deprecated, use sort_index(level=...)\n"
     ]
    }
   ],
   "source": [
    "data = data.sort_index()\n",
    "print(data)\n",
    "\n",
    "data = data.sortlevel()\n",
    "print(data)"
   ]
  },
  {
   "cell_type": "markdown",
   "metadata": {},
   "source": [
    "**\\-Stacking & Unstacking**"
   ]
  },
  {
   "cell_type": "code",
   "execution_count": 458,
   "metadata": {},
   "outputs": [
    {
     "data": {
      "text/plain": [
       "state       year\n",
       "California  2000    33871648\n",
       "            2010    37253956\n",
       "New York    2000    18976457\n",
       "            2010    19378102\n",
       "Texas       2000    20851820\n",
       "            2010    25145561\n",
       "dtype: int64"
      ]
     },
     "execution_count": 458,
     "metadata": {},
     "output_type": "execute_result"
    }
   ],
   "source": [
    "pop"
   ]
  },
  {
   "cell_type": "code",
   "execution_count": 460,
   "metadata": {
    "scrolled": true
   },
   "outputs": [
    {
     "name": "stdout",
     "output_type": "stream",
     "text": [
      "state  California  New York     Texas\n",
      "year                                 \n",
      "2000     33871648  18976457  20851820\n",
      "2010     37253956  19378102  25145561\n",
      "\n",
      " year            2000      2010\n",
      "state                         \n",
      "California  33871648  37253956\n",
      "New York    18976457  19378102\n",
      "Texas       20851820  25145561\n",
      "\n",
      " state       year\n",
      "California  2000    33871648\n",
      "            2010    37253956\n",
      "New York    2000    18976457\n",
      "            2010    19378102\n",
      "Texas       2000    20851820\n",
      "            2010    25145561\n",
      "dtype: int64\n"
     ]
    }
   ],
   "source": [
    "print(pop.unstack(level = 0))\n",
    "print(\"\\n\", pop.unstack(level = 1))  # default is level 1\n",
    "print(\"\\n\", pop.unstack().stack())"
   ]
  },
  {
   "cell_type": "markdown",
   "metadata": {},
   "source": [
    "**\\-Index setting and resetting**"
   ]
  },
  {
   "cell_type": "code",
   "execution_count": 462,
   "metadata": {
    "scrolled": false
   },
   "outputs": [
    {
     "name": "stdout",
     "output_type": "stream",
     "text": [
      "        state  year  population\n",
      "0  California  2000    33871648\n",
      "1  California  2010    37253956\n",
      "2    New York  2000    18976457\n",
      "3    New York  2010    19378102\n",
      "4       Texas  2000    20851820\n",
      "5       Texas  2010    25145561\n",
      "                 population\n",
      "state      year            \n",
      "California 2000    33871648\n",
      "           2010    37253956\n",
      "New York   2000    18976457\n",
      "           2010    19378102\n",
      "Texas      2000    20851820\n",
      "           2010    25145561\n"
     ]
    }
   ],
   "source": [
    "# turn the index labels into columns\n",
    "pop_flat = pop.reset_index(name = 'population')\n",
    "print(pop_flat)\n",
    "\n",
    "# Now the reverse\n",
    "print(pop_flat.set_index(['state', 'year']))"
   ]
  },
  {
   "cell_type": "markdown",
   "metadata": {},
   "source": [
    "#### 4. Data Aggregation on Multi Indices\n",
    "Pandas has built-in data aggregation methods."
   ]
  },
  {
   "cell_type": "code",
   "execution_count": 475,
   "metadata": {},
   "outputs": [
    {
     "data": {
      "text/html": [
       "<div>\n",
       "<style>\n",
       "    .dataframe thead tr:only-child th {\n",
       "        text-align: right;\n",
       "    }\n",
       "\n",
       "    .dataframe thead th {\n",
       "        text-align: left;\n",
       "    }\n",
       "\n",
       "    .dataframe tbody tr th {\n",
       "        vertical-align: top;\n",
       "    }\n",
       "</style>\n",
       "<table border=\"1\" class=\"dataframe\">\n",
       "  <thead>\n",
       "    <tr>\n",
       "      <th>subject</th>\n",
       "      <th colspan=\"2\" halign=\"left\">Bob</th>\n",
       "      <th colspan=\"2\" halign=\"left\">Guido</th>\n",
       "      <th colspan=\"2\" halign=\"left\">Sue</th>\n",
       "    </tr>\n",
       "    <tr>\n",
       "      <th>type</th>\n",
       "      <th>HR</th>\n",
       "      <th>Temp</th>\n",
       "      <th>HR</th>\n",
       "      <th>Temp</th>\n",
       "      <th>HR</th>\n",
       "      <th>Temp</th>\n",
       "    </tr>\n",
       "    <tr>\n",
       "      <th>year</th>\n",
       "      <th></th>\n",
       "      <th></th>\n",
       "      <th></th>\n",
       "      <th></th>\n",
       "      <th></th>\n",
       "      <th></th>\n",
       "    </tr>\n",
       "  </thead>\n",
       "  <tbody>\n",
       "    <tr>\n",
       "      <th>2013</th>\n",
       "      <td>-10.0</td>\n",
       "      <td>-0.8</td>\n",
       "      <td>-5.5</td>\n",
       "      <td>-0.95</td>\n",
       "      <td>-1.0</td>\n",
       "      <td>-0.1</td>\n",
       "    </tr>\n",
       "    <tr>\n",
       "      <th>2014</th>\n",
       "      <td>-7.5</td>\n",
       "      <td>-1.0</td>\n",
       "      <td>1.5</td>\n",
       "      <td>0.15</td>\n",
       "      <td>-9.5</td>\n",
       "      <td>-0.2</td>\n",
       "    </tr>\n",
       "  </tbody>\n",
       "</table>\n",
       "</div>"
      ],
      "text/plain": [
       "subject   Bob      Guido        Sue     \n",
       "type       HR Temp    HR  Temp   HR Temp\n",
       "year                                    \n",
       "2013    -10.0 -0.8  -5.5 -0.95 -1.0 -0.1\n",
       "2014     -7.5 -1.0   1.5  0.15 -9.5 -0.2"
      ]
     },
     "execution_count": 475,
     "metadata": {},
     "output_type": "execute_result"
    }
   ],
   "source": [
    "data_mean"
   ]
  },
  {
   "cell_type": "code",
   "execution_count": 480,
   "metadata": {},
   "outputs": [
    {
     "name": "stdout",
     "output_type": "stream",
     "text": [
      "subject   Bob      Guido        Sue     \n",
      "type       HR Temp    HR  Temp   HR Temp\n",
      "year                                    \n",
      "2013    -10.0 -0.8  -5.5 -0.95 -1.0 -0.1\n",
      "2014     -7.5 -1.0   1.5  0.15 -9.5 -0.2 \n",
      "\n",
      "type        HR      Temp\n",
      "year                    \n",
      "2013 -5.500000 -0.616667\n",
      "2014 -5.166667 -0.350000\n"
     ]
    }
   ],
   "source": [
    "data_mean = health_data.mean(level='year')\n",
    "print(data_mean,\"\\n\")\n",
    "print(data_mean.mean(axis = 1, level='type'))"
   ]
  }
 ],
 "metadata": {
  "kernelspec": {
   "display_name": "Python 3",
   "language": "python",
   "name": "python3"
  },
  "language_info": {
   "codemirror_mode": {
    "name": "ipython",
    "version": 3
   },
   "file_extension": ".py",
   "mimetype": "text/x-python",
   "name": "python",
   "nbconvert_exporter": "python",
   "pygments_lexer": "ipython3",
   "version": "3.6.3"
  }
 },
 "nbformat": 4,
 "nbformat_minor": 2
}
