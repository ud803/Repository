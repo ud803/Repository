{
 "cells": [
  {
   "cell_type": "markdown",
   "metadata": {},
   "source": [
    "# SQL vs. NOSQL : The differences"
   ]
  },
  {
   "cell_type": "markdown",
   "metadata": {},
   "source": [
    "https://www.sitepoint.com/sql-vs-nosql-differences/\n",
    "\n",
    "SQL : Structured Query Languages\n",
    "\n",
    "SQL databases have been a primary data storage mechanism for more than four decades. Usage exploded in the late 1990s with the rise of web applications and open-source options such as MySQL, PostgreSQL and SQLite.\n",
    "\n",
    "NoSQL databases have existed since the 1960s, but have been recently gaining traction with popular options such as MongoDB, CouchDB, Redis, Apache Cassandra.\n"
   ]
  },
  {
   "cell_type": "markdown",
   "metadata": {},
   "source": [
    "### 1. SQL Tables vs. NoSQL Documents    \n",
    "\n",
    "**SQL Tables**\n",
    "\n",
    "1) SQL databases provide a store of related data tables. However, the design is rigid; you cannot use the same table to store different information or insert a string where a number is expected.\n",
    "\n",
    "2) SQL tables create a strict data template, so it’s difficult to make mistakes.\n",
    "\n",
    "**NoSQL databases **\n",
    "\n",
    "1) NoSQL stores JSON-like field-value pair documents, e. g.\n",
    "\n",
    "2) NoSQL is more flexible and forgiving, but being able to store any data anywhere can lead to consistency issues.\n"
   ]
  },
  {
   "cell_type": "markdown",
   "metadata": {},
   "source": [
    "### 2. SQL Schema vs. NoSQL Schemaless\n",
    "\n",
    "**SQL Tables**\n",
    "\n",
    "1) It’s impossible to add data until you define tables and field types in what’s referred to as schema. The schema optionally contains other information, such as\n",
    "    - Primary Keys - unique identifiers such as the ISBN which apply to a single record\n",
    "    - Indexes - commonly queries fields indexed to aid quick searching\n",
    "    - relationships - logical links between data field\n",
    "    - functionality such as triggers and stored procedures\n",
    "\n",
    "2) Data Schema must be designed and implemented before any business logic can be developed to manipulate data. \n",
    "\n",
    "3) It is possible to make updates later, but large changes can be complicated.\n",
    "\n",
    "\n",
    "**NoSQL databases **\n",
    "\n",
    "1) Data can be added anywhere, at any time.\n",
    "\n",
    "2) No need to specify a document design or even a collection up-front\n",
    "\n",
    "3) It’s more suited to projects where initial data requirements are difficult to ascertain. \n",
    "\n"
   ]
  },
  {
   "cell_type": "markdown",
   "metadata": {},
   "source": [
    "### 3. SQL Normalization vs NoSQL Denormalization\n",
    "\n",
    "**SQL Tables**\n",
    "\n",
    "1) Presume we want to add publisher information to our book store database. We create a new publisher table\n",
    "\n",
    "2) We can then add a publisher_id field to our book table.\n",
    "\n",
    "3) This minimizes data redundancy; we’re not repeating the publisher information for every book - only the reference to it.\n",
    "\n",
    "4) This technique is known as normalization.\n",
    "\n",
    "\n",
    "\n",
    "**NoSQL databases **\n",
    "\n",
    "1) We can use normalization techniques in NoSQL.\n",
    "\n",
    "2) However, we may opt to denormalize our document and repeat publisher information for every book\n",
    "\n",
    "3) This leads to faster queries, but updating the publisher information in multiple records will be significantly slower\n",
    "\n"
   ]
  },
  {
   "cell_type": "markdown",
   "metadata": {},
   "source": [
    "### 4. SQL Relational JOIN vs NoSQL\n",
    "\n",
    "1) SQL queries offer a powerful JOIN clause. We can obtain related data in multiple tables using a single SQL statement.\n",
    "\n",
    "2) NoSQL has no equivalent of JOIN, and this can shock those with SQL experience. \n",
    "\n"
   ]
  },
  {
   "cell_type": "markdown",
   "metadata": {},
   "source": [
    "### 5. SQL vs NoSQL Data Integrity\n",
    "\n",
    "1) Most SQL databases allow you to enforce data integrity rules using foreign key constraints. The schema forces rules for the database to follow. \n",
    "\n",
    "2) The same data integrity options are not available in NoSQL database ; you can store what you want regardless of any other documents.\n",
    "\n"
   ]
  },
  {
   "cell_type": "markdown",
   "metadata": {},
   "source": [
    "### 6. SQL vs NoSQL Transactions\n",
    "\n",
    "1) In SQL database, two or more updates can be executed in a transaction - an all-or-nothing wrapper that guarantees success or failure. \n",
    "Placing the same updates within a transaction ensures either both succeed or both fail.\n",
    "\n",
    "2) In NoSQL, modification of a single document is atomic.In other words, if you’re updating three values within a document, either all three are updated successfully or it remains unchanged.\n",
    "However, there’s no transaction equivalent for updates to multiple documents.\n",
    "These must be manually processed.\n",
    "\n",
    "\n"
   ]
  },
  {
   "cell_type": "markdown",
   "metadata": {},
   "source": [
    "### 7. SQL vs NoSQL Performance\n",
    "\n",
    "1) NoSQL is regularly quoted as being faster than SQL. This isn’t surprising ; No SQL’s simpler denormalized store allows you to retrieve all information in a single request.\n",
    "\n",
    "2) That said, your project design and data requirements will have most impact. A well-designed SQL database will almost certainly perform better than a badly designed NoSQL equivalent and vice versa.\n",
    "\n",
    "\n",
    "\n"
   ]
  },
  {
   "cell_type": "markdown",
   "metadata": {},
   "source": [
    "### 8. SQL vs NoSQL Scaling\n",
    "\n",
    "1) As your data grow, you may find it necessary to distribute the load among multiple servers. This can be tricky for SQL-based systems.\n",
    "\n",
    "2) NoSQL’s simpler data models make the process easier, and many have been built with scaling functionality from the start.\n",
    "\n",
    "\n",
    "\n"
   ]
  },
  {
   "cell_type": "markdown",
   "metadata": {},
   "source": [
    "### 9. Summary : Relational vs non-relational database\n",
    "\n",
    "1. Projects where SQL is ideal\n",
    "\n",
    "    1) logical related discrete data requirements which can be identified up-front\n",
    "\n",
    "    2) data integrity is essential\n",
    "\n",
    "    3) standards-based proven technology with good developer experience and support.\n",
    "\n",
    "2. Projects where NoSQL is ideal\n",
    "\n",
    "    1) unrelated, indeterminate or evolving data requirements\n",
    "\n",
    "    2) simpler or looser project objectives, able to start coding immediately\n",
    "\n",
    "    3) speed and scalability is imperative.\n"
   ]
  }
 ],
 "metadata": {
  "kernelspec": {
   "display_name": "Python 3",
   "language": "python",
   "name": "python3"
  },
  "language_info": {
   "codemirror_mode": {
    "name": "ipython",
    "version": 3
   },
   "file_extension": ".py",
   "mimetype": "text/x-python",
   "name": "python",
   "nbconvert_exporter": "python",
   "pygments_lexer": "ipython3",
   "version": "3.6.3"
  }
 },
 "nbformat": 4,
 "nbformat_minor": 2
}
