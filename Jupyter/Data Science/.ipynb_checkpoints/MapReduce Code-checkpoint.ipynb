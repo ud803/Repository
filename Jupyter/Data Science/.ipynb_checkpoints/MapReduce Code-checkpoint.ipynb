{
 "cells": [
  {
   "cell_type": "code",
   "execution_count": 1,
   "metadata": {
    "collapsed": true
   },
   "outputs": [],
   "source": [
    "def mapper() :\n",
    "    for line in sys.stdin :\n",
    "        data = line.strip().split(\"\\t\")\n",
    "        date, time, store, item, cost, payment = data\n",
    "        print (\"{0}\\t{1}\".format(store, cost))\n",
    "\n",
    "    "
   ]
  },
  {
   "cell_type": "markdown",
   "metadata": {},
   "source": [
    "데이터가 많을수록 데이터의 예외가 많기 때문에, 어떤 데이터를 받더라도 Mapper가 계속 동작하도록 해야한다.\n",
    "\n",
    "따라서 MapReudce 코드에서는 Defensive하게 작성하는 것이 중요하다."
   ]
  },
  {
   "cell_type": "code",
   "execution_count": 3,
   "metadata": {
    "collapsed": true
   },
   "outputs": [],
   "source": [
    "# 항목이 6개가 아닐 경우\n",
    "def mapper() :\n",
    "    import sys\n",
    "    \n",
    "    for line in sys.stdin :\n",
    "        data = line.strip().split(\"\\t\")\n",
    "        \n",
    "        if len(data) == 6 :\n",
    "            date, time, store, item, cost, payment = data\n",
    "            print (\"{0}\\t{1}\".format(store, cost))\n"
   ]
  },
  {
   "cell_type": "markdown",
   "metadata": {},
   "source": [
    "Reducer는 (Key, Value) 쌍을 \"Hadoop Streaming\"을 통해 받는다. \n",
    "\n",
    "Hadoop에서 자체적으로 Shuffle & Sort를 한다. "
   ]
  },
  {
   "cell_type": "code",
   "execution_count": 4,
   "metadata": {
    "collapsed": true
   },
   "outputs": [],
   "source": [
    "def reducer() :\n",
    "    import sys\n",
    "    \n",
    "    salesTotal = 0\n",
    "    oldKey = None\n",
    "\n",
    "    for line in sys.stdin :\n",
    "        data = line.strip().split(\"\\t\")\n",
    "            # store, sales\n",
    "        if len(data) != 2 :\n",
    "            continue\n",
    "            \n",
    "        thisKey, thisSale = data\n",
    "            # thisKey = store, thisSale = sale\n",
    "        \n",
    "        if oldKey and oldKey != thisKey :\n",
    "            print (\"{0}\\t{1}\".format(oldKey, salesTotal))\n",
    "            \n",
    "            salesTotal = 0\n",
    "        \n",
    "        oldKey = thisKey\n",
    "        salesTotal += float(thisSale)\n",
    "        \n",
    "        # 하지만 마지막 Key가 출력되지 않았다 !!\n",
    "        \n",
    "        if oldKey != None :\n",
    "            print (\"{0}\\t{1}\".format(oldKey, salesTotal))"
   ]
  },
  {
   "cell_type": "markdown",
   "metadata": {},
   "source": [
    "이제 Hadoop을 사용하기 전에, 터미널을 통해 미리 Mapper와 Reducer를 확인해 볼 것이다."
   ]
  },
  {
   "cell_type": "code",
   "execution_count": 21,
   "metadata": {},
   "outputs": [
    {
     "name": "stdout",
     "output_type": "stream",
     "text": [
      "2012-01-01\t09:00\tSan Jose\tMen's Clothing\t214.05\tAmex\r\n",
      "2012-01-01\t09:00\tFort Worth\tWomen's Clothing\t153.57\tVisa\r\n",
      "2012-01-01\t09:00\tSan Diego\tMusic\t66.08\tCash\r\n",
      "2012-01-01\t09:00\tPittsburgh\tPet Supplies\t493.51\tDiscover\r\n",
      "2012-01-01\t09:00\tOmaha\tChildren's Clothing\t235.63\tMasterCard\r\n",
      "2012-01-01\t09:00\tStockton\tMen's Clothing\t247.18\tMasterCard\r\n",
      "2012-01-01\t09:00\tAustin\tCameras\t379.6\tVisa\r\n",
      "2012-01-01\t09:00\tNew York\tConsumer Electronics\t296.8\tCash\r\n",
      "2012-01-01\t09:00\tCorpus Christi\tToys\t25.38\tDiscover\r\n",
      "2012-01-01\t09:00\tFort Worth\tToys\t213.88\tVisa\r\n"
     ]
    }
   ],
   "source": [
    "# purchase의 10행만 실험을 위해 사용\n",
    "! head -n 10 purchases.txt > test.txt\n",
    "! cat test.txt"
   ]
  },
  {
   "cell_type": "code",
   "execution_count": 22,
   "metadata": {},
   "outputs": [
    {
     "name": "stdout",
     "output_type": "stream",
     "text": [
      "San Jose\t214.05\r\n",
      "Fort Worth\t153.57\r\n",
      "San Diego\t66.08\r\n",
      "Pittsburgh\t493.51\r\n",
      "Omaha\t235.63\r\n",
      "Stockton\t247.18\r\n",
      "Austin\t379.6\r\n",
      "New York\t296.8\r\n",
      "Corpus Christi\t25.38\r\n",
      "Fort Worth\t213.88\r\n"
     ]
    }
   ],
   "source": [
    "! cat test.txt | python mapper.py"
   ]
  },
  {
   "cell_type": "code",
   "execution_count": 23,
   "metadata": {},
   "outputs": [
    {
     "name": "stdout",
     "output_type": "stream",
     "text": [
      "Austin\t379.6\r\n",
      "Corpus Christi\t25.38\r\n",
      "Fort Worth\t367.45\r\n",
      "New York\t296.8\r\n",
      "Omaha\t235.63\r\n",
      "Pittsburgh\t493.51\r\n",
      "San Diego\t66.08\r\n",
      "San Jose\t214.05\r\n",
      "Stockton\t247.18\r\n"
     ]
    }
   ],
   "source": [
    "# 이번에는 Reducer까지 사용\n",
    "# Sorting은 직접 해준다 (Hadoop에서는 자동)\n",
    "! cat test.txt | python mapper.py | sort | python reducer.py"
   ]
  },
  {
   "cell_type": "markdown",
   "metadata": {
    "collapsed": true
   },
   "source": [
    "##### - Implementation\n",
    "Mapping, Sorting, Reducing을 하는 쉘 & 파이썬 문법은 다음과 같다."
   ]
  },
  {
   "cell_type": "code",
   "execution_count": 2,
   "metadata": {
    "collapsed": true
   },
   "outputs": [],
   "source": [
    "# Mapper\n",
    "\n",
    "import sys\n",
    "\n",
    "\n",
    "#with open('./purchases.txt.ignore') as f:\n",
    "#        for line in f :\n",
    "for line in sys.stdin :\n",
    "\n",
    "    data = line.strip().split(\"\\t\")\n",
    "\n",
    "    if len(data) == 6 :\n",
    "        date, time, store, item, cost, payment = data\n",
    "        print(\"{0}\\t{1}\".format(item, cost))\n"
   ]
  },
  {
   "cell_type": "code",
   "execution_count": 3,
   "metadata": {
    "collapsed": true
   },
   "outputs": [],
   "source": [
    "# Sorting\n",
    "\n",
    "import sys\n",
    "\n",
    "temp_list = list()\n",
    "i = 0\n",
    "\n",
    "for line in sys.stdin :\n",
    "    item = line.strip().split(\"\\t\")\n",
    "    temp_list.append(tuple(item))\n",
    "\n",
    "temp_list = sorted(temp_list, key = lambda temp_list : temp_list[0])\n",
    "\n",
    "for item in temp_list :\n",
    "    print(item)\n"
   ]
  },
  {
   "cell_type": "code",
   "execution_count": 4,
   "metadata": {
    "collapsed": true
   },
   "outputs": [],
   "source": [
    "# Reducer\n",
    "\n",
    "\n",
    "import sys\n",
    "import re\n",
    "\n",
    "oldKey = None\n",
    "salesTotal = 0\n",
    "\n",
    "r = re.compile(r'\\([\\'\\\"]([\\w \\']+)[\\'\\\"][ .,]*[\\'\\\"](\\d+.?\\d*)[\\'\\\"]\\)')\n",
    "\n",
    "for line in sys.stdin :\n",
    "    m = r.search(line.strip())\n",
    "    data = m.group(1,2)\n",
    "\n",
    "    if len(data) != 2 :\n",
    "        continue\n",
    "    thisKey, thisSale = data\n",
    "\n",
    "    if oldKey and oldKey != thisKey :\n",
    "        print (\"{0}\\t{1}\".format(oldKey, salesTotal))\n",
    "\n",
    "        salesTotal = 0\n",
    "\n",
    "    oldKey = thisKey\n",
    "    salesTotal += float(thisSale)\n",
    "\n",
    "if oldKey != None :\n",
    "    print (\"{0}\\t{1}\".format(oldKey, salesTotal))"
   ]
  },
  {
   "cell_type": "code",
   "execution_count": 6,
   "metadata": {},
   "outputs": [
    {
     "name": "stdout",
     "output_type": "stream",
     "text": [
      "Baby\t57491808.43999965\n",
      "Books\t57450757.91000004\n",
      "CDs\t57410753.04000111\n",
      "Cameras\t57299046.64000087\n",
      "Children's Clothing\t57624820.94000126\n",
      "Computers\t57315406.319999866\n",
      "Consumer Electronics\t57452374.12999909\n",
      "Crafts\t57418154.50000017\n",
      "DVDs\t57649212.13999929\n",
      "Garden\t57539833.109999545\n",
      "Health and Beauty\t57481589.560001\n",
      "Men's Clothing\t57621279.04000138\n",
      "Music\t57495489.700000465\n",
      "Pet Supplies\t57197250.24000008\n",
      "Sporting Goods\t57599085.890000574\n",
      "Toys\t57463477.10999907\n",
      "Video Games\t57513165.5800005\n",
      "Women's Clothing\t57434448.96999881\n"
     ]
    }
   ],
   "source": [
    "! cat purchases.txt.ignore | python3 Project1_mapper.py | python3 Project1_sorter.py | \\\n",
    "python3 Project1_reducer.py"
   ]
  },
  {
   "cell_type": "markdown",
   "metadata": {},
   "source": [
    "위와 동일한 작업을 수행하는 하둡 명령어는 아래와 같다."
   ]
  },
  {
   "cell_type": "code",
   "execution_count": 8,
   "metadata": {
    "collapsed": true
   },
   "outputs": [
    {
     "name": "stdout",
     "output_type": "stream",
     "text": [
      "/bin/sh: 1: cannot open jar: No such file\r\n",
      "/bin/sh: 1: hadoop: not found\r\n"
     ]
    }
   ],
   "source": [
    "!hadoop jar <jar path> \\\n",
    "-file /home/cloudera/Repo/mapper.py -mapper mapper.py \\\n",
    "-file /home/cloudera/Repo/reducer.py -reducer reducer.py \\\n",
    "-input inputt/ -output outputdir"
   ]
  },
  {
   "cell_type": "markdown",
   "metadata": {},
   "source": [
    "이를 통해 동일한 결과물을 얻을 수 있다.\n",
    "\n",
    "사실 하둡에서 쓴 파이썬 코드와 쉘에서 쓴 파이썬 코드는 약간 다른데,\n",
    "\n",
    "쉘에 내장된 sort 프로그램을 사용하지 않고 직접 Sorting 코드를 구현했기에 Reducer 코드도 약간 달라졌다!"
   ]
  }
 ],
 "metadata": {
  "kernelspec": {
   "display_name": "Python 3",
   "language": "python",
   "name": "python3"
  },
  "language_info": {
   "codemirror_mode": {
    "name": "ipython",
    "version": 3
   },
   "file_extension": ".py",
   "mimetype": "text/x-python",
   "name": "python",
   "nbconvert_exporter": "python",
   "pygments_lexer": "ipython3",
   "version": "3.6.3"
  }
 },
 "nbformat": 4,
 "nbformat_minor": 2
}
