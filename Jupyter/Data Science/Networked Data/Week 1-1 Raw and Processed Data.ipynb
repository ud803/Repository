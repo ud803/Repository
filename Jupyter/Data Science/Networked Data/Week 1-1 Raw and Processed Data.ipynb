{
 "cells": [
  {
   "cell_type": "markdown",
   "metadata": {},
   "source": [
    "# 1. Components of tidy data\n",
    "\n",
    "Four things you shoud have\n",
    "1. The raw data\n",
    "    - 측정 기계에서 뽑아내는 이상한 이진 파일\n",
    "    - 계약한 회사에서 보내주는 형식을 갖추지 않은 엑셀 파일\n",
    "    - 트위터 API로부터 받아온 JSON 데이터\n",
    "    - 직접 관찰하여 손으로 쓴 숫자\n",
    "    \n",
    "2. A tidy data set\n",
    "    - 측정한 각 변수는 하나의 열에 있어야 한다\n",
    "    - 그 변수의 서로 다른 관측치는 서로 다른 행에 있어야 한다\n",
    "    - 또한 첫 번째 행에는 변수의 이름을 써준\n",
    "    - 비슷한 종류의 변수로 하나의 테이블을 구성한다\n",
    "    - 테이블이 여러개라면, 서로 연결이 되도록 하는 하나의 열을 포함해야 한다\n",
    "    - 일반적으로, 테이블마다 하나의 파일에 장한다\n",
    "    \n",
    "3. A code book describing each variable and its values in the tidy data set\n",
    "    - 깔끔한 데이터셋에 포함되지 않은 변수에 관한 정보 (메타데이터)\n",
    "    - 요약에 관한 정보\n",
    "    - 실험 설계에 관한 정보\n",
    "    - 보통 워드/텍스트 파일로 작성된다\n",
    "    - 데이터를 어떻게 수집했는지 보여주는 \"Study Design\" 항목이 있어야 한다\n",
    "    - 각 변수와 단위를 설명해주는 \"Code book\" 항목이 있어야 한다\n",
    "    \n",
    "4. An explicit and exact recipe you used to go from 1 -> 2,3.\n",
    "    - 보통 컴퓨터 스크립트이다 (R / Python)\n",
    "    - 인풋은 raw data\n",
    "    - 아웃풋은 가공된, tidy data\n",
    "    - 스크립트에 전달되는 인자는 없다\n",
    "    - 하나의 스크립트로 모든 단계를 표현할 수 없을 때는, 자세히 명시해준다\n",
    "    \n",
    "\n",
    "# 2. Reading Data\n",
    "\n",
    "- `getwd()` , `setwd()`\n",
    "- `file.exists(\"directoryName\")` : 디렉토리가 존재하는지 확인한다\n",
    "- `dir.create(\"directoryName\")` : 존재하지 않는다면 디렉토리를 만든다\n",
    "- `list.files(\"directory\")` : 지정 디렉토리의 파일을 출력\n"
   ]
  },
  {
   "cell_type": "code",
   "execution_count": null,
   "metadata": {},
   "outputs": [],
   "source": [
    "if (!file.exists(\"data\")) {\n",
    "    dir.create(\"data\")\n",
    "} else {\n",
    "    print(\"Already Exist\")\n",
    "}\n",
    "list.files(\".\")"
   ]
  },
  {
   "cell_type": "markdown",
   "metadata": {},
   "source": [
    "### 1) Downloading Files"
   ]
  },
  {
   "cell_type": "markdown",
   "metadata": {},
   "source": [
    "- `download.file(fileURL, destfile, method)`\n",
    "    - 인터넷에서 파일을 다운로드한다\n",
    "    - 중요한 인자는 `url, destfile, method` 이다\n",
    "    - tab-delimited, csv등 여러 파일에 적합하다"
   ]
  },
  {
   "cell_type": "markdown",
   "metadata": {},
   "source": [
    "https://data.baltimorecity.gov/Transportation/Baltimore-Fixed-Speed-Cameras/dz54-2aru\n",
    "\n",
    "위 사이트에서 데이터를 불러오자."
   ]
  },
  {
   "cell_type": "code",
   "execution_count": null,
   "metadata": {},
   "outputs": [],
   "source": [
    "fileURL <- \"https://data.baltimorecity.gov/api/views/dz54-2aru/rows.csv?accessType=DOWNLOAD\"\n",
    "download.file(fileURL, destfile = \"./data/cameras.csv\", method=\"curl\")\n",
    "list.files(\"./data\")"
   ]
  },
  {
   "cell_type": "code",
   "execution_count": null,
   "metadata": {},
   "outputs": [],
   "source": [
    "dateDownloaded <- date()\n",
    "dateDownloaded"
   ]
  },
  {
   "cell_type": "markdown",
   "metadata": {},
   "source": [
    "### 2) Reading Local Flat Files\n",
    "\n",
    "\n",
    "- `read.table()`\n",
    "    - R에서 데이터를 불러오는 주요 함수이다\n",
    "    - 유연하면서 잘 들어맞는다. 하지만 인자를 많이 필요로한다\n",
    "    - 데이터를 RAM으로 불러들인다 - 너무 데이터가 크면 오류가 날 수 있다\n",
    "    - 주요 파라미터 : `file, header, sep, row.names, nrows`\n",
    "    - 연관된 함수 : `read.csv(), read.csv2()`\n",
    "    - 추가적인 파라미터\n",
    "        - `quote` : quote=\"\"는 따옴표가 없다는 것을 의미\n",
    "        - `na.strings` : 사라진 값을 나타내는 문자열을 정함\n",
    "        - `nrows` : 몇 줄을 읽을 것인지\n",
    "        - `skip` : 몇 줄을 건너뛰고 읽을 것인지"
   ]
  },
  {
   "cell_type": "code",
   "execution_count": null,
   "metadata": {},
   "outputs": [],
   "source": [
    "cameraData <- read.table(\"./data/cameras.csv\")\n",
    "    # read.table은 기본적으로 tab delimited이다"
   ]
  },
  {
   "cell_type": "code",
   "execution_count": null,
   "metadata": {},
   "outputs": [],
   "source": [
    "# read.table\n",
    "cameraData <- read.table(\"./data/cameras.csv\", sep=\",\", header=TRUE)\n",
    "head(cameraData)"
   ]
  },
  {
   "cell_type": "code",
   "execution_count": null,
   "metadata": {},
   "outputs": [],
   "source": [
    "# read.csv\n",
    "cameraCSV <- read.csv(\"./data//cameras.csv\")\n",
    "head(cameraCSV)"
   ]
  },
  {
   "cell_type": "markdown",
   "metadata": {},
   "source": [
    "### 3) Reading Excel Files\n",
    "\n",
    "엑셀은 아마 데이터를 공유하는데 가장 널리 쓰이는 형식일 것이다.\n",
    "\n",
    "- `read.xlsx(), read.xlsx2()` : xlsx 패키지\n",
    "- `write.xlsx()` : 엑셀 파일을 작성한다\n",
    "- `XLConnect, XLConnect vignette` : 추가적인 엑셀 관련 패키지"
   ]
  },
  {
   "cell_type": "code",
   "execution_count": 16,
   "metadata": {},
   "outputs": [
    {
     "data": {
      "text/html": [
       "<ol class=list-inline>\n",
       "\t<li>'cameras.csv'</li>\n",
       "\t<li>'cameras.xlsx'</li>\n",
       "</ol>\n"
      ],
      "text/latex": [
       "\\begin{enumerate*}\n",
       "\\item 'cameras.csv'\n",
       "\\item 'cameras.xlsx'\n",
       "\\end{enumerate*}\n"
      ],
      "text/markdown": [
       "1. 'cameras.csv'\n",
       "2. 'cameras.xlsx'\n",
       "\n",
       "\n"
      ],
      "text/plain": [
       "[1] \"cameras.csv\"  \"cameras.xlsx\""
      ]
     },
     "metadata": {},
     "output_type": "display_data"
    }
   ],
   "source": [
    "fileURL <- \"https://data.baltimorecity.gov/api/views/dz54-2aru/rows.csv?accessType=DOWNLOAD&bom=true&format=true\"\n",
    "download.file(fileURL, destfile=\"./data/cameras.xlsx\", method = \"curl\")\n",
    "list.files(\"./data/\")"
   ]
  },
  {
   "cell_type": "code",
   "execution_count": 13,
   "metadata": {},
   "outputs": [],
   "source": [
    "library(xlsx)"
   ]
  },
  {
   "cell_type": "code",
   "execution_count": 21,
   "metadata": {
    "scrolled": true
   },
   "outputs": [
    {
     "data": {
      "text/html": [
       "<table>\n",
       "<thead><tr><th scope=col>address</th><th scope=col>direction</th><th scope=col>street</th><th scope=col>crossStreet</th><th scope=col>intersection</th><th scope=col>Location.1</th></tr></thead>\n",
       "<tbody>\n",
       "\t<tr><td><span style=white-space:pre-wrap>S CATON AVE &amp; BENSON AVE      </span></td><td>N/B                                                                       </td><td><span style=white-space:pre-wrap>Caton Ave  </span>                       </td><td><span style=white-space:pre-wrap>Benson Ave  </span>                      </td><td><span style=white-space:pre-wrap>Caton Ave &amp; Benson Ave    </span>    </td><td>(39.2693779962, -76.6688185297)                                           </td></tr>\n",
       "\t<tr><td><span style=white-space:pre-wrap>S CATON AVE &amp; BENSON AVE      </span></td><td>S/B                                                                       </td><td><span style=white-space:pre-wrap>Caton Ave  </span>                       </td><td><span style=white-space:pre-wrap>Benson Ave  </span>                      </td><td><span style=white-space:pre-wrap>Caton Ave &amp; Benson Ave    </span>    </td><td>(39.2693157898, -76.6689698176)                                           </td></tr>\n",
       "\t<tr><td>WILKENS AVE &amp; PINE HEIGHTS AVE</td><td>E/B                               </td><td>Wilkens Ave                       </td><td>Pine Heights                      </td><td>Wilkens Ave &amp; Pine Heights    </td><td>(39.2720252302, -76.676960806)    </td></tr>\n",
       "\t<tr><td><span style=white-space:pre-wrap>THE ALAMEDA &amp; E 33RD ST       </span></td><td>S/B                                                                       </td><td>The Alameda                                                               </td><td><span style=white-space:pre-wrap>33rd St     </span>                      </td><td><span style=white-space:pre-wrap>The Alameda  &amp; 33rd St    </span>    </td><td>(39.3285013141, -76.5953545714)                                           </td></tr>\n",
       "\t<tr><td><span style=white-space:pre-wrap>E 33RD ST &amp; THE ALAMEDA       </span></td><td>E/B                                                                       </td><td><span style=white-space:pre-wrap>E 33rd     </span>                       </td><td>The Alameda                                                               </td><td><span style=white-space:pre-wrap>E 33rd  &amp; The Alameda     </span>    </td><td>(39.3283410623, -76.5953594625)                                           </td></tr>\n",
       "\t<tr><td><span style=white-space:pre-wrap>ERDMAN AVE &amp; N MACON ST       </span></td><td>E/B                                                                       </td><td><span style=white-space:pre-wrap>Erdman     </span>                       </td><td><span style=white-space:pre-wrap>Macon St    </span>                      </td><td><span style=white-space:pre-wrap>Erdman  &amp; Macon St        </span>    </td><td>(39.3068045671, -76.5593167803)                                           </td></tr>\n",
       "</tbody>\n",
       "</table>\n"
      ],
      "text/latex": [
       "\\begin{tabular}{r|llllll}\n",
       " address & direction & street & crossStreet & intersection & Location.1\\\\\n",
       "\\hline\n",
       "\t S CATON AVE \\& BENSON AVE       & N/B                              & Caton Ave                        & Benson Ave                       & Caton Ave \\& Benson Ave         & (39.2693779962, -76.6688185297) \\\\\n",
       "\t S CATON AVE \\& BENSON AVE       & S/B                              & Caton Ave                        & Benson Ave                       & Caton Ave \\& Benson Ave         & (39.2693157898, -76.6689698176) \\\\\n",
       "\t WILKENS AVE \\& PINE HEIGHTS AVE & E/B                              & Wilkens Ave                      & Pine Heights                     & Wilkens Ave \\& Pine Heights     & (39.2720252302, -76.676960806)  \\\\\n",
       "\t THE ALAMEDA \\& E 33RD ST        & S/B                              & The Alameda                      & 33rd St                          & The Alameda  \\& 33rd St         & (39.3285013141, -76.5953545714) \\\\\n",
       "\t E 33RD ST \\& THE ALAMEDA        & E/B                              & E 33rd                           & The Alameda                      & E 33rd  \\& The Alameda          & (39.3283410623, -76.5953594625) \\\\\n",
       "\t ERDMAN AVE \\& N MACON ST        & E/B                              & Erdman                           & Macon St                         & Erdman  \\& Macon St             & (39.3068045671, -76.5593167803) \\\\\n",
       "\\end{tabular}\n"
      ],
      "text/markdown": [
       "\n",
       "address | direction | street | crossStreet | intersection | Location.1 | \n",
       "|---|---|---|---|---|---|\n",
       "| S CATON AVE & BENSON AVE        | N/B                             | Caton Ave                       | Benson Ave                      | Caton Ave & Benson Ave          | (39.2693779962, -76.6688185297) | \n",
       "| S CATON AVE & BENSON AVE        | S/B                             | Caton Ave                       | Benson Ave                      | Caton Ave & Benson Ave          | (39.2693157898, -76.6689698176) | \n",
       "| WILKENS AVE & PINE HEIGHTS AVE  | E/B                             | Wilkens Ave                     | Pine Heights                    | Wilkens Ave & Pine Heights      | (39.2720252302, -76.676960806)  | \n",
       "| THE ALAMEDA & E 33RD ST         | S/B                             | The Alameda                     | 33rd St                         | The Alameda  & 33rd St          | (39.3285013141, -76.5953545714) | \n",
       "| E 33RD ST & THE ALAMEDA         | E/B                             | E 33rd                          | The Alameda                     | E 33rd  & The Alameda           | (39.3283410623, -76.5953594625) | \n",
       "| ERDMAN AVE & N MACON ST         | E/B                             | Erdman                          | Macon St                        | Erdman  & Macon St              | (39.3068045671, -76.5593167803) | \n",
       "\n",
       "\n"
      ],
      "text/plain": [
       "  address                        direction street      crossStreet \n",
       "1 S CATON AVE & BENSON AVE       N/B       Caton Ave   Benson Ave  \n",
       "2 S CATON AVE & BENSON AVE       S/B       Caton Ave   Benson Ave  \n",
       "3 WILKENS AVE & PINE HEIGHTS AVE E/B       Wilkens Ave Pine Heights\n",
       "4 THE ALAMEDA & E 33RD ST        S/B       The Alameda 33rd St     \n",
       "5 E 33RD ST & THE ALAMEDA        E/B       E 33rd      The Alameda \n",
       "6 ERDMAN AVE & N MACON ST        E/B       Erdman      Macon St    \n",
       "  intersection               Location.1                     \n",
       "1 Caton Ave & Benson Ave     (39.2693779962, -76.6688185297)\n",
       "2 Caton Ave & Benson Ave     (39.2693157898, -76.6689698176)\n",
       "3 Wilkens Ave & Pine Heights (39.2720252302, -76.676960806) \n",
       "4 The Alameda  & 33rd St     (39.3285013141, -76.5953545714)\n",
       "5 E 33rd  & The Alameda      (39.3283410623, -76.5953594625)\n",
       "6 Erdman  & Macon St         (39.3068045671, -76.5593167803)"
      ]
     },
     "metadata": {},
     "output_type": "display_data"
    }
   ],
   "source": [
    "cameraXlsx <- read.xlsx(\"./data/cameras.xlsx\", sheetIndex=1, header=TRUE)\n",
    "head(cameraXlsx)"
   ]
  },
  {
   "cell_type": "code",
   "execution_count": 23,
   "metadata": {},
   "outputs": [
    {
     "data": {
      "text/html": [
       "<table>\n",
       "<thead><tr><th scope=col>direction</th><th scope=col>street</th></tr></thead>\n",
       "<tbody>\n",
       "\t<tr><td>N/B        </td><td>Caton Ave  </td></tr>\n",
       "\t<tr><td>S/B        </td><td>Caton Ave  </td></tr>\n",
       "\t<tr><td>E/B        </td><td>Wilkens Ave</td></tr>\n",
       "</tbody>\n",
       "</table>\n"
      ],
      "text/latex": [
       "\\begin{tabular}{r|ll}\n",
       " direction & street\\\\\n",
       "\\hline\n",
       "\t N/B         & Caton Ave  \\\\\n",
       "\t S/B         & Caton Ave  \\\\\n",
       "\t E/B         & Wilkens Ave\\\\\n",
       "\\end{tabular}\n"
      ],
      "text/markdown": [
       "\n",
       "direction | street | \n",
       "|---|---|---|\n",
       "| N/B         | Caton Ave   | \n",
       "| S/B         | Caton Ave   | \n",
       "| E/B         | Wilkens Ave | \n",
       "\n",
       "\n"
      ],
      "text/plain": [
       "  direction street     \n",
       "1 N/B       Caton Ave  \n",
       "2 S/B       Caton Ave  \n",
       "3 E/B       Wilkens Ave"
      ]
     },
     "metadata": {},
     "output_type": "display_data"
    }
   ],
   "source": [
    "colIndex <- 2:3\n",
    "rowIndex <- 1:4\n",
    "cameraDataSubset <- read.xlsx(\"./data/cameras.xlsx\", sheetIndex =1,\n",
    "                             colIndex=colIndex, rowIndex=rowIndex)\n",
    "cameraDataSubset"
   ]
  },
  {
   "cell_type": "markdown",
   "metadata": {},
   "source": [
    "### 4) Reading XML Files\n",
    "\n",
    "- eXtensible Markup Language의 약자이다\n",
    "- 구조화된 데이터를 저장하는데 사용된다\n",
    "- 인터넷에서 많이 사용된다\n",
    "- 대부분 웹 스크래핑에서 XML이 자주 사용된다\n",
    "- 데이터는 두 부분으로 구성된다\n",
    "    - Markup : 텍스트 구조를 가르는 라벨\n",
    "    - Content : 문서의 실제 내용\n",
    "    \n",
    "[아주 유용한 웹사이트](https://www.stat.berkeley.edu/~statcur/Workshop2/Presentations/XML.pdf)"
   ]
  },
  {
   "cell_type": "raw",
   "metadata": {},
   "source": [
    "- Tags, Elements, Attributes\n",
    "    - 태그는 일반 라벨을 의미한다\n",
    "        - 시작 태그 <section>\n",
    "        - 종료 태그 </section>\n",
    "        - 빈 태그 <line-break />\n",
    "    - 원소들은 태그의 구체적인 예이다\n",
    "        - <Greeting\\> Hello, world </Greeting\\>\n",
    "    - 특징은 라벨의 원소이다\n",
    "        - <img src=\"jeff.jpg\" alt=\"instructor\"/>\n",
    "        - <step number=\"3\"> Connect A to B. </step>"
   ]
  },
  {
   "cell_type": "code",
   "execution_count": 24,
   "metadata": {},
   "outputs": [],
   "source": [
    "library(XML)"
   ]
  },
  {
   "cell_type": "code",
   "execution_count": 42,
   "metadata": {
    "scrolled": true
   },
   "outputs": [
    {
     "data": {
      "text/plain": [
       "<?xml version=\"1.0\" encoding=\"UTF-8\"?>\n",
       "<breakfast_menu>\n",
       "  <food>\n",
       "    <name>Belgian Waffles</name>\n",
       "    <price>$5.95</price>\n",
       "    <description>Two of our famous Belgian Waffles with plenty of real maple syrup</description>\n",
       "    <calories>650</calories>\n",
       "  </food>\n",
       "  <food>\n",
       "    <name>Strawberry Belgian Waffles</name>\n",
       "    <price>$7.95</price>\n",
       "    <description>Light Belgian waffles covered with strawberries and whipped cream</description>\n",
       "    <calories>900</calories>\n",
       "  </food>\n",
       "  <food>\n",
       "    <name>Berry-Berry Belgian Waffles</name>\n",
       "    <price>$8.95</price>\n",
       "    <description>Light Belgian waffles covered with an assortment of fresh berries and whipped cream</description>\n",
       "    <calories>900</calories>\n",
       "  </food>\n",
       "  <food>\n",
       "    <name>French Toast</name>\n",
       "    <price>$4.50</price>\n",
       "    <description>Thick slices made from our homemade sourdough bread</description>\n",
       "    <calories>600</calories>\n",
       "  </food>\n",
       "  <food>\n",
       "    <name>Homestyle Breakfast</name>\n",
       "    <price>$6.95</price>\n",
       "    <description>Two eggs, bacon or sausage, toast, and our ever-popular hash browns</description>\n",
       "    <calories>950</calories>\n",
       "  </food>\n",
       "</breakfast_menu>\n",
       " "
      ]
     },
     "metadata": {},
     "output_type": "display_data"
    }
   ],
   "source": [
    "fileURL <- \"https://www.w3schools.com/xml/simple.xml\"\n",
    "download.file(fileURL, \"./data/XMLexample.xml\", method='curl')\n",
    "doc <- xmlTreeParse(\"./data/XMLexample.xml\", useInternal=TRUE)\n",
    "doc"
   ]
  },
  {
   "cell_type": "code",
   "execution_count": 44,
   "metadata": {},
   "outputs": [
    {
     "data": {
      "text/html": [
       "'breakfast_menu'"
      ],
      "text/latex": [
       "'breakfast\\_menu'"
      ],
      "text/markdown": [
       "'breakfast_menu'"
      ],
      "text/plain": [
       "[1] \"breakfast_menu\""
      ]
     },
     "metadata": {},
     "output_type": "display_data"
    }
   ],
   "source": [
    "rootNode <- xmlRoot(doc)\n",
    "xmlName(rootNode)"
   ]
  },
  {
   "cell_type": "code",
   "execution_count": 50,
   "metadata": {},
   "outputs": [
    {
     "data": {
      "text/plain": [
       "<food>\n",
       "  <name>Belgian Waffles</name>\n",
       "  <price>$5.95</price>\n",
       "  <description>Two of our famous Belgian Waffles with plenty of real maple syrup</description>\n",
       "  <calories>650</calories>\n",
       "</food> "
      ]
     },
     "metadata": {},
     "output_type": "display_data"
    }
   ],
   "source": [
    "# 첫번째 원소에 접근\n",
    "rootNode[[1]]"
   ]
  },
  {
   "cell_type": "code",
   "execution_count": 54,
   "metadata": {},
   "outputs": [
    {
     "data": {
      "text/html": [
       "<dl class=dl-horizontal>\n",
       "\t<dt>food</dt>\n",
       "\t\t<dd>'Belgian Waffles$5.95Two of our famous Belgian Waffles with plenty of real maple syrup650'</dd>\n",
       "\t<dt>food</dt>\n",
       "\t\t<dd>'Strawberry Belgian Waffles$7.95Light Belgian waffles covered with strawberries and whipped cream900'</dd>\n",
       "\t<dt>food</dt>\n",
       "\t\t<dd>'Berry-Berry Belgian Waffles$8.95Light Belgian waffles covered with an assortment of fresh berries and whipped cream900'</dd>\n",
       "\t<dt>food</dt>\n",
       "\t\t<dd>'French Toast$4.50Thick slices made from our homemade sourdough bread600'</dd>\n",
       "\t<dt>food</dt>\n",
       "\t\t<dd>'Homestyle Breakfast$6.95Two eggs, bacon or sausage, toast, and our ever-popular hash browns950'</dd>\n",
       "</dl>\n"
      ],
      "text/latex": [
       "\\begin{description*}\n",
       "\\item[food] 'Belgian Waffles\\$5.95Two of our famous Belgian Waffles with plenty of real maple syrup650'\n",
       "\\item[food] 'Strawberry Belgian Waffles\\$7.95Light Belgian waffles covered with strawberries and whipped cream900'\n",
       "\\item[food] 'Berry-Berry Belgian Waffles\\$8.95Light Belgian waffles covered with an assortment of fresh berries and whipped cream900'\n",
       "\\item[food] 'French Toast\\$4.50Thick slices made from our homemade sourdough bread600'\n",
       "\\item[food] 'Homestyle Breakfast\\$6.95Two eggs, bacon or sausage, toast, and our ever-popular hash browns950'\n",
       "\\end{description*}\n"
      ],
      "text/markdown": [
       "food\n",
       ":   'Belgian Waffles$5.95Two of our famous Belgian Waffles with plenty of real maple syrup650'food\n",
       ":   'Strawberry Belgian Waffles$7.95Light Belgian waffles covered with strawberries and whipped cream900'food\n",
       ":   'Berry-Berry Belgian Waffles$8.95Light Belgian waffles covered with an assortment of fresh berries and whipped cream900'food\n",
       ":   'French Toast$4.50Thick slices made from our homemade sourdough bread600'food\n",
       ":   'Homestyle Breakfast$6.95Two eggs, bacon or sausage, toast, and our ever-popular hash browns950'\n",
       "\n"
      ],
      "text/plain": [
       "                                                                                                                    food \n",
       "                              \"Belgian Waffles$5.95Two of our famous Belgian Waffles with plenty of real maple syrup650\" \n",
       "                                                                                                                    food \n",
       "                   \"Strawberry Belgian Waffles$7.95Light Belgian waffles covered with strawberries and whipped cream900\" \n",
       "                                                                                                                    food \n",
       "\"Berry-Berry Belgian Waffles$8.95Light Belgian waffles covered with an assortment of fresh berries and whipped cream900\" \n",
       "                                                                                                                    food \n",
       "                                               \"French Toast$4.50Thick slices made from our homemade sourdough bread600\" \n",
       "                                                                                                                    food \n",
       "                        \"Homestyle Breakfast$6.95Two eggs, bacon or sausage, toast, and our ever-popular hash browns950\" "
      ]
     },
     "metadata": {},
     "output_type": "display_data"
    }
   ],
   "source": [
    "# 추출하기\n",
    "# 모든 노드를 돌면서 값을 추출한다\n",
    "xmlSApply(rootNode, xmlValue)"
   ]
  },
  {
   "cell_type": "markdown",
   "metadata": {},
   "source": [
    "##### `XPath` : 아주 유용한 XML 패키지의 메서드\n",
    "- `/node` : Top level node\n",
    "- `//node` : Node at any level\n",
    "- `node[@attr-name]` : Node with an attribute name\n",
    "- `node[@attr-name=\"bob\"]` : Node with an attribute name attr-name='bob'"
   ]
  },
  {
   "cell_type": "code",
   "execution_count": 58,
   "metadata": {},
   "outputs": [
    {
     "data": {
      "text/html": [
       "<ol class=list-inline>\n",
       "\t<li>'Belgian Waffles'</li>\n",
       "\t<li>'Strawberry Belgian Waffles'</li>\n",
       "\t<li>'Berry-Berry Belgian Waffles'</li>\n",
       "\t<li>'French Toast'</li>\n",
       "\t<li>'Homestyle Breakfast'</li>\n",
       "</ol>\n"
      ],
      "text/latex": [
       "\\begin{enumerate*}\n",
       "\\item 'Belgian Waffles'\n",
       "\\item 'Strawberry Belgian Waffles'\n",
       "\\item 'Berry-Berry Belgian Waffles'\n",
       "\\item 'French Toast'\n",
       "\\item 'Homestyle Breakfast'\n",
       "\\end{enumerate*}\n"
      ],
      "text/markdown": [
       "1. 'Belgian Waffles'\n",
       "2. 'Strawberry Belgian Waffles'\n",
       "3. 'Berry-Berry Belgian Waffles'\n",
       "4. 'French Toast'\n",
       "5. 'Homestyle Breakfast'\n",
       "\n",
       "\n"
      ],
      "text/plain": [
       "[1] \"Belgian Waffles\"             \"Strawberry Belgian Waffles\" \n",
       "[3] \"Berry-Berry Belgian Waffles\" \"French Toast\"               \n",
       "[5] \"Homestyle Breakfast\"        "
      ]
     },
     "metadata": {},
     "output_type": "display_data"
    }
   ],
   "source": [
    "# 태그가 'name'인 노드를 반환\n",
    "xpathSApply(rootNode, \"//name\", xmlValue)"
   ]
  },
  {
   "cell_type": "code",
   "execution_count": 59,
   "metadata": {},
   "outputs": [
    {
     "data": {
      "text/html": [
       "<ol class=list-inline>\n",
       "\t<li>'$5.95'</li>\n",
       "\t<li>'$7.95'</li>\n",
       "\t<li>'$8.95'</li>\n",
       "\t<li>'$4.50'</li>\n",
       "\t<li>'$6.95'</li>\n",
       "</ol>\n"
      ],
      "text/latex": [
       "\\begin{enumerate*}\n",
       "\\item '\\$5.95'\n",
       "\\item '\\$7.95'\n",
       "\\item '\\$8.95'\n",
       "\\item '\\$4.50'\n",
       "\\item '\\$6.95'\n",
       "\\end{enumerate*}\n"
      ],
      "text/markdown": [
       "1. '$5.95'\n",
       "2. '$7.95'\n",
       "3. '$8.95'\n",
       "4. '$4.50'\n",
       "5. '$6.95'\n",
       "\n",
       "\n"
      ],
      "text/plain": [
       "[1] \"$5.95\" \"$7.95\" \"$8.95\" \"$4.50\" \"$6.95\""
      ]
     },
     "metadata": {},
     "output_type": "display_data"
    }
   ],
   "source": [
    "# 태그가 'price'인 노드를 반환\n",
    "xpathSApply(rootNode, \"//price\", xmlValue)"
   ]
  },
  {
   "cell_type": "code",
   "execution_count": 85,
   "metadata": {},
   "outputs": [
    {
     "data": {
      "text/html": [
       "<ol class=list-inline>\n",
       "\t<li>'20-0'</li>\n",
       "\t<li>'24-10'</li>\n",
       "\t<li>'44-7'</li>\n",
       "\t<li>'26-9'</li>\n",
       "\t<li>'30-17'</li>\n",
       "\t<li>'27-24'</li>\n",
       "\t<li>'24-16'</li>\n",
       "\t<li>'40-0'</li>\n",
       "\t<li>'23-20'</li>\n",
       "\t<li>'23-0'</li>\n",
       "\t<li>'23-16'</li>\n",
       "\t<li>'44-20'</li>\n",
       "\t<li>'39-38'</li>\n",
       "\t<li>'27-10'</li>\n",
       "\t<li>'23-16'</li>\n",
       "\t<li>'31-27'</li>\n",
       "\t<li>'23-3'</li>\n",
       "\t<li>'31-7'</li>\n",
       "\t<li>'13-9'</li>\n",
       "\t<li>'14-13'</li>\n",
       "</ol>\n"
      ],
      "text/latex": [
       "\\begin{enumerate*}\n",
       "\\item '20-0'\n",
       "\\item '24-10'\n",
       "\\item '44-7'\n",
       "\\item '26-9'\n",
       "\\item '30-17'\n",
       "\\item '27-24'\n",
       "\\item '24-16'\n",
       "\\item '40-0'\n",
       "\\item '23-20'\n",
       "\\item '23-0'\n",
       "\\item '23-16'\n",
       "\\item '44-20'\n",
       "\\item '39-38'\n",
       "\\item '27-10'\n",
       "\\item '23-16'\n",
       "\\item '31-27'\n",
       "\\item '23-3'\n",
       "\\item '31-7'\n",
       "\\item '13-9'\n",
       "\\item '14-13'\n",
       "\\end{enumerate*}\n"
      ],
      "text/markdown": [
       "1. '20-0'\n",
       "2. '24-10'\n",
       "3. '44-7'\n",
       "4. '26-9'\n",
       "5. '30-17'\n",
       "6. '27-24'\n",
       "7. '24-16'\n",
       "8. '40-0'\n",
       "9. '23-20'\n",
       "10. '23-0'\n",
       "11. '23-16'\n",
       "12. '44-20'\n",
       "13. '39-38'\n",
       "14. '27-10'\n",
       "15. '23-16'\n",
       "16. '31-27'\n",
       "17. '23-3'\n",
       "18. '31-7'\n",
       "19. '13-9'\n",
       "20. '14-13'\n",
       "\n",
       "\n"
      ],
      "text/plain": [
       " [1] \"20-0\"  \"24-10\" \"44-7\"  \"26-9\"  \"30-17\" \"27-24\" \"24-16\" \"40-0\"  \"23-20\"\n",
       "[10] \"23-0\"  \"23-16\" \"44-20\" \"39-38\" \"27-10\" \"23-16\" \"31-27\" \"23-3\"  \"31-7\" \n",
       "[19] \"13-9\"  \"14-13\""
      ]
     },
     "metadata": {},
     "output_type": "display_data"
    },
    {
     "data": {
      "text/html": [
       "<ol class=list-inline>\n",
       "\t<li><span style=white-space:pre-wrap>'@  Bengals'</span></li>\n",
       "\t<li><span style=white-space:pre-wrap>'vs  Browns'</span></li>\n",
       "\t<li><span style=white-space:pre-wrap>'vs  Jaguars'</span></li>\n",
       "\t<li><span style=white-space:pre-wrap>'vs  Steelers'</span></li>\n",
       "\t<li><span style=white-space:pre-wrap>'@  Raiders'</span></li>\n",
       "\t<li><span style=white-space:pre-wrap>'vs  Bears'</span></li>\n",
       "\t<li><span style=white-space:pre-wrap>'@  Vikings'</span></li>\n",
       "\t<li><span style=white-space:pre-wrap>'vs  Dolphins'</span></li>\n",
       "\t<li><span style=white-space:pre-wrap>'@  Titans'</span></li>\n",
       "\t<li><span style=white-space:pre-wrap>'@  Packers'</span></li>\n",
       "\t<li><span style=white-space:pre-wrap>'vs  Texans'</span></li>\n",
       "\t<li><span style=white-space:pre-wrap>'vs  Lions'</span></li>\n",
       "\t<li><span style=white-space:pre-wrap>'@  Steelers'</span></li>\n",
       "\t<li><span style=white-space:pre-wrap>'@  Browns'</span></li>\n",
       "\t<li><span style=white-space:pre-wrap>'vs  Colts'</span></li>\n",
       "\t<li><span style=white-space:pre-wrap>'vs  Bengals'</span></li>\n",
       "\t<li><span style=white-space:pre-wrap>'vs  Redskins'</span></li>\n",
       "\t<li><span style=white-space:pre-wrap>'@  Dolphins'</span></li>\n",
       "\t<li><span style=white-space:pre-wrap>'vs  Bills'</span></li>\n",
       "\t<li><span style=white-space:pre-wrap>'@  Saints'</span></li>\n",
       "</ol>\n"
      ],
      "text/latex": [
       "\\begin{enumerate*}\n",
       "\\item '@  Bengals'\n",
       "\\item 'vs  Browns'\n",
       "\\item 'vs  Jaguars'\n",
       "\\item 'vs  Steelers'\n",
       "\\item '@  Raiders'\n",
       "\\item 'vs  Bears'\n",
       "\\item '@  Vikings'\n",
       "\\item 'vs  Dolphins'\n",
       "\\item '@  Titans'\n",
       "\\item '@  Packers'\n",
       "\\item 'vs  Texans'\n",
       "\\item 'vs  Lions'\n",
       "\\item '@  Steelers'\n",
       "\\item '@  Browns'\n",
       "\\item 'vs  Colts'\n",
       "\\item 'vs  Bengals'\n",
       "\\item 'vs  Redskins'\n",
       "\\item '@  Dolphins'\n",
       "\\item 'vs  Bills'\n",
       "\\item '@  Saints'\n",
       "\\end{enumerate*}\n"
      ],
      "text/markdown": [
       "1. <span style=white-space:pre-wrap>'@  Bengals'</span>\n",
       "2. <span style=white-space:pre-wrap>'vs  Browns'</span>\n",
       "3. <span style=white-space:pre-wrap>'vs  Jaguars'</span>\n",
       "4. <span style=white-space:pre-wrap>'vs  Steelers'</span>\n",
       "5. <span style=white-space:pre-wrap>'@  Raiders'</span>\n",
       "6. <span style=white-space:pre-wrap>'vs  Bears'</span>\n",
       "7. <span style=white-space:pre-wrap>'@  Vikings'</span>\n",
       "8. <span style=white-space:pre-wrap>'vs  Dolphins'</span>\n",
       "9. <span style=white-space:pre-wrap>'@  Titans'</span>\n",
       "10. <span style=white-space:pre-wrap>'@  Packers'</span>\n",
       "11. <span style=white-space:pre-wrap>'vs  Texans'</span>\n",
       "12. <span style=white-space:pre-wrap>'vs  Lions'</span>\n",
       "13. <span style=white-space:pre-wrap>'@  Steelers'</span>\n",
       "14. <span style=white-space:pre-wrap>'@  Browns'</span>\n",
       "15. <span style=white-space:pre-wrap>'vs  Colts'</span>\n",
       "16. <span style=white-space:pre-wrap>'vs  Bengals'</span>\n",
       "17. <span style=white-space:pre-wrap>'vs  Redskins'</span>\n",
       "18. <span style=white-space:pre-wrap>'@  Dolphins'</span>\n",
       "19. <span style=white-space:pre-wrap>'vs  Bills'</span>\n",
       "20. <span style=white-space:pre-wrap>'@  Saints'</span>\n",
       "\n",
       "\n"
      ],
      "text/plain": [
       " [1] \"@  Bengals\"   \"vs  Browns\"   \"vs  Jaguars\"  \"vs  Steelers\" \"@  Raiders\"  \n",
       " [6] \"vs  Bears\"    \"@  Vikings\"   \"vs  Dolphins\" \"@  Titans\"    \"@  Packers\"  \n",
       "[11] \"vs  Texans\"   \"vs  Lions\"    \"@  Steelers\"  \"@  Browns\"    \"vs  Colts\"   \n",
       "[16] \"vs  Bengals\"  \"vs  Redskins\" \"@  Dolphins\"  \"vs  Bills\"    \"@  Saints\"   "
      ]
     },
     "metadata": {},
     "output_type": "display_data"
    }
   ],
   "source": [
    "fileURL <- \"http://www.espn.com/nfl/team/_/name/bal/baltimore-ravens\"\n",
    "doc <- htmlTreeParse(fileURL, useInternal=T)\n",
    "scores <- xpathSApply(doc, \"//div[@class='score']\", xmlValue)\n",
    "teams <- xpathSApply(doc, \"//div[@class='game-info']\", xmlValue)\n",
    "scores\n",
    "teams"
   ]
  }
 ],
 "metadata": {
  "kernelspec": {
   "display_name": "R",
   "language": "R",
   "name": "ir"
  },
  "language_info": {
   "codemirror_mode": "r",
   "file_extension": ".r",
   "mimetype": "text/x-r-source",
   "name": "R",
   "pygments_lexer": "r",
   "version": "3.4.3"
  }
 },
 "nbformat": 4,
 "nbformat_minor": 2
}
