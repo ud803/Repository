{
 "cells": [
  {
   "cell_type": "markdown",
   "metadata": {},
   "source": [
    "# 'apply' Function"
   ]
  },
  {
   "cell_type": "markdown",
   "metadata": {},
   "source": [
    "앞서 Week 2에서 배운 `for, while` 반복문은 스크립트에서 유용하지만 커맨드라인에서는 사용이 쉽지 않다.\n",
    "\n",
    "커맨드라인에서의 반복문을 쉽게 해주는 명령어를 배워보자.\n",
    "\n",
    "- `lapply` : 리스트 내용을 반복하고 각 원소에 함수를 적용한다\n",
    "- `sapply` : `lapply`와 같지만 결과를 단순화해서 보여준다\n",
    "- `apply` : 배열에 함수를 적용하여 마진에 표시한다\n",
    "- `tapply` : 벡터의 부분집합에 함수를 적용한다\n",
    "- `mapply` : `lapply`의 다변량 버전이다\n",
    "- `split` : 주로 `lapply`와 함께 보조로 쓰인다"
   ]
  },
  {
   "cell_type": "markdown",
   "metadata": {},
   "source": [
    "### 1. `lapply`\n",
    "\n",
    "`lapply`는 3개의 인자를 받는다.\n",
    "\n",
    "1. 리스트\n",
    "2. 적용할 함수 (혹은 함수의 이름) - FUN\n",
    "3. '...' 인자를 통한 다른 인자"
   ]
  },
  {
   "cell_type": "code",
   "execution_count": 19,
   "metadata": {},
   "outputs": [
    {
     "data": {
      "text/html": [
       "<pre class=language-r><code>function (X, FUN, ...) \n",
       "NULL</code></pre>"
      ],
      "text/latex": [
       "\\begin{minted}{r}\n",
       "function (X, FUN, ...) \n",
       "NULL\n",
       "\\end{minted}"
      ],
      "text/markdown": [
       "```r\n",
       "function (X, FUN, ...) \n",
       "NULL\n",
       "```"
      ],
      "text/plain": [
       "function (X, FUN, ...) \n",
       "NULL"
      ]
     },
     "metadata": {},
     "output_type": "display_data"
    }
   ],
   "source": [
    "args(lapply)"
   ]
  },
  {
   "cell_type": "markdown",
   "metadata": {},
   "source": [
    "만약 x가 리스트가 아니면, as.list 함수를 통해 리스트로 강제 변형된다.\n",
    "\n",
    "실제 반복문은 내부적으로 C 코드를 통해 진행된다."
   ]
  },
  {
   "cell_type": "code",
   "execution_count": 9,
   "metadata": {},
   "outputs": [
    {
     "data": {
      "text/html": [
       "<dl>\n",
       "\t<dt>$a</dt>\n",
       "\t\t<dd>3</dd>\n",
       "\t<dt>$b</dt>\n",
       "\t\t<dd>0.372456912447725</dd>\n",
       "</dl>\n"
      ],
      "text/latex": [
       "\\begin{description}\n",
       "\\item[\\$a] 3\n",
       "\\item[\\$b] 0.372456912447725\n",
       "\\end{description}\n"
      ],
      "text/markdown": [
       "$a\n",
       ":   3\n",
       "$b\n",
       ":   0.372456912447725\n",
       "\n",
       "\n"
      ],
      "text/plain": [
       "$a\n",
       "[1] 3\n",
       "\n",
       "$b\n",
       "[1] 0.3724569\n"
      ]
     },
     "metadata": {},
     "output_type": "display_data"
    }
   ],
   "source": [
    "x <- list(a = 1:5, b = rnorm(10))\n",
    "lapply(x, mean)"
   ]
  },
  {
   "cell_type": "code",
   "execution_count": 15,
   "metadata": {},
   "outputs": [
    {
     "data": {
      "text/html": [
       "<dl>\n",
       "\t<dt>$a</dt>\n",
       "\t\t<dd>2.5</dd>\n",
       "\t<dt>$b</dt>\n",
       "\t\t<dd>-0.184603925417435</dd>\n",
       "\t<dt>$c</dt>\n",
       "\t\t<dd>1.07043866888864</dd>\n",
       "\t<dt>$d</dt>\n",
       "\t\t<dd>5.02955196607704</dd>\n",
       "</dl>\n"
      ],
      "text/latex": [
       "\\begin{description}\n",
       "\\item[\\$a] 2.5\n",
       "\\item[\\$b] -0.184603925417435\n",
       "\\item[\\$c] 1.07043866888864\n",
       "\\item[\\$d] 5.02955196607704\n",
       "\\end{description}\n"
      ],
      "text/markdown": [
       "$a\n",
       ":   2.5\n",
       "$b\n",
       ":   -0.184603925417435\n",
       "$c\n",
       ":   1.07043866888864\n",
       "$d\n",
       ":   5.02955196607704\n",
       "\n",
       "\n"
      ],
      "text/plain": [
       "$a\n",
       "[1] 2.5\n",
       "\n",
       "$b\n",
       "[1] -0.1846039\n",
       "\n",
       "$c\n",
       "[1] 1.070439\n",
       "\n",
       "$d\n",
       "[1] 5.029552\n"
      ]
     },
     "metadata": {},
     "output_type": "display_data"
    }
   ],
   "source": [
    "x <- list(a = 1:4, b = rnorm(10), c = rnorm(20, 1), d = rnorm(100, 5))\n",
    "lapply(x, mean)"
   ]
  },
  {
   "cell_type": "code",
   "execution_count": 21,
   "metadata": {},
   "outputs": [
    {
     "data": {
      "text/html": [
       "<ol>\n",
       "\t<li>0.41225763480179</li>\n",
       "\t<li><ol class=list-inline>\n",
       "\t<li>0.699344995897263</li>\n",
       "\t<li>0.717406265204772</li>\n",
       "</ol>\n",
       "</li>\n",
       "\t<li><ol class=list-inline>\n",
       "\t<li>0.489271125290543</li>\n",
       "\t<li>0.773629481904209</li>\n",
       "\t<li>0.811310572549701</li>\n",
       "</ol>\n",
       "</li>\n",
       "\t<li><ol class=list-inline>\n",
       "\t<li>0.427480180282146</li>\n",
       "\t<li>0.772369204089046</li>\n",
       "\t<li>0.573875551111996</li>\n",
       "\t<li>0.855965842492878</li>\n",
       "</ol>\n",
       "</li>\n",
       "</ol>\n"
      ],
      "text/latex": [
       "\\begin{enumerate}\n",
       "\\item 0.41225763480179\n",
       "\\item \\begin{enumerate*}\n",
       "\\item 0.699344995897263\n",
       "\\item 0.717406265204772\n",
       "\\end{enumerate*}\n",
       "\n",
       "\\item \\begin{enumerate*}\n",
       "\\item 0.489271125290543\n",
       "\\item 0.773629481904209\n",
       "\\item 0.811310572549701\n",
       "\\end{enumerate*}\n",
       "\n",
       "\\item \\begin{enumerate*}\n",
       "\\item 0.427480180282146\n",
       "\\item 0.772369204089046\n",
       "\\item 0.573875551111996\n",
       "\\item 0.855965842492878\n",
       "\\end{enumerate*}\n",
       "\n",
       "\\end{enumerate}\n"
      ],
      "text/markdown": [
       "1. 0.41225763480179\n",
       "2. 1. 0.699344995897263\n",
       "2. 0.717406265204772\n",
       "\n",
       "\n",
       "\n",
       "3. 1. 0.489271125290543\n",
       "2. 0.773629481904209\n",
       "3. 0.811310572549701\n",
       "\n",
       "\n",
       "\n",
       "4. 1. 0.427480180282146\n",
       "2. 0.772369204089046\n",
       "3. 0.573875551111996\n",
       "4. 0.855965842492878\n",
       "\n",
       "\n",
       "\n",
       "\n",
       "\n"
      ],
      "text/plain": [
       "[[1]]\n",
       "[1] 0.4122576\n",
       "\n",
       "[[2]]\n",
       "[1] 0.6993450 0.7174063\n",
       "\n",
       "[[3]]\n",
       "[1] 0.4892711 0.7736295 0.8113106\n",
       "\n",
       "[[4]]\n",
       "[1] 0.4274802 0.7723692 0.5738756 0.8559658\n"
      ]
     },
     "metadata": {},
     "output_type": "display_data"
    }
   ],
   "source": [
    "# uniform 분포의 random number를 제너레이트한다\n",
    "x <- 1:4\n",
    "lapply(x, runif)"
   ]
  },
  {
   "cell_type": "code",
   "execution_count": 23,
   "metadata": {
    "scrolled": true
   },
   "outputs": [
    {
     "data": {
      "text/html": [
       "<ol>\n",
       "\t<li>1.04927491396666</li>\n",
       "\t<li><ol class=list-inline>\n",
       "\t<li>1.36670268606395</li>\n",
       "\t<li>7.4324013479054</li>\n",
       "</ol>\n",
       "</li>\n",
       "\t<li><ol class=list-inline>\n",
       "\t<li>4.00896763429046</li>\n",
       "\t<li>2.86337938159704</li>\n",
       "\t<li>5.83175961161032</li>\n",
       "</ol>\n",
       "</li>\n",
       "\t<li><ol class=list-inline>\n",
       "\t<li>6.51608689455315</li>\n",
       "\t<li>9.09409347688779</li>\n",
       "\t<li>7.79735593358055</li>\n",
       "\t<li>5.27002576971427</li>\n",
       "</ol>\n",
       "</li>\n",
       "</ol>\n"
      ],
      "text/latex": [
       "\\begin{enumerate}\n",
       "\\item 1.04927491396666\n",
       "\\item \\begin{enumerate*}\n",
       "\\item 1.36670268606395\n",
       "\\item 7.4324013479054\n",
       "\\end{enumerate*}\n",
       "\n",
       "\\item \\begin{enumerate*}\n",
       "\\item 4.00896763429046\n",
       "\\item 2.86337938159704\n",
       "\\item 5.83175961161032\n",
       "\\end{enumerate*}\n",
       "\n",
       "\\item \\begin{enumerate*}\n",
       "\\item 6.51608689455315\n",
       "\\item 9.09409347688779\n",
       "\\item 7.79735593358055\n",
       "\\item 5.27002576971427\n",
       "\\end{enumerate*}\n",
       "\n",
       "\\end{enumerate}\n"
      ],
      "text/markdown": [
       "1. 1.04927491396666\n",
       "2. 1. 1.36670268606395\n",
       "2. 7.4324013479054\n",
       "\n",
       "\n",
       "\n",
       "3. 1. 4.00896763429046\n",
       "2. 2.86337938159704\n",
       "3. 5.83175961161032\n",
       "\n",
       "\n",
       "\n",
       "4. 1. 6.51608689455315\n",
       "2. 9.09409347688779\n",
       "3. 7.79735593358055\n",
       "4. 5.27002576971427\n",
       "\n",
       "\n",
       "\n",
       "\n",
       "\n"
      ],
      "text/plain": [
       "[[1]]\n",
       "[1] 1.049275\n",
       "\n",
       "[[2]]\n",
       "[1] 1.366703 7.432401\n",
       "\n",
       "[[3]]\n",
       "[1] 4.008968 2.863379 5.831760\n",
       "\n",
       "[[4]]\n",
       "[1] 6.516087 9.094093 7.797356 5.270026\n"
      ]
     },
     "metadata": {},
     "output_type": "display_data"
    }
   ],
   "source": [
    "# runif의 다른 인자들을 설정해준다.\n",
    "# 주의할 점은, runif() 형태가 아닌 lapply의 인자로서 들어간다는 점!\n",
    "x <- 1:4\n",
    "lapply(x, runif, min = 0, max = 10)"
   ]
  },
  {
   "cell_type": "markdown",
   "metadata": {},
   "source": [
    "`lapply`와 나머지 함수들은 어나니머스 함수를 많이 사용한다.\n",
    "\n",
    "어나니머스 함수란 이름이 없는 함수를 뜻한다.\n",
    "\n",
    "아래 리스트의 각 행렬에서 첫번째 열을 추출한다고 가정해보자."
   ]
  },
  {
   "cell_type": "code",
   "execution_count": 29,
   "metadata": {},
   "outputs": [
    {
     "data": {
      "text/html": [
       "<dl>\n",
       "\t<dt>$a</dt>\n",
       "\t\t<dd><table>\n",
       "<tbody>\n",
       "\t<tr><td>1</td><td>3</td></tr>\n",
       "\t<tr><td>2</td><td>4</td></tr>\n",
       "</tbody>\n",
       "</table>\n",
       "</dd>\n",
       "\t<dt>$b</dt>\n",
       "\t\t<dd><table>\n",
       "<tbody>\n",
       "\t<tr><td>3</td><td>5</td></tr>\n",
       "\t<tr><td>4</td><td>6</td></tr>\n",
       "</tbody>\n",
       "</table>\n",
       "</dd>\n",
       "</dl>\n"
      ],
      "text/latex": [
       "\\begin{description}\n",
       "\\item[\\$a] \\begin{tabular}{ll}\n",
       "\t 1 & 3\\\\\n",
       "\t 2 & 4\\\\\n",
       "\\end{tabular}\n",
       "\n",
       "\\item[\\$b] \\begin{tabular}{ll}\n",
       "\t 3 & 5\\\\\n",
       "\t 4 & 6\\\\\n",
       "\\end{tabular}\n",
       "\n",
       "\\end{description}\n"
      ],
      "text/markdown": [
       "$a\n",
       ":   \n",
       "| 1 | 3 | \n",
       "| 2 | 4 | \n",
       "\n",
       "\n",
       "\n",
       "$b\n",
       ":   \n",
       "| 3 | 5 | \n",
       "| 4 | 6 | \n",
       "\n",
       "\n",
       "\n",
       "\n",
       "\n"
      ],
      "text/plain": [
       "$a\n",
       "     [,1] [,2]\n",
       "[1,]    1    3\n",
       "[2,]    2    4\n",
       "\n",
       "$b\n",
       "     [,1] [,2]\n",
       "[1,]    3    5\n",
       "[2,]    4    6\n"
      ]
     },
     "metadata": {},
     "output_type": "display_data"
    }
   ],
   "source": [
    "x <- list(a = matrix(1:4, 2, 2), b = matrix(3:6, 2, 2))\n",
    "x"
   ]
  },
  {
   "cell_type": "markdown",
   "metadata": {},
   "source": [
    "첫 번째 열만 추출하는 함수는 따로 존재하지 않는다.\n",
    "\n",
    "따라서 어나니머스 함수를 사용하는 것이다."
   ]
  },
  {
   "cell_type": "code",
   "execution_count": 30,
   "metadata": {},
   "outputs": [
    {
     "data": {
      "text/html": [
       "<dl>\n",
       "\t<dt>$a</dt>\n",
       "\t\t<dd><ol class=list-inline>\n",
       "\t<li>1</li>\n",
       "\t<li>2</li>\n",
       "</ol>\n",
       "</dd>\n",
       "\t<dt>$b</dt>\n",
       "\t\t<dd><ol class=list-inline>\n",
       "\t<li>3</li>\n",
       "\t<li>4</li>\n",
       "</ol>\n",
       "</dd>\n",
       "</dl>\n"
      ],
      "text/latex": [
       "\\begin{description}\n",
       "\\item[\\$a] \\begin{enumerate*}\n",
       "\\item 1\n",
       "\\item 2\n",
       "\\end{enumerate*}\n",
       "\n",
       "\\item[\\$b] \\begin{enumerate*}\n",
       "\\item 3\n",
       "\\item 4\n",
       "\\end{enumerate*}\n",
       "\n",
       "\\end{description}\n"
      ],
      "text/markdown": [
       "$a\n",
       ":   1. 1\n",
       "2. 2\n",
       "\n",
       "\n",
       "\n",
       "$b\n",
       ":   1. 3\n",
       "2. 4\n",
       "\n",
       "\n",
       "\n",
       "\n",
       "\n"
      ],
      "text/plain": [
       "$a\n",
       "[1] 1 2\n",
       "\n",
       "$b\n",
       "[1] 3 4\n"
      ]
     },
     "metadata": {},
     "output_type": "display_data"
    }
   ],
   "source": [
    "# anonymous function\n",
    "# does not have its name\n",
    "lapply(x, function(elt) elt[,1])"
   ]
  },
  {
   "cell_type": "markdown",
   "metadata": {},
   "source": [
    "### 2. `sapply`\n",
    "`sapply`는 가능한 `lapply`의 결과를 단순화해주는 함수이다\n",
    "\n",
    "- 만약 결과 값이 모든 원소의 길이가 1인 리스트라면, 리스트 대신 벡터가 반환된다\n",
    "- 만약 결과 값이 모든 원소의 길이가 같은 벡터라면, 행렬이 반환된다\n",
    "- 어느 것에도 해당되지 않으면 그대로 리스트가 반환된다"
   ]
  },
  {
   "cell_type": "code",
   "execution_count": 32,
   "metadata": {},
   "outputs": [
    {
     "data": {
      "text/html": [
       "<table>\n",
       "<thead><tr><th scope=col>a</th><th scope=col>b</th></tr></thead>\n",
       "<tbody>\n",
       "\t<tr><td>1</td><td>3</td></tr>\n",
       "\t<tr><td>2</td><td>4</td></tr>\n",
       "</tbody>\n",
       "</table>\n"
      ],
      "text/latex": [
       "\\begin{tabular}{ll}\n",
       " a & b\\\\\n",
       "\\hline\n",
       "\t 1 & 3\\\\\n",
       "\t 2 & 4\\\\\n",
       "\\end{tabular}\n"
      ],
      "text/markdown": [
       "\n",
       "a | b | \n",
       "|---|---|\n",
       "| 1 | 3 | \n",
       "| 2 | 4 | \n",
       "\n",
       "\n"
      ],
      "text/plain": [
       "     a b\n",
       "[1,] 1 3\n",
       "[2,] 2 4"
      ]
     },
     "metadata": {},
     "output_type": "display_data"
    }
   ],
   "source": [
    "# lapply와 달리 행렬이 반환됨\n",
    "sapply(x, function(elt) elt[,1])"
   ]
  },
  {
   "cell_type": "markdown",
   "metadata": {},
   "source": [
    "### 3. `apply`\n",
    "\n",
    "`apply`는 배열의 마진에 함수를 적용한다.\n",
    "\n",
    "- 행렬의 각 행이나 각 열에 함수를 적용할 때 자주 쓰인다\n",
    "- 일반적인 배열과도 쓰일 수 있다\n",
    "- 반복문보다 빠르지는 않지만, 한 문장으로 간단하게 쓸 수 있다"
   ]
  },
  {
   "cell_type": "markdown",
   "metadata": {},
   "source": [
    "4개 인자를 받는다\n",
    "- x : 배열\n",
    "- `MARGIN` : 행을 알려주는 정수형 벡터\n",
    "- `FUN` : 적용될 함수\n",
    "- `...` : 그 외 `FUN`에 전달될 인자"
   ]
  },
  {
   "cell_type": "code",
   "execution_count": 37,
   "metadata": {},
   "outputs": [
    {
     "data": {
      "text/html": [
       "<pre class=language-r><code>function (X, MARGIN, FUN, ...) \n",
       "NULL</code></pre>"
      ],
      "text/latex": [
       "\\begin{minted}{r}\n",
       "function (X, MARGIN, FUN, ...) \n",
       "NULL\n",
       "\\end{minted}"
      ],
      "text/markdown": [
       "```r\n",
       "function (X, MARGIN, FUN, ...) \n",
       "NULL\n",
       "```"
      ],
      "text/plain": [
       "function (X, MARGIN, FUN, ...) \n",
       "NULL"
      ]
     },
     "metadata": {},
     "output_type": "display_data"
    }
   ],
   "source": [
    "args(apply)"
   ]
  },
  {
   "cell_type": "code",
   "execution_count": 38,
   "metadata": {},
   "outputs": [
    {
     "data": {
      "text/html": [
       "<ol class=list-inline>\n",
       "\t<li>-0.226675586200666</li>\n",
       "\t<li>-0.114781211700786</li>\n",
       "\t<li>-0.179972602297297</li>\n",
       "\t<li>-0.118089162289768</li>\n",
       "\t<li>0.0293102204264993</li>\n",
       "\t<li>0.0522231790950971</li>\n",
       "\t<li>-0.218439484861471</li>\n",
       "\t<li>0.350338368593968</li>\n",
       "\t<li>0.204997455310663</li>\n",
       "\t<li>0.183031098919212</li>\n",
       "</ol>\n"
      ],
      "text/latex": [
       "\\begin{enumerate*}\n",
       "\\item -0.226675586200666\n",
       "\\item -0.114781211700786\n",
       "\\item -0.179972602297297\n",
       "\\item -0.118089162289768\n",
       "\\item 0.0293102204264993\n",
       "\\item 0.0522231790950971\n",
       "\\item -0.218439484861471\n",
       "\\item 0.350338368593968\n",
       "\\item 0.204997455310663\n",
       "\\item 0.183031098919212\n",
       "\\end{enumerate*}\n"
      ],
      "text/markdown": [
       "1. -0.226675586200666\n",
       "2. -0.114781211700786\n",
       "3. -0.179972602297297\n",
       "4. -0.118089162289768\n",
       "5. 0.0293102204264993\n",
       "6. 0.0522231790950971\n",
       "7. -0.218439484861471\n",
       "8. 0.350338368593968\n",
       "9. 0.204997455310663\n",
       "10. 0.183031098919212\n",
       "\n",
       "\n"
      ],
      "text/plain": [
       " [1] -0.22667559 -0.11478121 -0.17997260 -0.11808916  0.02931022  0.05222318\n",
       " [7] -0.21843948  0.35033837  0.20499746  0.18303110"
      ]
     },
     "metadata": {},
     "output_type": "display_data"
    }
   ],
   "source": [
    "x <- matrix(rnorm(200), 20, 10)\n",
    "# 2 = 열(col) 기준\n",
    "apply(x, 2, mean)"
   ]
  },
  {
   "cell_type": "code",
   "execution_count": 40,
   "metadata": {},
   "outputs": [
    {
     "data": {
      "text/html": [
       "<ol class=list-inline>\n",
       "\t<li>0.0900824292897376</li>\n",
       "\t<li>0.00717200638012989</li>\n",
       "\t<li>0.0729132934322788</li>\n",
       "\t<li>0.126257600987979</li>\n",
       "\t<li>-0.347913397647243</li>\n",
       "\t<li>0.242160289819904</li>\n",
       "\t<li>-0.0229788581391582</li>\n",
       "\t<li>-0.575310135594988</li>\n",
       "\t<li>-0.164770923532411</li>\n",
       "\t<li>-0.459746682652144</li>\n",
       "\t<li>-0.0529100331111097</li>\n",
       "\t<li>-0.362280476454204</li>\n",
       "\t<li>0.272479187851286</li>\n",
       "\t<li>0.494994671985269</li>\n",
       "\t<li>0.811272064152575</li>\n",
       "\t<li>0.163624014996599</li>\n",
       "\t<li>-0.624771874955637</li>\n",
       "\t<li>0.314684486427151</li>\n",
       "\t<li>0.0359148983307285</li>\n",
       "\t<li>-0.0969880115758402</li>\n",
       "</ol>\n"
      ],
      "text/latex": [
       "\\begin{enumerate*}\n",
       "\\item 0.0900824292897376\n",
       "\\item 0.00717200638012989\n",
       "\\item 0.0729132934322788\n",
       "\\item 0.126257600987979\n",
       "\\item -0.347913397647243\n",
       "\\item 0.242160289819904\n",
       "\\item -0.0229788581391582\n",
       "\\item -0.575310135594988\n",
       "\\item -0.164770923532411\n",
       "\\item -0.459746682652144\n",
       "\\item -0.0529100331111097\n",
       "\\item -0.362280476454204\n",
       "\\item 0.272479187851286\n",
       "\\item 0.494994671985269\n",
       "\\item 0.811272064152575\n",
       "\\item 0.163624014996599\n",
       "\\item -0.624771874955637\n",
       "\\item 0.314684486427151\n",
       "\\item 0.0359148983307285\n",
       "\\item -0.0969880115758402\n",
       "\\end{enumerate*}\n"
      ],
      "text/markdown": [
       "1. 0.0900824292897376\n",
       "2. 0.00717200638012989\n",
       "3. 0.0729132934322788\n",
       "4. 0.126257600987979\n",
       "5. -0.347913397647243\n",
       "6. 0.242160289819904\n",
       "7. -0.0229788581391582\n",
       "8. -0.575310135594988\n",
       "9. -0.164770923532411\n",
       "10. -0.459746682652144\n",
       "11. -0.0529100331111097\n",
       "12. -0.362280476454204\n",
       "13. 0.272479187851286\n",
       "14. 0.494994671985269\n",
       "15. 0.811272064152575\n",
       "16. 0.163624014996599\n",
       "17. -0.624771874955637\n",
       "18. 0.314684486427151\n",
       "19. 0.0359148983307285\n",
       "20. -0.0969880115758402\n",
       "\n",
       "\n"
      ],
      "text/plain": [
       " [1]  0.090082429  0.007172006  0.072913293  0.126257601 -0.347913398\n",
       " [6]  0.242160290 -0.022978858 -0.575310136 -0.164770924 -0.459746683\n",
       "[11] -0.052910033 -0.362280476  0.272479188  0.494994672  0.811272064\n",
       "[16]  0.163624015 -0.624771875  0.314684486  0.035914898 -0.096988012"
      ]
     },
     "metadata": {},
     "output_type": "display_data"
    }
   ],
   "source": [
    "# 1 = 행(row) 기준\n",
    "apply(x, 1, mean)"
   ]
  },
  {
   "cell_type": "markdown",
   "metadata": {},
   "source": [
    "사실 행렬의 간단한 행/열 연산은 다른 최적화된 함수가 존재한다.\n",
    "\n",
    "- `rowSums` = `apply(x, 1, sum)`\n",
    "- `rowMeans`\n",
    "- `colSums`\n",
    "- `colMeans`\n",
    "\n",
    "이러한 함수들이 훨씬 훨씬 더 빠르므로, 거대한 행렬에서는 이들을 사용하자."
   ]
  },
  {
   "cell_type": "code",
   "execution_count": 48,
   "metadata": {},
   "outputs": [
    {
     "data": {
      "text/html": [
       "<table>\n",
       "<tbody>\n",
       "\t<tr><th scope=row>25%</th><td>0.0606527   </td><td>-0.7317654  </td><td>-0.4501331  </td><td>-0.500436   </td><td>-1.2065997  </td><td>-0.2705143  </td><td>-0.8900273  </td><td>-1.48394142 </td><td>-0.5635534  </td><td>-0.79929870 </td><td>-0.9751431  </td><td>-0.9336510  </td><td>-0.279501   </td><td>-0.006788539</td><td>0.5907915   </td><td>-0.8175139  </td><td>-2.0886680  </td><td>-0.03738429 </td><td>-0.6213612  </td><td>-0.8413536  </td></tr>\n",
       "\t<tr><th scope=row>75%</th><td>0.4371823   </td><td> 0.7061327  </td><td> 1.0063431  </td><td> 0.361069   </td><td> 0.2394192  </td><td> 0.5784695  </td><td> 0.7588106  </td><td> 0.05446823 </td><td> 0.1561690  </td><td>-0.02821464 </td><td> 0.6444782  </td><td> 0.3893733  </td><td> 1.012526   </td><td> 0.831326965</td><td>1.4938786   </td><td> 0.8020522  </td><td> 0.7750381  </td><td> 0.62962213 </td><td> 0.6963453  </td><td> 0.2053673  </td></tr>\n",
       "</tbody>\n",
       "</table>\n"
      ],
      "text/latex": [
       "\\begin{tabular}{r|llllllllllllllllllll}\n",
       "\t25\\% & 0.0606527    & -0.7317654   & -0.4501331   & -0.500436    & -1.2065997   & -0.2705143   & -0.8900273   & -1.48394142  & -0.5635534   & -0.79929870  & -0.9751431   & -0.9336510   & -0.279501    & -0.006788539 & 0.5907915    & -0.8175139   & -2.0886680   & -0.03738429  & -0.6213612   & -0.8413536  \\\\\n",
       "\t75\\% & 0.4371823    &  0.7061327   &  1.0063431   &  0.361069    &  0.2394192   &  0.5784695   &  0.7588106   &  0.05446823  &  0.1561690   & -0.02821464  &  0.6444782   &  0.3893733   &  1.012526    &  0.831326965 & 1.4938786    &  0.8020522   &  0.7750381   &  0.62962213  &  0.6963453   &  0.2053673  \\\\\n",
       "\\end{tabular}\n"
      ],
      "text/markdown": [
       "\n",
       "| 25% | 0.0606527    | -0.7317654   | -0.4501331   | -0.500436    | -1.2065997   | -0.2705143   | -0.8900273   | -1.48394142  | -0.5635534   | -0.79929870  | -0.9751431   | -0.9336510   | -0.279501    | -0.006788539 | 0.5907915    | -0.8175139   | -2.0886680   | -0.03738429  | -0.6213612   | -0.8413536   | \n",
       "| 75% | 0.4371823    |  0.7061327   |  1.0063431   |  0.361069    |  0.2394192   |  0.5784695   |  0.7588106   |  0.05446823  |  0.1561690   | -0.02821464  |  0.6444782   |  0.3893733   |  1.012526    |  0.831326965 | 1.4938786    |  0.8020522   |  0.7750381   |  0.62962213  |  0.6963453   |  0.2053673   | \n",
       "\n",
       "\n"
      ],
      "text/plain": [
       "    [,1]      [,2]       [,3]       [,4]      [,5]       [,6]       [,7]      \n",
       "25% 0.0606527 -0.7317654 -0.4501331 -0.500436 -1.2065997 -0.2705143 -0.8900273\n",
       "75% 0.4371823  0.7061327  1.0063431  0.361069  0.2394192  0.5784695  0.7588106\n",
       "    [,8]        [,9]       [,10]       [,11]      [,12]      [,13]    \n",
       "25% -1.48394142 -0.5635534 -0.79929870 -0.9751431 -0.9336510 -0.279501\n",
       "75%  0.05446823  0.1561690 -0.02821464  0.6444782  0.3893733  1.012526\n",
       "    [,14]        [,15]     [,16]      [,17]      [,18]       [,19]     \n",
       "25% -0.006788539 0.5907915 -0.8175139 -2.0886680 -0.03738429 -0.6213612\n",
       "75%  0.831326965 1.4938786  0.8020522  0.7750381  0.62962213  0.6963453\n",
       "    [,20]     \n",
       "25% -0.8413536\n",
       "75%  0.2053673"
      ]
     },
     "metadata": {},
     "output_type": "display_data"
    }
   ],
   "source": [
    "# quantile 범위를 구한다. quantile의 인자인 확률 인자도 함께 전달해준다.\n",
    "apply(x, 1, quantile, probs= c(0.25, 0.75))"
   ]
  },
  {
   "cell_type": "code",
   "execution_count": 50,
   "metadata": {},
   "outputs": [
    {
     "data": {
      "text/html": [
       "'closure'"
      ],
      "text/latex": [
       "'closure'"
      ],
      "text/markdown": [
       "'closure'"
      ],
      "text/plain": [
       "[1] \"closure\""
      ]
     },
     "metadata": {},
     "output_type": "display_data"
    }
   ],
   "source": [
    "a <- array(rnorm(2 * 2 * 10), c(2, 2, 10))\n",
    "typeof(array)"
   ]
  }
 ],
 "metadata": {
  "kernelspec": {
   "display_name": "R",
   "language": "R",
   "name": "ir"
  },
  "language_info": {
   "codemirror_mode": "r",
   "file_extension": ".r",
   "mimetype": "text/x-r-source",
   "name": "R",
   "pygments_lexer": "r",
   "version": "3.4.3"
  }
 },
 "nbformat": 4,
 "nbformat_minor": 2
}
