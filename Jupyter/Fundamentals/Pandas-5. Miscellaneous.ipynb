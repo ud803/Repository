{
 "cells": [
  {
   "cell_type": "markdown",
   "metadata": {},
   "source": [
    "## 1. Handling Missing Data\n",
    "\n",
    "1. Trade-offs in Missing data conventions\n",
    "    <br>1) using a `mask` that glbally indicates missing values\n",
    "    <br>2) or choosing a `sentinel` value that indicates a missing entry<br>\n",
    "2. Missing Data in Pandas\n",
    "    <br>1) None : Pythonic missing data.\n",
    "    <br> because None is a Python object, it cannot be used in any arbrtrary NumPy / Pandas array.\n",
    "    <br>2) NaN : Special floating-point value recognized by all systems."
   ]
  },
  {
   "cell_type": "code",
   "execution_count": 3,
   "metadata": {},
   "outputs": [
    {
     "name": "stdout",
     "output_type": "stream",
     "text": [
      "nan\n",
      "3.0\n",
      "1.0\n",
      "2.0\n"
     ]
    }
   ],
   "source": [
    "import numpy as np\n",
    "import pandas as pd\n",
    "\n",
    "# Some special NaN operations\n",
    "a = [1, 2, np.nan]\n",
    "print(sum(a))       # return nan\n",
    "print(np.nansum(a)) # return value after operating w/o nan\n",
    "print(np.nanmin(a))\n",
    "print(np.nanmax(a))"
   ]
  },
  {
   "cell_type": "markdown",
   "metadata": {},
   "source": [
    "3) Null : To facilitate this convention, there are several useful methods for detecting, removing, and replacing null values in Pandas"
   ]
  },
  {
   "cell_type": "code",
   "execution_count": 4,
   "metadata": {
    "scrolled": true
   },
   "outputs": [
    {
     "name": "stdout",
     "output_type": "stream",
     "text": [
      "     b\n",
      "0  1.0\n",
      "1  2.0\n",
      "2  NaN\n",
      "       b\n",
      "0  False\n",
      "1  False\n",
      "2   True\n",
      "       b\n",
      "0   True\n",
      "1   True\n",
      "2  False\n",
      "     b\n",
      "0  1.0\n",
      "1  2.0\n",
      "     b\n",
      "0  1.0\n",
      "1  2.0\n",
      "2  0.0\n",
      "     b\n",
      "0  1.0\n",
      "1  2.0\n",
      "2  2.0\n",
      "     b\n",
      "0  1.0\n",
      "1  2.0\n",
      "2  NaN\n"
     ]
    }
   ],
   "source": [
    "b = pd.DataFrame( {'b' : [1, 2, None ]})\n",
    "print(b)\n",
    "print(b.isnull())\n",
    "print(b.notnull())\n",
    "print(b.dropna())\n",
    "print(b.fillna(0))\n",
    "print(b.fillna(method='ffill')) #forward fill\n",
    "print(b.fillna(method='bfill')) #backward fill"
   ]
  }
 ],
 "metadata": {
  "kernelspec": {
   "display_name": "Python 3",
   "language": "python",
   "name": "python3"
  },
  "language_info": {
   "codemirror_mode": {
    "name": "ipython",
    "version": 3
   },
   "file_extension": ".py",
   "mimetype": "text/x-python",
   "name": "python",
   "nbconvert_exporter": "python",
   "pygments_lexer": "ipython3",
   "version": "3.6.3"
  }
 },
 "nbformat": 4,
 "nbformat_minor": 2
}
