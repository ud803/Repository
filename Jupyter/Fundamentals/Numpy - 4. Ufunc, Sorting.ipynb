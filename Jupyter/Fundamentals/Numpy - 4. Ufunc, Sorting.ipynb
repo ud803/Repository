{
 "cells": [
  {
   "cell_type": "markdown",
   "metadata": {},
   "source": [
    "# 1. Computation with Universal Functions\n",
    "\n",
    "Namely, NumPy provides an easy and flexible interface to optimized computation with arrays of data. \n",
    "\n",
    "Computation on NumPy arrays can be very fast, or it can be very slow. \n",
    "\n",
    "The key to making it fast is to use vectorized operations, generally implemented through NumPy’s ***universal functions (ufuncs). ***\n",
    "\n",
    "### 1) The Slowness of Loops\n",
    "\n",
    "The relative sluggishness of Python generally manifests itself in situations where many small operations are being repeated - for instance, looping over arrays to operate on each element. For example, imagine the code below :\n"
   ]
  },
  {
   "cell_type": "code",
   "execution_count": 3,
   "metadata": {
    "scrolled": true
   },
   "outputs": [
    {
     "name": "stdout",
     "output_type": "stream",
     "text": [
      "9.17 µs ± 44.3 ns per loop (mean ± std. dev. of 7 runs, 100000 loops each)\n"
     ]
    }
   ],
   "source": [
    "%%timeit\n",
    "import numpy as np\n",
    "np.random.seed(0)\n",
    "def compute_reciprocals(values) :\n",
    "    output = np.empty(len(values))\n",
    "    for i in range(len(values)):\n",
    "        output[i] = 1.0 / values[i]\n",
    "        return output\n",
    "values = np.random.randint(1, 10, size=5)\n",
    "compute_reciprocals(values)\n"
   ]
  },
  {
   "cell_type": "markdown",
   "metadata": {},
   "source": [
    "This implementation probably feels fairly natural to someone from C or Java background. \n",
    "But if we measure the execution time of this code for a large input, we see that this operation is very surprisingly slow. \n",
    "\n",
    "Bottleneck here is **not the operations themselves, but the type-checking and function dispatches **that CPython must do at each cycle of the loop."
   ]
  },
  {
   "cell_type": "markdown",
   "metadata": {},
   "source": [
    "### 2) Introducing Ufuncs\n",
    "\n",
    "Vectorized operations in NumPy are implemented via ufuncs, whose main purpose is to quickly execute repeated operations on values in NumPy arrays.\n",
    "\n",
    "- Ufuncs exist in two flavors : unary ufuncs and binary ufuncs.\n",
    "    - np.add +\n",
    "    - np.subtract -\n",
    "    - np.negative -\n",
    "    - np.multiply *\n",
    "    - np.divide /\n",
    "    - np.floor_divide //\n",
    "    - np.power **\n",
    "    - np.mod %\n",
    "    - np.absolute, np.abs , abs(x)\n",
    "\n",
    "- Trigonometric functions\n",
    "    - theta = np.linspace(0, np.pi, 3)\n",
    "    - np.sin(theta)    / np.arcsin(theta)\n",
    "    - np.cos(theta)    / np.arccos(theta)\n",
    "    - np.tan(theta)    / np.arctan(theta)\n",
    "    \n",
    "- Exponents and Logaithms\n",
    "    - x = [1, 2, 3]\n",
    "    - np.exp(x)\n",
    "    - np.exp2(x)    = 2^x\n",
    "    - np.power(3, x)    = 3^x\n",
    "    - x = [1, 2, 4, 10]\n",
    "    - np.log(x)\n",
    "    - np.log2(x)\n",
    "    - np.log10(x)\n",
    "    - when the numbers are very small\n",
    "    \n",
    "    print(“exp(x) - 1 =”, np.expm1(x) )\n",
    "    \n",
    "    print(“log(1+x) =”, np.log1p(x))\n"
   ]
  },
  {
   "cell_type": "markdown",
   "metadata": {},
   "source": [
    "### 3) Advanced Ufunc Features\n",
    "\n",
    "###### a) Specifying Output\n",
    "\n",
    "For large calculations, it is sometimes useful to be able to specify the array where the result of the calculation will be stored. "
   ]
  },
  {
   "cell_type": "code",
   "execution_count": 7,
   "metadata": {},
   "outputs": [
    {
     "name": "stdout",
     "output_type": "stream",
     "text": [
      "[  0.  10.  20.  30.  40.]\n",
      "[  1.   0.   2.   0.   4.   0.   8.   0.  16.   0.]\n"
     ]
    }
   ],
   "source": [
    "x = np.arange(5)\n",
    "y = np.empty(5)\n",
    "np.multiply(x, 10, out=y)\n",
    "print(y)\n",
    "\n",
    "y = np.zeros(10)\n",
    "np.power(2, x, out=y[::2])\n",
    "print(y)"
   ]
  },
  {
   "cell_type": "markdown",
   "metadata": {},
   "source": [
    "If we had instead written y[::2] = 2^x, \n",
    "\n",
    "**this would have resulted in the creation of a temporary array to hold the results of 2 ^x, followed by a second operation copying those values into the y array.** \n",
    "\n",
    "For large arrays, the memory savings from use of “the out” can be significant.\n"
   ]
  },
  {
   "cell_type": "markdown",
   "metadata": {},
   "source": [
    "###### b) Aggregates\n",
    "\n",
    "For binary ufuncs, there are some interesting aggregate that can be computed directly from the object. For example, if we’d like to reduce an array with a particular operation, we can use the reduce method of any ufunc.\n",
    "\n",
    "**  A reduce repeatedly applies a given operation to the elements of an array until only a single result remains. **"
   ]
  },
  {
   "cell_type": "code",
   "execution_count": 8,
   "metadata": {},
   "outputs": [
    {
     "data": {
      "text/plain": [
       "array([ 1,  3,  6, 10, 15])"
      ]
     },
     "execution_count": 8,
     "metadata": {},
     "output_type": "execute_result"
    }
   ],
   "source": [
    " x = np.arange(1, 6)\n",
    "np.add.reduce(x)  #out = 15, same as np.sum\n",
    "np.multiply.reduce(x)  #out = 120, same as np.prod\n",
    "np.add.accumulate(x)     #out = [1,3,6,10,15], same as np.cumsum / np.cumprod"
   ]
  },
  {
   "cell_type": "markdown",
   "metadata": {},
   "source": [
    "###### c) Outer Products\n",
    "\n",
    "Finally, any ufunc can compute the output of all pairs of two different inputs using the outer method. This allows you, in one line, to do things like create a multiplication table"
   ]
  },
  {
   "cell_type": "code",
   "execution_count": 10,
   "metadata": {},
   "outputs": [
    {
     "data": {
      "text/plain": [
       "array([[ 1,  2,  3,  4,  5],\n",
       "       [ 2,  4,  6,  8, 10],\n",
       "       [ 3,  6,  9, 12, 15],\n",
       "       [ 4,  8, 12, 16, 20],\n",
       "       [ 5, 10, 15, 20, 25]])"
      ]
     },
     "execution_count": 10,
     "metadata": {},
     "output_type": "execute_result"
    }
   ],
   "source": [
    "x = np.arange(1,6)\n",
    "np.multiply.outer(x, x)"
   ]
  },
  {
   "cell_type": "markdown",
   "metadata": {},
   "source": [
    "###### d) Some operations"
   ]
  },
  {
   "cell_type": "code",
   "execution_count": 11,
   "metadata": {},
   "outputs": [
    {
     "name": "stdout",
     "output_type": "stream",
     "text": [
      "6.7184399189\n",
      "[ 0.4236548   0.38344152  0.07103606  0.0871293 ]\n",
      "[ 0.891773    0.96366276  0.92559664]\n"
     ]
    }
   ],
   "source": [
    "M = np.random.random( (3,4) )\n",
    "print(M.sum()) #overall sum\n",
    "print(M.min(axis=0))    # min val of each column\n",
    "print(M.max(axis=1)) #max val of each row"
   ]
  },
  {
   "cell_type": "code",
   "execution_count": 14,
   "metadata": {},
   "outputs": [
    {
     "name": "stdout",
     "output_type": "stream",
     "text": [
      "<function argmin at 0x7f47642d3158>\n",
      "<function argmax at 0x7f47642d30d0>\n",
      "<function percentile at 0x7f47641b06a8>\n",
      "False\n",
      "False\n"
     ]
    }
   ],
   "source": [
    "print(np.argmin ) # find index of minimum value\n",
    "print(np.argmax) # “”\n",
    "print(np.percentile) # compute rank-based statistics\n",
    "print(np.any(x>8) )   # Evaluate whether any elements are true\n",
    "print(np.all(x>8)) # Evaluate whether all elements are true"
   ]
  }
 ],
 "metadata": {
  "kernelspec": {
   "display_name": "Python 3",
   "language": "python",
   "name": "python3"
  },
  "language_info": {
   "codemirror_mode": {
    "name": "ipython",
    "version": 3
   },
   "file_extension": ".py",
   "mimetype": "text/x-python",
   "name": "python",
   "nbconvert_exporter": "python",
   "pygments_lexer": "ipython3",
   "version": "3.6.3"
  }
 },
 "nbformat": 4,
 "nbformat_minor": 2
}
