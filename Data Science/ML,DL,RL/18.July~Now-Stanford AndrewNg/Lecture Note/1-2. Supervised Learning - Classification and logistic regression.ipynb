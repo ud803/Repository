{
 "cells": [
  {
   "cell_type": "markdown",
   "metadata": {},
   "source": [
    "## Part 2. Classification and logistic regression\n",
    "\n",
    "<br>\n",
    "이제 분류 문제를 다뤄보자. 분류는 $y$ 값이 이산형 값이라는 것만 제외하면 회귀 문제와 같다.\n",
    "\n",
    "일단은 $y$가 0과 1의 값을 갖는 **이진 분류(binary classification)** 문제를 살펴보겠다.\n",
    "\n",
    "예를 들어, 스팸 메일을 거르고 싶을 때, 스팸일 경우 1, 아닐 경우 0의 값을 할당한다.\n",
    "\n",
    "이때 0을 **negative class**라고 부르기도 하고, 1을 **positive class**라고 부르기도 한다.\n",
    "\n",
    "또한 이 $y^{(i)}$ 값들을 트레이닝 예제의 **라벨(label)**이라고 부른다."
   ]
  },
  {
   "cell_type": "markdown",
   "metadata": {},
   "source": [
    "<br>\n",
    "### 4. Logistic Regression\n",
    "\n",
    "$y$가 이산형이라는 사실을 무시하고 분류 문제를 해결할 수 있다. 하지만 이렇게 기존의 회귀 방법을 사용하면 모델의 성능이 아주 좋지 않을 것이다.\n",
    "\n",
    "또한 $h_\\theta(x)$의 값이 1보다 크거나 0보다 작은 값을 갖는다는 것은 우리가 $y$의 값이 [0,1]인 것을 안다면 모순적으로 보인다.\n",
    "\n",
    "<br>\n",
    "#### 4-1. Sigmoid function\n",
    "이 문제를 해결하기 위해 우리의 가설 $h_\\theta(x)$의 형태를 바꿔보자.\n",
    "\n",
    "<br>\n",
    "$$ h_\\theta(x) = g(\\theta^Tx) = \\frac{1}{1+e^{-\\theta^Tx}}$$\n",
    "\n",
    "$$ where, g(z) = \\frac{1}{1+e^{-z}}$$\n",
    "<br>\n",
    "\n",
    "위 함수를 **로지스틱 함수(logistic function) 또는 시그모이드 함수(sigmoid function)**이라고 부른다."
   ]
  },
  {
   "cell_type": "code",
   "execution_count": 17,
   "metadata": {},
   "outputs": [
    {
     "data": {
      "image/png": "[encoded data removed]",
      "text/plain": [
       "<matplotlib.figure.Figure at 0x7f1b02647b00>"
      ]
     },
     "metadata": {},
     "output_type": "display_data"
    }
   ],
   "source": [
    "# plot sigmoid\n",
    "import numpy as np\n",
    "import matplotlib.pyplot as plt\n",
    "import math\n",
    "import random\n",
    "\n",
    "x = np.arange(-10,10)\n",
    "y = 1/(1+np.exp(-x))\n",
    "\n",
    "plt.plot(x, y)\n",
    "plt.show()"
   ]
  },
  {
   "cell_type": "markdown",
   "metadata": {},
   "source": [
    "시그모이드 함수는 $z$가 무한대로 갈 때 1에 수렴하고, 음의 무한대로 갈 때 0에 수렴한다.\n",
    "\n",
    "그래서 $h(x)$의 값은 0과 1 사이에 존재하게 된다.\n",
    "\n",
    "지금은 시그모이드 함수를 있는 그대로 받아들이지만 나중에는 다른 함수도 살펴볼 것이다.\n",
    "\n",
    "우선 시그모이드 함수의 미분을 살펴보자.\n",
    "\n",
    "<br>\n",
    "$$ g^`(z) = \\frac{d}{dz}\\frac{1}{1+e^{-z}}$$\n",
    "\n",
    "$$ = \\frac{1}{(1+e^{-z})^2}(e^{-z})$$\n",
    "\n",
    "$$ = g(z)(1-g(z)$$\n",
    "<br>\n",
    "\n",
    "로지스틱 회귀 모델이 주어졌을 때, 어떻게 $\\theta$를 조율할까?\n",
    "\n",
    "<br>\n",
    "#### 4-2. Cost function\n",
    "\n",
    "***우선 강의 노트에는 없지만, 로지스틱 함수의 비용 함수를 알아보자.***\n",
    "<br>\n",
    "\n",
    "선형 회귀의 비용 함수인 LSE(Least-square-estimation)을 그대로 사용할 수도 있지만, 그렇게 된다면 로지스틱 회귀의 비용 함수는 non-convex한 함수가 된다. \n",
    "\n",
    "그렇게 되면 **극소값(Local Minimum)**들이 생겨나 **전역 최소값(Global Minimum)**을 찾기가 힘들다.\n",
    "\n",
    "따라서 여기서는 다른 비용함수를 사용한다.\n",
    "\n",
    "<br>\n",
    "$$ cost(h_\\theta(x), y) = \\begin{cases}\n",
    "-log(h_\\theta(x)) & if & y=1 \\\\\n",
    "-log(1-h_\\theta(x)) & if & y=0  \n",
    "\\end{cases}$$ <br>\n"
   ]
  },
  {
   "cell_type": "code",
   "execution_count": 41,
   "metadata": {},
   "outputs": [
    {
     "data": {
      "image/png": "[encoded data removed]",
      "text/plain": [
       "<matplotlib.figure.Figure at 0x7f0e6ab89128>"
      ]
     },
     "metadata": {},
     "output_type": "display_data"
    }
   ],
   "source": [
    "# if y=1\n",
    "h_theta = np.linspace(0.001, 110)\n",
    "\n",
    "value = -np.log(h_theta)\n",
    "\n",
    "plt.plot(h_theta, value)\n",
    "plt.show()"
   ]
  },
  {
   "cell_type": "code",
   "execution_count": 43,
   "metadata": {},
   "outputs": [
    {
     "data": {
      "image/png": "[encoded data removed]",
      "text/plain": [
       "<matplotlib.figure.Figure at 0x7f0e6a0dcf98>"
      ]
     },
     "metadata": {},
     "output_type": "display_data"
    }
   ],
   "source": [
    "# if y=0\n",
    "h_theta = np.linspace(0, 0.999 ,10)\n",
    "\n",
    "value = -np.log(1-h_theta)\n",
    "\n",
    "plt.plot(h_theta, value)\n",
    "plt.show()"
   ]
  },
  {
   "cell_type": "markdown",
   "metadata": {},
   "source": [
    "<br>\n",
    "그런데 y의 값은 1 또는 0이므로, 식을 다음과 같이 정리할 수 있다.\n",
    "<br>\n",
    "\n",
    "$$ cost(h_\\theta(x), y) = -ylog(h_\\theta(x))-(1-y)log(1-h_\\theta(x)) $$\n",
    "<br>\n",
    "\n",
    "결국 다음과 같은 비용 함수를 얻는다.\n",
    "\n",
    "<br>\n",
    "$$ J(\\theta) = -\\frac{1}{m}\\sum_{i=1}^m[y^{(i)}log(h_\\theta(x))+(1-y^{(i)})log(1-h_\\theta(x^{(i)})] $$\n",
    "<br>\n",
    "\n"
   ]
  },
  {
   "cell_type": "markdown",
   "metadata": {},
   "source": [
    "<br>\n",
    "\n",
    "#### 4-3. Maximum Likelihood Estimation\n",
    "\n",
    "앞서 최소자승법이 여러 가정하에서 최대우도법으로부터 도출되었던 것처럼, 이번에도 여러 확률 가정을 살펴보자.\n",
    "\n",
    "<br>\n",
    "\n",
    "$$P(y = 1| x; \\theta) = h_\\theta(x)$$\n",
    "$$ P(y=0|x; \\theta) = 1 - h_\\theta(x) $$\n",
    "\n",
    "위 성질을 가정하고, $m$개의 트레이닝 예제들이 상호 독립이라고 하자.\n",
    "\n",
    "이때, 파라미터의 우도 함수를 다음과 같이 쓸 수 있다.\n",
    "\n",
    "<br>\n",
    "$ L(\\theta) $\n",
    "\n",
    "$= p(\\vec{y}|X; \\theta) $\n",
    "\n",
    "$= \\prod_{i=1}^mp(y^{(i)}|x^{(i)};\\theta)$\n",
    "\n",
    "$= \\prod_{i=1}^m (h_\\theta(x^{(i)}))^{y^{(i)}}(1-h_\\theta(x^{(i)}))^{1-y^{(i)}}$\n",
    "<br>\n",
    "\n",
    "마찬가지로 로그를 취해서 식을 간단히 해주면,\n",
    "\n",
    "<br>\n",
    "$$ l(\\theta) = \\sum_{i=1}^m\\{y^{(i)}h_\\theta (x^{(i)})+(1-y^{(i)})(1-h_\\theta(x^{(i)})\\} $$\n",
    "<br>\n",
    "\n",
    "그럼 어떻게 최대 우도값을 구할까? 선형 회귀에서처럼, **경사 상승법(Gradient Ascent)**을 사용하면 된다.\n",
    "\n",
    "<br>\n",
    "$ \\frac{\\partial}{\\partial\\theta_j}l(\\theta) $\n",
    "\n",
    "$ = (y \\frac{1}{g(\\theta^Tx)}-(1-y)\\frac{1}{1-g(\\theta^Tx)})\\frac{\\partial}{\\partial\\theta_j}g(\\theta^Tx) $\n",
    "\n",
    "$ = (y-h_\\theta(x))x_j $\n",
    "\n",
    "\n",
    "결국 아래와 같은 확률 경사 상승법 공식을 얻는다.\n",
    "\n",
    "\n",
    "<br>\n",
    "$$\\theta_j := \\theta_j + \\alpha\\sum_{i=1}^m(y^{(i)}-h_\\theta(x^{(i)}))x_j^{(i)} $$\n",
    "<br>\n",
    "\n",
    "이 식을 LMS 업데이트 식에 비교하면, 식 자체는 동일한 것을 알 수 있다.\n",
    "\n",
    "하지만 $h_\\theta(x^{(i)})$가 이제는 비선형 함수이기 때문에, 같은 알고리즘은 아니다.\n",
    "\n",
    "그럼에도 불구하고 서로 다른 알고리즘과 다른 학습 문제에서 같은 공식이 도출되었다는 점은 놀랍다.\n",
    "\n",
    "단순한 우연일까, 아니면 무언가 더 심오한 이유가 있는 것일까? 나중에 GLM 모델에서 이에 답하겠다."
   ]
  },
  {
   "cell_type": "markdown",
   "metadata": {},
   "source": [
    "<br>\n",
    "### 4-1. Example\n",
    "\n",
    "이번엔 실제 예제를 통해 살펴보자. 이는 Andrew Ng의 HW2에 해당하는 내용이다.\n",
    "\n",
    "당신이 대학의 입학처에서 근무하고, 두 시험의 결과에 따라 학생들의 입학 여부를 결정한다고 하자.\n",
    "\n",
    "당신의 업무는 트레이닝 셋에 로지스틱 회귀 모형을 적용하여 각 학생들의 입학 확률을 계산하는 것이다.\n",
    "\n",
    "데이터셋은 아래와 같다."
   ]
  },
  {
   "cell_type": "code",
   "execution_count": 191,
   "metadata": {},
   "outputs": [
    {
     "name": "stdout",
     "output_type": "stream",
     "text": [
      "(100, 3)\n"
     ]
    },
    {
     "data": {
      "text/html": [
       "<div>\n",
       "<style>\n",
       "    .dataframe thead tr:only-child th {\n",
       "        text-align: right;\n",
       "    }\n",
       "\n",
       "    .dataframe thead th {\n",
       "        text-align: left;\n",
       "    }\n",
       "\n",
       "    .dataframe tbody tr th {\n",
       "        vertical-align: top;\n",
       "    }\n",
       "</style>\n",
       "<table border=\"1\" class=\"dataframe\">\n",
       "  <thead>\n",
       "    <tr style=\"text-align: right;\">\n",
       "      <th></th>\n",
       "      <th>Exam1</th>\n",
       "      <th>Exam2</th>\n",
       "      <th>Admitted</th>\n",
       "    </tr>\n",
       "  </thead>\n",
       "  <tbody>\n",
       "    <tr>\n",
       "      <th>0</th>\n",
       "      <td>34.623660</td>\n",
       "      <td>78.024693</td>\n",
       "      <td>0</td>\n",
       "    </tr>\n",
       "    <tr>\n",
       "      <th>1</th>\n",
       "      <td>30.286711</td>\n",
       "      <td>43.894998</td>\n",
       "      <td>0</td>\n",
       "    </tr>\n",
       "    <tr>\n",
       "      <th>2</th>\n",
       "      <td>35.847409</td>\n",
       "      <td>72.902198</td>\n",
       "      <td>0</td>\n",
       "    </tr>\n",
       "    <tr>\n",
       "      <th>3</th>\n",
       "      <td>60.182599</td>\n",
       "      <td>86.308552</td>\n",
       "      <td>1</td>\n",
       "    </tr>\n",
       "    <tr>\n",
       "      <th>4</th>\n",
       "      <td>79.032736</td>\n",
       "      <td>75.344376</td>\n",
       "      <td>1</td>\n",
       "    </tr>\n",
       "  </tbody>\n",
       "</table>\n",
       "</div>"
      ],
      "text/plain": [
       "       Exam1      Exam2  Admitted\n",
       "0  34.623660  78.024693         0\n",
       "1  30.286711  43.894998         0\n",
       "2  35.847409  72.902198         0\n",
       "3  60.182599  86.308552         1\n",
       "4  79.032736  75.344376         1"
      ]
     },
     "execution_count": 191,
     "metadata": {},
     "output_type": "execute_result"
    }
   ],
   "source": [
    "import matplotlib.pyplot as plt\n",
    "import pandas as pd\n",
    "import numpy as np\n",
    "\n",
    "data1 = pd.read_csv(\"ex2-data1.txt\", header=None)\n",
    "data1.columns = ['Exam1', 'Exam2', 'Admitted']\n",
    "print(data1.shape)\n",
    "data1.head()"
   ]
  },
  {
   "cell_type": "markdown",
   "metadata": {},
   "source": [
    "<br>\n",
    "\n",
    "먼저 시각화를 통해 데이터를 살펴보자.\n",
    "\n",
    "\n",
    "###### a. Visualizing the data"
   ]
  },
  {
   "cell_type": "code",
   "execution_count": 192,
   "metadata": {
    "scrolled": true
   },
   "outputs": [
    {
     "data": {
      "image/png": "[encoded data removed]",
      "text/plain": [
       "<matplotlib.figure.Figure at 0x7f0e53897278>"
      ]
     },
     "metadata": {},
     "output_type": "display_data"
    }
   ],
   "source": [
    "group_1 = data1[ data1.Admitted == 1]\n",
    "group_0 = data1[ data1.Admitted == 0]\n",
    "\n",
    "plt.scatter(group_1.Exam1, group_1.Exam2, marker = 'o')\n",
    "plt.scatter(group_0.Exam1, group_0.Exam2, marker = 'o')\n",
    "plt.xlabel = \"Exam 1 Score\"\n",
    "plt.ylabel = \"Exam 2 Score\"\n",
    "plt.legend(loc=1)\n",
    "plt.show()"
   ]
  },
  {
   "cell_type": "markdown",
   "metadata": {},
   "source": [
    "<br>\n",
    "\n",
    "###### b. Necessary Functions\n",
    "\n",
    "이제 로지스틱 회귀에 필요한 함수들을 만들어보자.\n",
    "\n",
    "함수의 종류로는 시그모이드 함수, 비용함수, 경사상승법(하강법) 함수 등이 있다."
   ]
  },
  {
   "cell_type": "code",
   "execution_count": 193,
   "metadata": {},
   "outputs": [
    {
     "data": {
      "text/plain": [
       "[(65.64427405732319, 19.458222275425072),\n",
       " (66.22199808811695, 18.582783039307344)]"
      ]
     },
     "execution_count": 193,
     "metadata": {},
     "output_type": "execute_result"
    }
   ],
   "source": [
    "# save std, mean for each columns\n",
    "save = []\n",
    "for i in range(data1.shape[1]-1) :\n",
    "    save.append( (data1.iloc[:, i].mean(), data1.iloc[:, i].std()))\n",
    "save"
   ]
  },
  {
   "cell_type": "code",
   "execution_count": 194,
   "metadata": {},
   "outputs": [
    {
     "name": "stdout",
     "output_type": "stream",
     "text": [
      "      Exam1     Exam2  Admitted  Intercept\n",
      "0 -1.602248  0.638341       0.0          1\n",
      "1 -1.826256 -1.207541       0.0          1\n",
      "2 -1.539040  0.361294       0.0          1\n",
      "3 -0.282101  1.086368       1.0          1\n",
      "4  0.691528  0.493378       1.0          1\n"
     ]
    }
   ],
   "source": [
    "# normalizing process\n",
    "from sklearn import preprocessing\n",
    "\n",
    "std_scaler = preprocessing.StandardScaler()\n",
    "x = data1.iloc[:, 0:2].values\n",
    "x_scaled = std_scaler.fit_transform(x)\n",
    "\n",
    "data1 = pd.DataFrame( np.concatenate( (x_scaled, \n",
    "                                       np.array(data1['Admitted']).reshape(len(data1), -1)), axis=1 ), columns=data1.columns)\n",
    "data1['Intercept'] = 1\n",
    "print(data1.head())\n",
    "\n",
    "x = np.array(data1[['Intercept', 'Exam1', 'Exam2']]).reshape(len(data1), -1)\n",
    "y = np.array(data1['Admitted']).reshape(len(data1), -1)\n",
    "theta = np.array([0, 0, 0]).reshape(3, 1)"
   ]
  },
  {
   "cell_type": "code",
   "execution_count": 195,
   "metadata": {
    "collapsed": true
   },
   "outputs": [],
   "source": [
    "# 1. sigmoid\n",
    "def sigmoid(z) :\n",
    "    return (1/ (1+np.exp(-z)))"
   ]
  },
  {
   "cell_type": "code",
   "execution_count": 196,
   "metadata": {},
   "outputs": [
    {
     "data": {
      "text/plain": [
       "array([ 0.69314718])"
      ]
     },
     "execution_count": 196,
     "metadata": {},
     "output_type": "execute_result"
    }
   ],
   "source": [
    "# 2. Cost function\n",
    "def costFunction(theta, X, y):\n",
    "    m = y.size\n",
    "    h = sigmoid(X.dot(theta))\n",
    "    \n",
    "    J = -1*(1/m)*(np.log(h).T.dot(y)+np.log(1-h).T.dot(1-y))\n",
    "               \n",
    "    if np.isnan(J[0]):\n",
    "        return(np.inf)\n",
    "    return(J[0])\n",
    "\n",
    "# confirm that initial cost should be 0.693\n",
    "costFunction(theta, x, y)"
   ]
  },
  {
   "cell_type": "code",
   "execution_count": 200,
   "metadata": {},
   "outputs": [
    {
     "name": "stdout",
     "output_type": "stream",
     "text": [
      "[[ 1.71096562]\n",
      " [ 3.97680993]\n",
      " [ 3.70967558]]\n"
     ]
    }
   ],
   "source": [
    "# 3. Gradient\n",
    "def gradient(theta, X, y) :\n",
    "    alpha = 0.05\n",
    "    count = 1\n",
    "    m = y.size\n",
    "    temp = [0] * len(theta)\n",
    "    \n",
    "    while(count < 15000) :\n",
    "        #print(costFunction(theta, X, y))\n",
    "        for i in range(len(theta)) :\n",
    "            h = (sigmoid( X.dot(theta))-y).T.dot(X[:, i]) \n",
    "            temp[i] = theta[i] - alpha/m * h\n",
    "        for j in range(len(theta)) :\n",
    "            theta[j] = temp[j]\n",
    "        count +=1\n",
    "    print(theta)\n",
    "\n",
    "    return theta\n",
    "\n",
    "final_theta = gradient( np.array([0.5, 0.5, 0.5]).reshape(3,1), x, y)"
   ]
  },
  {
   "cell_type": "code",
   "execution_count": 202,
   "metadata": {},
   "outputs": [
    {
     "data": {
      "text/plain": [
       "array([[ 0.77563385]])"
      ]
     },
     "execution_count": 202,
     "metadata": {},
     "output_type": "execute_result"
    }
   ],
   "source": [
    "exam1, exam2 = 45, 85\n",
    "exam1 = (45 - save[0][0]) / save[0][1]\n",
    "exam2 = (85 - save[1][0]) / save[1][1]\n",
    "\n",
    "1/(1+np.exp(-final_theta.T.dot(np.array([1, exam1, exam2]).reshape(3, 1))))"
   ]
  },
  {
   "cell_type": "code",
   "execution_count": null,
   "metadata": {
    "collapsed": true
   },
   "outputs": [],
   "source": [
    "group_1 = data1[ data1.Admitted == 1]\n",
    "group_0 = data1[ data1.Admitted == 0]\n",
    "\n",
    "plt.scatter(group_1.Exam1, group_1.Exam2, marker = 'o')\n",
    "plt.scatter(group_0.Exam1, group_0.Exam2, marker = 'o')\n",
    "plt.xlabel = \"Exam 1 Score\"\n",
    "plt.ylabel = \"Exam 2 Score\"\n",
    "plt.legend(loc=1)\n",
    "\n",
    "plt.plot(data1['Living Area'], w_1[0,0]*house['Intercept'] + w_1[2,0]*house['Living Area'] )\n",
    "\n",
    "plt.show()"
   ]
  },
  {
   "cell_type": "markdown",
   "metadata": {},
   "source": [
    "<br>\n",
    "### 5-1. Digression : The perceptron learning algorithm\n",
    "\n",
    "잠깐 여담으로 역사적으로 관심을 받았던 알고리즘에 대해 이야기해보자.\n",
    "\n",
    "앞서 배운 로지스틱 회귀 모델이 정확히 0 또는 1의 값만 산출하도록 강제한다고 해보자. \n",
    "\n",
    "그렇게하기 위해, 다음과 같은 함수를 생각할 수 있다.\n",
    "\n",
    "<br>\n",
    "$$\n",
    "g(z) = \n",
    "\\begin{cases}\n",
    "1 & if & z\\geq 0 \\\\\n",
    "0 & if & z \\lt 0 \n",
    "\\end{cases}$$ <br>\n",
    "\n",
    "여기서 $h_\\theta(x) = g(\\theta^Tx)$로 두면, 다음과 같은 업데이트 공식을 얻는다.\n",
    "\n",
    "<br>\n",
    "$$ \\theta_j := \\theta_j + \\alpha(y^{(i)}-h_\\theta(x^{(i)}))x_j^{(i)}$$\n",
    "<br>\n",
    "\n",
    "그리고 이를 **퍼셉트론 학습 알고리즘(Perceptron learning algorithm)**이라고 부른다.\n",
    "\n",
    "1960년대에 '퍼셉트론'은 뇌에서 하나의 뉴런이 작동하는 대략적인 모델을 의미했다. \n",
    "\n",
    "비록 이 식이 우리가 배운 다른 알고리즘과 비슷하지만, 실은 아주 다른 종류의 알고리즘임을 기억해야 한다. \n",
    "\n",
    "특히 확률적인 해석이나 최대우도추정법등을 통해 퍼셉트론의 예측을 끌어내는 것은 매우 어렵다.\n",
    "\n",
    "<br>\n",
    "### 5-2. Digression : Newton's Method\n",
    "\n",
    "뉴턴이 고안한 함수가 0이 되는 값을 찾는 방법이 있다.\n",
    "\n",
    "하지만 이 방법은 여러 제약 조건 하에서만 응용 가능하고, 단순한 회귀 문제에서 사용할 수 있다.\n",
    "\n"
   ]
  },
  {
   "cell_type": "markdown",
   "metadata": {},
   "source": [
    "![title](./newton.png)"
   ]
  },
  {
   "cell_type": "markdown",
   "metadata": {},
   "source": [
    "위와 같은 함수 $f(x)$가 존재한다.\n",
    "\n",
    "임의의 시작 지점 $X^{0}$에서 함수로 수직선을 그어 함수와 만나는 점 $f(X^{0})$를 찾는다.\n",
    "\n",
    "그 점에서의 접선을 그어 또다시 $X$축과 만나는 점을 찾고, 그 점을 $X^{1}$이라고 한다.\n",
    "\n",
    "위 방법을 반복한다.\n",
    "\n",
    "이때, 접선의 기울기는 해당 접점에서의 미분값이고, $X_n - X_{n+1} = \\Delta$라고 하면,\n",
    "\n",
    "$f^\\prime(\\theta^{0}) = \\frac{f(\\theta^0)}{\\Delta} $ 가 된다. 식을 정리하면 다음 일반식을 얻는다.\n",
    "\n",
    "\n",
    "<br>\n",
    "$$ \\theta^{(t+1)} = \\theta^{(t)} - \\frac{f(\\theta^{(t)})}{f^\\prime(\\theta^{(t)})}$$\n",
    "<br>\n",
    "\n",
    "이제 이 사실을 이용하여 우리가 원하는 비용함수 $L(\\theta)$의 미분값이 0이 되는 점을 찾자.\n",
    "\n",
    "<br>\n",
    "$$ \\theta^{(t+1)} = \\theta^{(t)} - \\frac{l^\\prime\\theta^{(t)})}{l^{\\prime\\prime}(\\theta^{(t)})}$$\n",
    "<br>\n",
    "\n",
    "위 과정을 반복하면 $L^\\prime(\\theta)$가 0이 되는 지점(최소 지점)을 찾을 수 있다.\n",
    "\n",
    "$\\theta$가 벡터인 경우, 일반식은 다음과 같다.\n",
    "\n",
    "<br>\n",
    "$$ \\theta^{(t+1)} = \\theta^{(t)} - H^{-1}\\nabla_\\theta L $$\n",
    "$$ H : Hessian Matrix $$\n",
    "$$ H_{ij} = \\frac{\\partial^2L}{\\partial\\theta_i\\partial\\theta_j} $$\n",
    "<br>\n",
    "\n",
    "보통 이 방법은 BGD보다 빠르게 수렴하고, 반복 횟수가 적지만, 연산량은 아주 클 수 있다.\n",
    "\n",
    "왜냐하면 $n-n$ Hessian 행렬을 찾고 역행렬을 계산해야 하기 때문이다.\n",
    "\n",
    "하지만 $n$ 이 그렇게 크지 않다면, 전반적인 속도는 훨씬 빠르다.\n",
    "\n",
    "이 방법이 로지스틱 회귀의 로그 우도함수를 최대화 할 때 쓰일 경우, 그 모형은 **Fisher Scoring** 이라고도 불린다.\n"
   ]
  },
  {
   "cell_type": "markdown",
   "metadata": {},
   "source": [
    "<br>\n",
    "## Part 3. Generalized Linear Models (GLM)\n",
    "\n",
    "이제까지, 우리는 회귀 예제와 분류 예제를 살펴보았다. \n",
    "\n",
    "이번 장에서는 사실 이 두 방법들이 더 큰 모델인 **일반 선형 모델(GLM)**의 한 가족이라는 것을 보일 것이다.\n",
    "\n",
    "또한 GLM에 속한 다른 모델들도 살펴보겠다.\n",
    "\n",
    "<br>\n",
    "### 6. The exponential family\n",
    "\n",
    "우선 지수분포족에 속하는 분포부터 살펴보자. 어떤 분포가 지수족에 속할 때, 다음의 형식으로 쓰일 수 있다.\n",
    "\n",
    "<br>\n",
    "$$ p(y;\\eta) = b(y)exp(\\eta^TT(y)-a(\\eta))$$\n",
    "<br>\n",
    "\n",
    "여기서, $\\eta$는 **자연 파라미터(natural, canonical parameter)**라고 부른다.\n",
    "\n",
    "$T(y)$는 **충분통계량(sufficient statistic)**이 되고, $a(\\eta)$는 **로그분할함수(log partition function)** 이다.\n",
    "\n",
    "$T$, $a$, $b$의 선택이 $\\eta$에 의해 만들어지는 분포군을 정의한다.  마찬가지로 $\\eta$를 변화시키면 같은 분포군 내에서 서로 다른 분포를 얻는다.\n",
    "\n",
    "한 예로 버눌리와 정규분포는 지수 분포족에 속한다는 것을 증명해보자.\n",
    "\n",
    "###### Bernoulli\n",
    "평균이 $\\phi$인 버눌리 분포는,\n",
    "\n",
    "<br>\n",
    "$$ p(y=1; \\phi); p(y=0; \\phi) = 1 - \\phi $$\n",
    "<br>\n",
    "\n",
    "$\\phi$를 변화시키면 평균이 서로 다른 버눌리 분포를 얻게 된다.\n",
    "\n",
    "또한,\n",
    "\n",
    "<br>\n",
    "$ p(y;\\phi) $\n",
    "\n",
    "$= \\phi^y(1-\\phi)^{1-y}$\n",
    "\n",
    "$ = exp(ylog\\phi + (1-y)log(1-\\phi))$\n",
    "\n",
    "$ = exp( ( log(\\frac{\\phi}{1-\\phi}))y + log(1-\\phi))$\n",
    "\n",
    "여기서, 자연 파라미터는 $\\eta = log(\\phi/(1-\\phi))$가 되고, \n",
    "\n",
    "여기서 $T(y) = y$, $a(\\eta) = -log(1-\\phi)$, $b(y) = 1$ 이 된다.\n",
    "\n",
    "그리고 신기하게도 $\\phi$에 대해 정리하면,\n",
    "\n",
    "$$ \\phi = \\frac{1}{1+e^{-\\eta}}$$\n",
    "\n",
    "우리는 앞서 배웠던 시그모이드 함수를 얻게 된다!\n",
    "\n",
    "###### Gaussian \n",
    "\n",
    "명심할 것은 $\\sigma^2$의 값이 $\\theta$와 $h_\\theta(x)$의 선택에 영향을 미치지 않는다는 사실이다.\n",
    "\n",
    "따라서 계산의 간편함을 위해 $\\sigma^2$을 1로 두자.\n",
    "\n",
    "<br>\n",
    "$ p(y; \\mu)$\n",
    "\n",
    "$ = \\frac{1}{\\sqrt{2\\pi}}exp(-\\frac{1}{2}(y-\\mu)^2)$\n",
    "\n",
    "$ = \\frac{1}{\\sqrt{2\\pi}}exp(-\\frac{1}{2}y^2)exp(\\mu y-\\frac{1}{2}\\mu^2) $\n",
    "<br>\n",
    "\n",
    "여기서 $n = \\mu$, $T(y) = y$, $a(\\eta) = \\eta^2/2$, $b(y) = (1/\\sqrt{2\\pi})exp(-y^2/2)$가 된다.\n",
    "\n",
    "<br>\n",
    "이 둘을 제외하고도 지수 분포군에 속하는 것들은 많다.\n",
    "\n",
    "다항분포, 포아송, 감마, 베타, 드리쉴레 등 많은 것들이 포함된다. 이제 다양한 모형들을 만드는 방법을 살펴보자."
   ]
  },
  {
   "cell_type": "markdown",
   "metadata": {},
   "source": [
    "<br>\n",
    "### 7. Constructing GLMs\n",
    "\n",
    "당신이 가게에 도착하는 고객들의 수를 추정하는 모형을 만든다고 하자. 사용하는 특징으로는 가게의 홍보 상태, 날씨, 요일 등이 있다.\n",
    "\n",
    "보통 포아송 분포가 방문객의 수에 적합한 모형이라고 알려져 있다. 그리고 다행히도, 포아송은 지수 분포군에 속하기 때문에, GLM을 적용할 수 있다.\n",
    "\n",
    "더 일반적으로, $x$의 함수로서 $y$를 예측하는 분류나 회귀 문제를 생각해보자. 이 문제에 대한 GLM을 구상해보면, $x$가 주어졌을 때 $y$의 분포에 대해 다음과 같은 3가지 가정을 내릴 수 있다.\n",
    "\n",
    "1. $y|x;\\theta ~ ExponentialFamily(\\nu)$. $x$와 $\\theta$가 주어졌을 때 $y$의 분포는 파라미터 $\\nu$를 갖고 지수 분포군에 속한다.\n",
    "\n",
    "2. $x$가 주어졌을 때, 우리의 목표는 $x$가 주어졌을 때 $T(y)$이 기대값을 예측하는 것이다.\n",
    "대부분의 경우에 $T(y) = y$이고, $h(x) = E[y|x]$를 만족하길 바란다.\n",
    "\n",
    "3. 자연 파라미터 $\\nu$와 입력 변수 $x$는 선형 관계에 있다 : $\\nu = \\theta^Tx$\n",
    "\n",
    "이 세가지 가정들은 우리가 학습 알고리즘을 쉽게 도출하고, 학습을 용이하게 해주는 많은 속성들을 갖는다.\n",
    "\n",
    "#### 7-1. Ordinary Least Squares\n",
    "\n",
    "타겟 변수 $y$가 연속형인 경우, $x$가 주어졌을 때 $y$의 분포를 정규분포로 가정하자.\n",
    "\n",
    "이때, $h_\\theta(x) = \\nu = \\theta^Tx $가 된다.\n",
    "\n",
    "\n",
    "#### 7-2. Logistic Regression\n",
    "\n",
    "이번에는 이진 분류 문제이다. $y$의 값이 이진형이기 때문에, 버눌리 분포를 사용하는 것이 자연스러워 보인다. \n",
    "\n",
    "즉, $h_\\theta(x) = \\phi = \\frac{1}{1+e^{-\\theta^Tx}} $가 된다.\n",
    "\n",
    "가우시안 분포군의 canonical response function은 항등 함수이고, 버눌리의 그것은 로지스틱 함수이다.\n",
    "\n",
    "\n",
    "#### 7-3. Softmax Regression\n",
    "\n",
    "이번에는 타겟 변수 $y$가 $k$개의 값을 가지는 분류 문제를 생각해보자.\n",
    "\n",
    "예를 들어, 이메일을 스팸과 아닌 것으로 분류하지 않고 3가지로 분류하고 싶다. 우리는 다항분포를  사용해 모형을 만든다.\n",
    "\n",
    "우선 다항분포를 지수분포군으로 표현해보자.\n",
    "\n",
    "$k$개의 가능한 결과에 대해 다항분포를 만들려면, 각 결과가 나올 확률을 $\\phi_1, ... \\phi_k$로 나타낼 수 있다.\n",
    "\n",
    "하지만 이 파라미터들은 독립이 아니기 때문에, $k-1$개의 인자만을 사용할 것이다. \n",
    "\n",
    "이때 $\\phi_i = p(y=i; \\phi)$, $p(y=k; \\phi) = 1-\\sum_{i=1}^{k-1}\\phi_i $ 이다.\n",
    "\n",
    "또한 $T(y)$는 차원이 $(k-1)$인 벡터이다.\n",
    "\n",
    "$T(1) = \\Bigg[\\begin{array}{c} \n",
    "1\\\\\n",
    "0\\\\\n",
    "...\\\\\n",
    "0\n",
    "\\end{array}\\Bigg] \\hspace{1cm} T(2) = \\Bigg[\\begin{array}{c} \n",
    "0\\\\\n",
    "1\\\\\n",
    "...\\\\\n",
    "0\n",
    "\\end{array}\\Bigg] \\hspace{1cm} ... \\hspace{1cm} T(k-1) = \\Bigg[\\begin{array}{c} \n",
    "0\\\\\n",
    "0\\\\\n",
    "...\\\\\n",
    "1\n",
    "\\end{array}\\Bigg] \\hspace{1cm} $ \n",
    "\n",
    "여기서 지시함수를 사용해 표현하면, $T(y)$의 $y$번째 항이 $i$인 경우에만 1인 벡터이다.\n",
    "\n",
    "<br>\n",
    "$$T(y)_i = 1\\{y=i\\}$$\n",
    "<br>\n",
    "\n",
    "식을 정리하면, \n",
    "\n",
    "<br>\n",
    "$P(y) $\n",
    "\n",
    "$= \\phi_1^{I\\{y=1\\}}...\\phi_k^{I\\{y=k\\}} $\n",
    "\n",
    "$= \\phi_1^{T(y)_1}...\\phi_{k-1}^{T(y)_{k-1}} \\phi_k^{1-\\sum_{j=1}^{k-1}T(y)_j}$\n",
    "\n",
    "$ = b(y) exp(\\nu^TT(y) - a(\\nu)) $\n",
    "\n",
    "<br>\n",
    "$where,$\n",
    "<br>\n",
    "\n",
    "$ \\nu = \\Bigg[ \\begin{array}{c}\n",
    "log(\\phi_1/\\phi_k)\\\\\n",
    "...\\\\\n",
    "log(\\phi_{k-1}/\\phi_k)\n",
    "\\end{array}\\Bigg] \\hspace{1cm} a(\\nu) = -log(\\phi_k) \\hspace{1cm} b(y) = 1$\n",
    "<br>\n",
    "<br>\n",
    "\n",
    "이제 $\\phi$를 $\\nu$에 대해 정리하면,\n",
    "\n",
    "<br>\n",
    "$$ \\phi_i = \\frac{e^{\\nu_i}}{1+\\sum_{j=1}^{k-1}e^{\\nu_j}},\\hspace{1cm} (i=1, ..., k-1)$$\n",
    "\n",
    "$$ = \\frac{e^{\\theta_i^TX}}{1+\\sum_{j=1}^{k-1}e^{\\theta_j^TX}}$$\n",
    "<br>\n",
    "\n",
    "결국 학습 알고리즘 $h_\\theta(x)$는 다음이 된다.\n",
    "\n",
    "<br>\n",
    "$ h_\\theta(x) = E[T(y)|x; \\theta] $\n",
    "\n",
    "$ = E \\Bigg[ \\begin{array}{c}\n",
    "I\\{y=1\\}\\\\\n",
    "...\\\\\n",
    "I\\{y=k-1\\} \n",
    "\\end{array} \\Bigg|  x; \\theta\\Bigg] = \\Bigg[ \\begin{array}{c}\n",
    "\\phi_1\\\\\n",
    "...\\\\\n",
    "\\phi_{k-1} \n",
    "\\end{array} \\Bigg]$\n",
    "\n",
    "$ = \\Bigg[ \\begin{array}{c}\n",
    "\\frac{e^{\\theta_1^TX}}{1+\\sum_{j=1}^{k-1}e^{\\theta_j^TX}}\\\\\n",
    "...\\\\\n",
    "\\frac{e^{\\theta_{k-1}^TX}}{1+\\sum_{j=1}^{k-1}e^{\\theta_j^TX}} \n",
    "\\end{array} \\Bigg|  x; \\theta\\Bigg] $\n",
    "\n",
    "<br>\n",
    "\n",
    "\n",
    "본론으로 돌아가서, $ y \\in \\{1, ..., k\\} $ 인 분류 문제를 해결하는 상황을 가정해보자.\n",
    "\n",
    "여기서 해야할 일은 우도함수를 그린 뒤, 그 최대값을 구하는 일이다.\n",
    "\n",
    "<br>\n",
    "$ L(\\theta) $\n",
    "\n",
    "$ = \\prod_{i=1}^m p(y^{(i)} | x^{(i)}; \\theta) $\n",
    "\n",
    "$ = \\prod_{i=1}^m \\phi_1^{I\\{y^{(i)}=1\\}}...\\phi_k^{I\\{y^{(i)}=k\\}} $\n",
    "\n",
    "$ where, \\phi_i = \\frac{e^{\\theta_i^TX}}{1+\\sum_{j=1}^{k-1}e^{\\theta_j^TX}}$\n",
    "<br>\n",
    "\n",
    "이제 앞에서 한 것과 마찬가지로 로그를 취한 후 $\\theta$에 대해 미분하여 *경사상승법 혹은 뉴턴의 방법을* 통해 $\\theta$가 최대값이 되는 지점을 구하면 된다.\n",
    "\n"
   ]
  }
 ],
 "metadata": {
  "kernelspec": {
   "display_name": "Python 3",
   "language": "python",
   "name": "python3"
  },
  "language_info": {
   "codemirror_mode": {
    "name": "ipython",
    "version": 3
   },
   "file_extension": ".py",
   "mimetype": "text/x-python",
   "name": "python",
   "nbconvert_exporter": "python",
   "pygments_lexer": "ipython3",
   "version": "3.6.3"
  }
 },
 "nbformat": 4,
 "nbformat_minor": 2
}
