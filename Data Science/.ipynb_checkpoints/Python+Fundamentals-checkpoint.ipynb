{
 "cells": [
  {
   "cell_type": "markdown",
   "metadata": {},
   "source": [
    "## List Sorting in Basic Python"
   ]
  },
  {
   "cell_type": "markdown",
   "metadata": {},
   "source": [
    "##### - Simple Method"
   ]
  },
  {
   "cell_type": "code",
   "execution_count": 196,
   "metadata": {},
   "outputs": [
    {
     "data": {
      "text/plain": [
       "[1, 3, 7, 2, 98, 42, -1, 0]"
      ]
     },
     "execution_count": 196,
     "metadata": {},
     "output_type": "execute_result"
    }
   ],
   "source": [
    "list_1 = [1, 3, 7, 2, 98, 42, -1, 0]\n",
    "list_1"
   ]
  },
  {
   "cell_type": "code",
   "execution_count": 197,
   "metadata": {},
   "outputs": [
    {
     "name": "stdout",
     "output_type": "stream",
     "text": [
      "[-1, 0, 1, 2, 3, 7, 42, 98]\n",
      "[1, 3, 7, 2, 98, 42, -1, 0]\n"
     ]
    }
   ],
   "source": [
    "# sorted는 리스트가 sort된 것을 리턴\n",
    "# 리스트 자체는 바뀌지 않음\n",
    "print(sorted(list_1))\n",
    "print(list_1)"
   ]
  },
  {
   "cell_type": "code",
   "execution_count": 198,
   "metadata": {},
   "outputs": [
    {
     "data": {
      "text/plain": [
       "[-1, 0, 1, 2, 3, 7, 42, 98]"
      ]
     },
     "execution_count": 198,
     "metadata": {},
     "output_type": "execute_result"
    }
   ],
   "source": [
    "# list_1 자체를 바꿈\n",
    "list_1.sort()\n",
    "list_1"
   ]
  },
  {
   "cell_type": "markdown",
   "metadata": {},
   "source": [
    "##### - Using Key Parameter\n",
    ": to specify a function to be called on each list element prior to making comparisons."
   ]
  },
  {
   "cell_type": "code",
   "execution_count": 199,
   "metadata": {},
   "outputs": [
    {
     "data": {
      "text/plain": [
       "['This', 'test', 'string', 'is', 'from', 'Andrew', 'a']"
      ]
     },
     "execution_count": 199,
     "metadata": {},
     "output_type": "execute_result"
    }
   ],
   "source": [
    "sorted(\"This is a test string from Andrew\".split(), key=str.lower, reverse=True)"
   ]
  },
  {
   "cell_type": "code",
   "execution_count": 200,
   "metadata": {
    "scrolled": true
   },
   "outputs": [
    {
     "data": {
      "text/plain": [
       "[('d', 2), ('b', 18), ('a', 24), ('c', 45)]"
      ]
     },
     "execution_count": 200,
     "metadata": {},
     "output_type": "execute_result"
    }
   ],
   "source": [
    "student = [('a', 24), ('b', 18), ('c', 45), ('d', 2)]\n",
    "\n",
    "# sort by tuple item\n",
    "sorted(student, key= lambda student : student[1])"
   ]
  },
  {
   "cell_type": "markdown",
   "metadata": {},
   "source": [
    "##### - Using Operator Module"
   ]
  },
  {
   "cell_type": "code",
   "execution_count": 201,
   "metadata": {},
   "outputs": [
    {
     "data": {
      "text/plain": [
       "[('d', 2), ('b', 18), ('a', 24), ('c', 45)]"
      ]
     },
     "execution_count": 201,
     "metadata": {},
     "output_type": "execute_result"
    }
   ],
   "source": [
    "from operator import itemgetter, attrgetter, methodcaller\n",
    "sorted(student, key=itemgetter(1))\n",
    "# sorted(student_objects, key=attrgetter('grade', 'age'))"
   ]
  },
  {
   "cell_type": "code",
   "execution_count": 202,
   "metadata": {},
   "outputs": [
    {
     "data": {
      "text/plain": [
       "array([29, 69, 16, 62, 99, 94, 50, 96, 89, 99])"
      ]
     },
     "execution_count": 202,
     "metadata": {},
     "output_type": "execute_result"
    }
   ],
   "source": [
    "import numpy as np\n",
    "\n",
    "a = np.random.randint(0,100,10)\n",
    "a"
   ]
  },
  {
   "cell_type": "code",
   "execution_count": 203,
   "metadata": {},
   "outputs": [
    {
     "name": "stdout",
     "output_type": "stream",
     "text": [
      "[16, 29, 50, 62, 69, 89, 94, 96, 99, 99]\n",
      "[29 69 16 62 99 94 50 96 89 99]\n"
     ]
    }
   ],
   "source": [
    "# also with ndarray\n",
    "print(sorted(a))\n",
    "print(a)"
   ]
  },
  {
   "cell_type": "code",
   "execution_count": 204,
   "metadata": {
    "scrolled": true
   },
   "outputs": [
    {
     "data": {
      "text/plain": [
       "array([16, 29, 50, 62, 69, 89, 94, 96, 99, 99])"
      ]
     },
     "execution_count": 204,
     "metadata": {},
     "output_type": "execute_result"
    }
   ],
   "source": [
    "# also with ndarray\n",
    "a.sort()\n",
    "a"
   ]
  },
  {
   "cell_type": "markdown",
   "metadata": {},
   "source": [
    "##### - Dictionary Sorting"
   ]
  },
  {
   "cell_type": "code",
   "execution_count": 205,
   "metadata": {},
   "outputs": [
    {
     "data": {
      "text/plain": [
       "OrderedDict([('col2', 3), ('col4', 4)])"
      ]
     },
     "execution_count": 205,
     "metadata": {},
     "output_type": "execute_result"
    }
   ],
   "source": [
    "import collections\n",
    "\n",
    "dict_1 = { 'col4' : 4, 'col2' : 3}\n",
    "\n",
    "sorted(dict_1.items())\n",
    "collections.OrderedDict(sorted(dict_1.items()))"
   ]
  },
  {
   "cell_type": "markdown",
   "metadata": {},
   "source": [
    "## List Frequency"
   ]
  },
  {
   "cell_type": "code",
   "execution_count": 206,
   "metadata": {},
   "outputs": [
    {
     "data": {
      "text/plain": [
       "Counter({'I': 2,\n",
       "         'Sam': 2,\n",
       "         'a': 1,\n",
       "         'am': 1,\n",
       "         'as': 2,\n",
       "         'do': 1,\n",
       "         'friend': 1,\n",
       "         'hard': 1,\n",
       "         'is': 1,\n",
       "         'mine': 1,\n",
       "         'of': 1,\n",
       "         'who': 1,\n",
       "         'works': 1})"
      ]
     },
     "execution_count": 206,
     "metadata": {},
     "output_type": "execute_result"
    }
   ],
   "source": [
    "import collections\n",
    "\n",
    "word_list = ['I', 'am', 'Sam', 'Sam', 'is', 'a', 'friend', 'of', 'mine', 'who', 'works', 'as', 'hard', 'as', 'I', 'do']\n",
    "\n",
    "counter = collections.Counter(word_list)\n",
    "counter"
   ]
  },
  {
   "cell_type": "code",
   "execution_count": 207,
   "metadata": {},
   "outputs": [
    {
     "name": "stdout",
     "output_type": "stream",
     "text": [
      "dict_values([2, 1, 2, 1, 1, 1, 1, 1, 1, 1, 2, 1, 1])\n",
      "dict_keys(['I', 'am', 'Sam', 'is', 'a', 'friend', 'of', 'mine', 'who', 'works', 'as', 'hard', 'do'])\n"
     ]
    }
   ],
   "source": [
    "print(counter.values())\n",
    "print(counter.keys())"
   ]
  },
  {
   "cell_type": "markdown",
   "metadata": {},
   "source": [
    "## (NOT HERE) NumPy"
   ]
  },
  {
   "cell_type": "markdown",
   "metadata": {},
   "source": [
    "### Exploring Fancy Indexing\n",
    "Fancy Indexing is conceptually simple : it means passing an array of indices to access multiple array elements at once."
   ]
  },
  {
   "cell_type": "code",
   "execution_count": 208,
   "metadata": {},
   "outputs": [
    {
     "data": {
      "text/plain": [
       "array([51, 92, 14, 71, 60, 20, 82, 86, 74, 74])"
      ]
     },
     "execution_count": 208,
     "metadata": {},
     "output_type": "execute_result"
    }
   ],
   "source": [
    "import numpy as np\n",
    "rand = np.random.RandomState(42) # 랜덤 시드 주는 것\n",
    "\n",
    "x= rand.randint(100, size=10)\n",
    "x"
   ]
  },
  {
   "cell_type": "code",
   "execution_count": 209,
   "metadata": {},
   "outputs": [
    {
     "data": {
      "text/plain": [
       "array([71, 86, 14])"
      ]
     },
     "execution_count": 209,
     "metadata": {},
     "output_type": "execute_result"
    }
   ],
   "source": [
    "# Indexing 1\n",
    "x[ [3, 7, 2]]\n",
    "\n",
    "ind = [3, 7, 2]\n",
    "x[ind]"
   ]
  },
  {
   "cell_type": "code",
   "execution_count": 210,
   "metadata": {},
   "outputs": [
    {
     "data": {
      "text/plain": [
       "[71, 86, 14]"
      ]
     },
     "execution_count": 210,
     "metadata": {},
     "output_type": "execute_result"
    }
   ],
   "source": [
    "# Indexing 2\n",
    "[ x[3], x[7], x[2] ]"
   ]
  },
  {
   "cell_type": "code",
   "execution_count": 211,
   "metadata": {},
   "outputs": [
    {
     "data": {
      "text/plain": [
       "array([[71, 86],\n",
       "       [60, 20]])"
      ]
     },
     "execution_count": 211,
     "metadata": {},
     "output_type": "execute_result"
    }
   ],
   "source": [
    "# Indexing 3\n",
    "ind = np.array( [ [3, 7], [4, 5] ])\n",
    "x[ind]"
   ]
  },
  {
   "cell_type": "markdown",
   "metadata": {},
   "source": [
    "For example, we might have an N by D matrix representing N points in D dimensions, such as the following points drawn from a two-dimensional normal distribution."
   ]
  },
  {
   "cell_type": "code",
   "execution_count": 212,
   "metadata": {},
   "outputs": [
    {
     "data": {
      "text/plain": [
       "(100, 2)"
      ]
     },
     "execution_count": 212,
     "metadata": {},
     "output_type": "execute_result"
    }
   ],
   "source": [
    "mean = [0, 0]\n",
    "cov = [ [1, 2], [2, 5] ]\n",
    "X = rand.multivariate_normal(mean, cov, 100)\n",
    "X.shape"
   ]
  },
  {
   "cell_type": "code",
   "execution_count": 213,
   "metadata": {},
   "outputs": [
    {
     "data": {
      "text/plain": [
       "<matplotlib.collections.PathCollection at 0x7fdf2555d3c8>"
      ]
     },
     "execution_count": 213,
     "metadata": {},
     "output_type": "execute_result"
    },
    {
     "data": {
      "image/png": "[encoded data removed]",
      "text/plain": [
       "<matplotlib.figure.Figure at 0x7fdf26a0c278>"
      ]
     },
     "metadata": {},
     "output_type": "display_data"
    }
   ],
   "source": [
    "%matplotlib inline\n",
    "import matplotlib.pyplot as plt\n",
    "import seaborn; seaborn.set()\n",
    "\n",
    "plt.scatter(X[:,0], X[:,1])"
   ]
  },
  {
   "cell_type": "code",
   "execution_count": 214,
   "metadata": {},
   "outputs": [
    {
     "data": {
      "text/plain": [
       "array([[ 0.0629872 ,  0.57349278],\n",
       "       [-0.75210154, -0.79770535],\n",
       "       [-0.83504984, -2.38632016],\n",
       "       [ 1.06586877,  0.95500019],\n",
       "       [ 0.51575983,  2.30284639],\n",
       "       [ 0.37785618,  0.51409383],\n",
       "       [ 0.33399913,  2.32597923],\n",
       "       [ 0.6074983 ,  1.47089233],\n",
       "       [-0.1317045 , -1.64159158],\n",
       "       [-1.91100558, -3.66800923],\n",
       "       [ 0.32124996,  0.33137032],\n",
       "       [ 0.99305043,  2.54294059],\n",
       "       [-0.69144553, -1.56919875],\n",
       "       [ 0.7841796 ,  1.97640753],\n",
       "       [ 0.0843329 , -0.3543059 ],\n",
       "       [ 1.58115602,  2.86410319],\n",
       "       [ 0.37857234,  0.69112594],\n",
       "       [ 0.30414557, -0.5828419 ],\n",
       "       [ 0.75093031,  2.99487004],\n",
       "       [-1.47656656, -2.13046298]])"
      ]
     },
     "execution_count": 214,
     "metadata": {},
     "output_type": "execute_result"
    }
   ],
   "source": [
    "# Let's use fancy indexing to select 20 random points\n",
    "\n",
    "indices = np.random.choice(X.shape[0], 20, replace=False)\n",
    "selection = X[indices]\n",
    "selection"
   ]
  },
  {
   "cell_type": "code",
   "execution_count": 215,
   "metadata": {
    "scrolled": true
   },
   "outputs": [
    {
     "data": {
      "text/plain": [
       "<matplotlib.collections.PathCollection at 0x7fdf2559b160>"
      ]
     },
     "execution_count": 215,
     "metadata": {},
     "output_type": "execute_result"
    },
    {
     "data": {
      "image/png": "[encoded data removed]",
      "text/plain": [
       "<matplotlib.figure.Figure at 0x7fdf2559b8d0>"
      ]
     },
     "metadata": {},
     "output_type": "display_data"
    }
   ],
   "source": [
    "plt.scatter(X[:,0], X[:,1], alpha= 0.3)\n",
    "plt.scatter(selection[:,0], selection[:,1], facecolor= 'None', s = 200)"
   ]
  },
  {
   "cell_type": "markdown",
   "metadata": {},
   "source": [
    "## NumPy Sorting"
   ]
  },
  {
   "cell_type": "code",
   "execution_count": 216,
   "metadata": {},
   "outputs": [
    {
     "data": {
      "text/plain": [
       "array([1, 2, 3, 4, 5])"
      ]
     },
     "execution_count": 216,
     "metadata": {},
     "output_type": "execute_result"
    }
   ],
   "source": [
    "import numpy as np\n",
    "\n",
    "def selection_sort(x) :\n",
    "    for i in range(len(x)) :\n",
    "        swap = i + np.argmin(x[i : ])\n",
    "        (x[i], x[swap]) = (x[swap], x[i])\n",
    "    return x\n",
    "\n",
    "x = np.array([2, 1, 4, 3, 5])\n",
    "selection_sort(x)"
   ]
  },
  {
   "cell_type": "markdown",
   "metadata": {},
   "source": [
    "The Selection sort is useful for its simplicity, but is much too slow to be useful for larger arrays. For a list of N values, it requires N loops, each of which does on the order of ~ N comparisons to find the swap value. Selection sort averages O[N^2] : if you double the number of items in the list, the execution time will go up by about a factor of four.\n"
   ]
  },
  {
   "cell_type": "markdown",
   "metadata": {},
   "source": [
    "##### - Fast Sorting in NumPy : np.sort and np.argsort"
   ]
  },
  {
   "cell_type": "markdown",
   "metadata": {},
   "source": [
    "By default, np.sort uses an O[N log N], quick-sort algorithm, though mergesort and heapsort are also available.\n"
   ]
  },
  {
   "cell_type": "markdown",
   "metadata": {},
   "source": [
    "##### 1. Basic Algorithm"
   ]
  },
  {
   "cell_type": "code",
   "execution_count": 217,
   "metadata": {},
   "outputs": [
    {
     "data": {
      "text/plain": [
       "array([2, 1, 4, 3, 5])"
      ]
     },
     "execution_count": 217,
     "metadata": {},
     "output_type": "execute_result"
    }
   ],
   "source": [
    "# 1. Basic Algorithms\n",
    "X = np.array([2, 1, 4, 3, 5])\n",
    "np.sort(X) # X를 바꾸지는 않음\n",
    "#X.sort()   # X의 값 자체를 바꿈\n",
    "X"
   ]
  },
  {
   "cell_type": "code",
   "execution_count": 218,
   "metadata": {},
   "outputs": [
    {
     "data": {
      "text/plain": [
       "array([1, 2, 3, 4, 5])"
      ]
     },
     "execution_count": 218,
     "metadata": {},
     "output_type": "execute_result"
    }
   ],
   "source": [
    "i = np.argsort(X)  # Rank를 반환함\n",
    "X[i] # Sorted array"
   ]
  },
  {
   "cell_type": "markdown",
   "metadata": {},
   "source": [
    "##### 2. Sorting along axis"
   ]
  },
  {
   "cell_type": "code",
   "execution_count": 219,
   "metadata": {},
   "outputs": [
    {
     "name": "stdout",
     "output_type": "stream",
     "text": [
      "[[6 3 7 4 6 9]\n",
      " [2 6 7 4 3 7]\n",
      " [7 2 5 4 1 7]\n",
      " [5 1 4 0 9 5]]\n"
     ]
    }
   ],
   "source": [
    "# 2. Sorting along rows or columns\n",
    "rand = np.random.RandomState(42)\n",
    "X = rand.randint(0, 10, (4, 6))\n",
    "print(X)"
   ]
  },
  {
   "cell_type": "code",
   "execution_count": 220,
   "metadata": {},
   "outputs": [
    {
     "data": {
      "text/plain": [
       "array([[2, 1, 4, 0, 1, 5],\n",
       "       [5, 2, 5, 4, 3, 7],\n",
       "       [6, 3, 7, 4, 6, 7],\n",
       "       [7, 6, 7, 4, 9, 9]])"
      ]
     },
     "execution_count": 220,
     "metadata": {},
     "output_type": "execute_result"
    }
   ],
   "source": [
    "# along column\n",
    "np.sort(X, axis= 0)"
   ]
  },
  {
   "cell_type": "code",
   "execution_count": 221,
   "metadata": {},
   "outputs": [
    {
     "data": {
      "text/plain": [
       "array([[3, 4, 6, 6, 7, 9],\n",
       "       [2, 3, 4, 6, 7, 7],\n",
       "       [1, 2, 4, 5, 7, 7],\n",
       "       [0, 1, 4, 5, 5, 9]])"
      ]
     },
     "execution_count": 221,
     "metadata": {},
     "output_type": "execute_result"
    }
   ],
   "source": [
    "# along row\n",
    "np.sort(X, axis= 1)"
   ]
  },
  {
   "cell_type": "markdown",
   "metadata": {},
   "source": [
    "##### 3. Partial Sorts\n",
    "\n",
    "Sometimes we’re not interested in sorting the entire array, but simply want to find the K smallest values in the array. NumPy provides this in the np.partition function. \n",
    "\n",
    "np.partition takes an array and a number K; the result is a new array with the smallest K values to the left of the partition, and the remaining values to the right in arbitrary order."
   ]
  },
  {
   "cell_type": "code",
   "execution_count": 222,
   "metadata": {},
   "outputs": [
    {
     "data": {
      "text/plain": [
       "array([2, 1, 3, 4, 6, 5, 7])"
      ]
     },
     "execution_count": 222,
     "metadata": {},
     "output_type": "execute_result"
    }
   ],
   "source": [
    "# 3. Partial Sorts : Partitioning\n",
    "\n",
    "X = np.array([7, 2, 3, 1, 6, 5, 4])\n",
    "np.partition(X, 3) # Now we have 3 smallest values to the left, without sorting."
   ]
  },
  {
   "cell_type": "code",
   "execution_count": 223,
   "metadata": {},
   "outputs": [
    {
     "name": "stdout",
     "output_type": "stream",
     "text": [
      "[[7 2]\n",
      " [3 1]\n",
      " [6 5]]\n"
     ]
    },
    {
     "data": {
      "text/plain": [
       "array([[3, 1],\n",
       "       [6, 2],\n",
       "       [7, 5]])"
      ]
     },
     "execution_count": 223,
     "metadata": {},
     "output_type": "execute_result"
    }
   ],
   "source": [
    "Y = np.array([7, 2, 3, 1, 6, 5]).reshape(3,2)\n",
    "print(Y)\n",
    "np.partition(Y, 1, axis = 0)"
   ]
  },
  {
   "cell_type": "markdown",
   "metadata": {},
   "source": [
    "##### 4. Example : k-Nearest Neighbors"
   ]
  },
  {
   "cell_type": "markdown",
   "metadata": {},
   "source": [
    "Let’s quickly see how we might use this argsort function along multiple axes to find the nearest neighbors of each point in a set. We’ll start by creating a random set of 10 points on a two-dimensional plane. "
   ]
  },
  {
   "cell_type": "code",
   "execution_count": 224,
   "metadata": {
    "scrolled": false
   },
   "outputs": [
    {
     "name": "stdout",
     "output_type": "stream",
     "text": [
      "[[ 0.00706631  0.02306243]\n",
      " [ 0.52477466  0.39986097]\n",
      " [ 0.04666566  0.97375552]\n",
      " [ 0.23277134  0.09060643]\n",
      " [ 0.61838601  0.38246199]\n",
      " [ 0.98323089  0.46676289]\n",
      " [ 0.85994041  0.68030754]\n",
      " [ 0.45049925  0.01326496]\n",
      " [ 0.94220176  0.56328822]\n",
      " [ 0.3854165   0.01596625]]\n"
     ]
    },
    {
     "data": {
      "image/png": "[encoded data removed]",
      "text/plain": [
       "<matplotlib.figure.Figure at 0x7fdf2563df98>"
      ]
     },
     "metadata": {},
     "output_type": "display_data"
    }
   ],
   "source": [
    "X = rand.rand(10,2)\n",
    "\n",
    "print(X) \n",
    "\n",
    "%matplotlib inline\n",
    "import matplotlib.pyplot as plt\n",
    "import seaborn; seaborn.set()\n",
    "\n",
    "plt.scatter(X[:,0], X[:,1], s=100);"
   ]
  },
  {
   "cell_type": "code",
   "execution_count": 225,
   "metadata": {
    "scrolled": true
   },
   "outputs": [
    {
     "data": {
      "text/plain": [
       "array([[ 0.        ,  0.40999909,  0.90538547,  0.05550496,  0.50287983,\n",
       "         1.14976739,  1.15936537,  0.19672877,  1.16632222,  0.14319923],\n",
       "       [ 0.40999909,  0.        ,  0.55794316,  0.18090431,  0.00906581,\n",
       "         0.21465798,  0.19098635,  0.15497331,  0.20095384,  0.16679585],\n",
       "       [ 0.90538547,  0.55794316,  0.        ,  0.81458763,  0.67649219,\n",
       "         1.13419594,  0.74752753,  1.08562368,  0.9704683 ,  1.03211241],\n",
       "       [ 0.05550496,  0.18090431,  0.81458763,  0.        ,  0.23387834,\n",
       "         0.70468321,  0.74108843,  0.05338715,  0.72671958,  0.0288717 ],\n",
       "       [ 0.50287983,  0.00906581,  0.67649219,  0.23387834,  0.        ,\n",
       "         0.14021843,  0.1470605 ,  0.16449241,  0.13755476,  0.18859392],\n",
       "       [ 1.14976739,  0.21465798,  1.13419594,  0.70468321,  0.14021843,\n",
       "         0.        ,  0.06080186,  0.48946337,  0.01100053,  0.56059965],\n",
       "       [ 1.15936537,  0.19098635,  0.74752753,  0.74108843,  0.1470605 ,\n",
       "         0.06080186,  0.        ,  0.61258786,  0.02046045,  0.66652228],\n",
       "       [ 0.19672877,  0.15497331,  1.08562368,  0.05338715,  0.16449241,\n",
       "         0.48946337,  0.61258786,  0.        ,  0.54429694,  0.00424306],\n",
       "       [ 1.16632222,  0.20095384,  0.9704683 ,  0.72671958,  0.13755476,\n",
       "         0.01100053,  0.02046045,  0.54429694,  0.        ,  0.60957115],\n",
       "       [ 0.14319923,  0.16679585,  1.03211241,  0.0288717 ,  0.18859392,\n",
       "         0.56059965,  0.66652228,  0.00424306,  0.60957115,  0.        ]])"
      ]
     },
     "execution_count": 225,
     "metadata": {},
     "output_type": "execute_result"
    }
   ],
   "source": [
    "dist_sq = np.sum((X[:, np.newaxis, :] - X[np.newaxis, :, :]) ** 2, axis = -1)\n",
    "dist_sq #shape : (10, 10)"
   ]
  },
  {
   "cell_type": "code",
   "execution_count": 226,
   "metadata": {},
   "outputs": [
    {
     "data": {
      "text/plain": [
       "(10, 10, 2)"
      ]
     },
     "execution_count": 226,
     "metadata": {},
     "output_type": "execute_result"
    }
   ],
   "source": [
    "# break down into steps\n",
    "## Step 1\n",
    "differences = X[:, np.newaxis, :] - X[np.newaxis, :, :]\n",
    "differences.shape"
   ]
  },
  {
   "cell_type": "code",
   "execution_count": 227,
   "metadata": {},
   "outputs": [
    {
     "data": {
      "text/plain": [
       "(10, 10, 2)"
      ]
     },
     "execution_count": 227,
     "metadata": {},
     "output_type": "execute_result"
    }
   ],
   "source": [
    "## Step 2\n",
    "sq_differences = differences ** 2\n",
    "sq_differences.shape"
   ]
  },
  {
   "cell_type": "code",
   "execution_count": 228,
   "metadata": {},
   "outputs": [
    {
     "data": {
      "text/plain": [
       "array([[ 0.        ,  0.40999909,  0.90538547,  0.05550496,  0.50287983,\n",
       "         1.14976739,  1.15936537,  0.19672877,  1.16632222,  0.14319923],\n",
       "       [ 0.40999909,  0.        ,  0.55794316,  0.18090431,  0.00906581,\n",
       "         0.21465798,  0.19098635,  0.15497331,  0.20095384,  0.16679585],\n",
       "       [ 0.90538547,  0.55794316,  0.        ,  0.81458763,  0.67649219,\n",
       "         1.13419594,  0.74752753,  1.08562368,  0.9704683 ,  1.03211241],\n",
       "       [ 0.05550496,  0.18090431,  0.81458763,  0.        ,  0.23387834,\n",
       "         0.70468321,  0.74108843,  0.05338715,  0.72671958,  0.0288717 ],\n",
       "       [ 0.50287983,  0.00906581,  0.67649219,  0.23387834,  0.        ,\n",
       "         0.14021843,  0.1470605 ,  0.16449241,  0.13755476,  0.18859392],\n",
       "       [ 1.14976739,  0.21465798,  1.13419594,  0.70468321,  0.14021843,\n",
       "         0.        ,  0.06080186,  0.48946337,  0.01100053,  0.56059965],\n",
       "       [ 1.15936537,  0.19098635,  0.74752753,  0.74108843,  0.1470605 ,\n",
       "         0.06080186,  0.        ,  0.61258786,  0.02046045,  0.66652228],\n",
       "       [ 0.19672877,  0.15497331,  1.08562368,  0.05338715,  0.16449241,\n",
       "         0.48946337,  0.61258786,  0.        ,  0.54429694,  0.00424306],\n",
       "       [ 1.16632222,  0.20095384,  0.9704683 ,  0.72671958,  0.13755476,\n",
       "         0.01100053,  0.02046045,  0.54429694,  0.        ,  0.60957115],\n",
       "       [ 0.14319923,  0.16679585,  1.03211241,  0.0288717 ,  0.18859392,\n",
       "         0.56059965,  0.66652228,  0.00424306,  0.60957115,  0.        ]])"
      ]
     },
     "execution_count": 228,
     "metadata": {},
     "output_type": "execute_result"
    }
   ],
   "source": [
    "## Step 3\n",
    "dist_sq = sq_differences.sum(-1)\n",
    "dist_sq #shape : (10, 10)"
   ]
  },
  {
   "cell_type": "code",
   "execution_count": 229,
   "metadata": {
    "scrolled": true
   },
   "outputs": [
    {
     "name": "stdout",
     "output_type": "stream",
     "text": [
      "[[0 3 9 7 1 4 2 5 6 8]\n",
      " [1 4 7 9 3 6 8 5 0 2]\n",
      " [2 1 4 6 3 0 8 9 7 5]\n",
      " [3 9 7 0 1 4 5 8 6 2]\n",
      " [4 1 8 5 6 7 9 3 0 2]\n",
      " [5 8 6 4 1 7 9 3 2 0]\n",
      " [6 8 5 4 1 7 9 3 2 0]\n",
      " [7 9 3 1 4 0 5 8 6 2]\n",
      " [8 5 6 4 1 7 9 3 2 0]\n",
      " [9 7 3 0 1 4 5 8 6 2]]\n"
     ]
    }
   ],
   "source": [
    "nearest = np.argsort(dist_sq, axis=1)\n",
    "print(nearest)"
   ]
  },
  {
   "cell_type": "code",
   "execution_count": 230,
   "metadata": {
    "scrolled": true
   },
   "outputs": [
    {
     "data": {
      "image/png": "[encoded data removed]",
      "text/plain": [
       "<matplotlib.figure.Figure at 0x7fdf25455710>"
      ]
     },
     "metadata": {},
     "output_type": "display_data"
    }
   ],
   "source": [
    "K = 2\n",
    "nearest_partition = np.argpartition(dist_sq, K+1, axis=1)\n",
    "\n",
    "plt.scatter(X[:, 0], X[:, 1], s= 100)\n",
    "# draw lines from each point to its two nearest neighbors\n",
    "\n",
    "for i in range(X.shape[0]) :\n",
    "    for j in nearest_partition[i, :K+1] :\n",
    "        # plot a line from X[i] to X[j]\n",
    "        # use some zip magic to make it happen\n",
    "        plt.plot(*zip(X[j], X[i]), color= 'black')"
   ]
  },
  {
   "cell_type": "markdown",
   "metadata": {},
   "source": [
    "# (NOT HERE) Newaxis function"
   ]
  },
  {
   "cell_type": "code",
   "execution_count": 231,
   "metadata": {},
   "outputs": [
    {
     "data": {
      "text/plain": [
       "array([[ 0.23089383,  0.24102547],\n",
       "       [ 0.68326352,  0.60999666]])"
      ]
     },
     "execution_count": 231,
     "metadata": {},
     "output_type": "execute_result"
    }
   ],
   "source": [
    "X = rand.rand(2,2)\n",
    "X"
   ]
  },
  {
   "cell_type": "code",
   "execution_count": 232,
   "metadata": {},
   "outputs": [
    {
     "data": {
      "text/plain": [
       "array([[[ 0.23089383,  0.24102547]],\n",
       "\n",
       "       [[ 0.68326352,  0.60999666]]])"
      ]
     },
     "execution_count": 232,
     "metadata": {},
     "output_type": "execute_result"
    }
   ],
   "source": [
    "X[:, np.newaxis, :] # shape : (2, 1, 2)"
   ]
  },
  {
   "cell_type": "code",
   "execution_count": 233,
   "metadata": {},
   "outputs": [
    {
     "data": {
      "text/plain": [
       "array([[[ 0.23089383,  0.24102547],\n",
       "        [ 0.68326352,  0.60999666]]])"
      ]
     },
     "execution_count": 233,
     "metadata": {},
     "output_type": "execute_result"
    }
   ],
   "source": [
    "X[np.newaxis, :, :] # shape : (1, 2, 2)"
   ]
  },
  {
   "cell_type": "code",
   "execution_count": 234,
   "metadata": {
    "scrolled": true
   },
   "outputs": [
    {
     "data": {
      "text/plain": [
       "array([[[ 0.23089383],\n",
       "        [ 0.24102547]],\n",
       "\n",
       "       [[ 0.68326352],\n",
       "        [ 0.60999666]]])"
      ]
     },
     "execution_count": 234,
     "metadata": {},
     "output_type": "execute_result"
    }
   ],
   "source": [
    "X[:, :, np.newaxis] # shape : (2, 2, 1)"
   ]
  },
  {
   "cell_type": "markdown",
   "metadata": {},
   "source": [
    "# (NOT HERE) NumPy's Structured Arrays"
   ]
  },
  {
   "cell_type": "markdown",
   "metadata": {},
   "source": [
    "\n",
    "While often our data can be well represented by a homogeneous array of values, sometimes this is not the case.\n",
    "This section demonstrates the use of NumPy’s structured arrays and record arrays, which provide efficient storage for compound, heterogeneous data.\n"
   ]
  },
  {
   "cell_type": "code",
   "execution_count": 242,
   "metadata": {
    "scrolled": true
   },
   "outputs": [
    {
     "name": "stdout",
     "output_type": "stream",
     "text": [
      "[('Alice', 25, 55.0) ('Bob', 45, 85.5) ('Cathy', 37, 68.0)\n",
      " ('Doug', 19, 61.5)]\n"
     ]
    }
   ],
   "source": [
    "name = ['Alice', 'Bob', 'Cathy', 'Doug']\n",
    "age = [25, 45, 37, 19]\n",
    "weight = [55.0, 85.5, 68.0, 61.5]\n",
    "\n",
    "data = np.zeros(4, dtype={'names' : ('name', 'age', 'weight'),\n",
    "\n",
    "            'formats' : ('U10', 'i4', 'f8' ) } )\n",
    "\n",
    "data['name'] = name\n",
    "data['age'] = age\n",
    "data['weight'] = weight\n",
    "print(data)"
   ]
  },
  {
   "cell_type": "markdown",
   "metadata": {},
   "source": [
    "Note that if you’d like to do any operations that are any more complicated than these,\n",
    "\n",
    "you should probably consider the Pandas package, covered in the next chapter"
   ]
  }
 ],
 "metadata": {
  "kernelspec": {
   "display_name": "Python 3",
   "language": "python",
   "name": "python3"
  },
  "language_info": {
   "codemirror_mode": {
    "name": "ipython",
    "version": 3
   },
   "file_extension": ".py",
   "mimetype": "text/x-python",
   "name": "python",
   "nbconvert_exporter": "python",
   "pygments_lexer": "ipython3",
   "version": "3.6.3"
  }
 },
 "nbformat": 4,
 "nbformat_minor": 2
}
