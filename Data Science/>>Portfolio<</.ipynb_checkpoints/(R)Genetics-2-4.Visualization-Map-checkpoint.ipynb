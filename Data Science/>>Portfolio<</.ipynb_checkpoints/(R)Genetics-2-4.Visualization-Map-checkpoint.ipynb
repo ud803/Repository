{
 "cells": [
  {
   "cell_type": "markdown",
   "metadata": {},
   "source": [
    "이 R 코드는 앞서 구한 유전학 자료를 US 지도에 시각화하는 과정을 포함한다."
   ]
  },
  {
   "cell_type": "code",
   "execution_count": 9,
   "metadata": {},
   "outputs": [
    {
     "name": "stderr",
     "output_type": "stream",
     "text": [
      "Installing package into ‘/home/dabuntu/R/x86_64-pc-linux-gnu-library/3.4’\n",
      "(as ‘lib’ is unspecified)\n",
      "Warning message in install.packages(\"rgeos\"):\n",
      "“installation of package ‘rgeos’ had non-zero exit status”"
     ]
    }
   ],
   "source": [
    "#install.packages(\"rgdal\", dependencies = T)\n",
    "#install.packages(\"maptools\")\n",
    "install.packages(\"rgeos\")\n"
   ]
  },
  {
   "cell_type": "code",
   "execution_count": 4,
   "metadata": {},
   "outputs": [
    {
     "ename": "ERROR",
     "evalue": "Error in library(rgdal): there is no package called ‘rgdal’\n",
     "output_type": "error",
     "traceback": [
      "Error in library(rgdal): there is no package called ‘rgdal’\nTraceback:\n",
      "1. library(rgdal)",
      "2. stop(txt, domain = NA)"
     ]
    }
   ],
   "source": [
    "#필수 라이브러리 호출\n",
    "library(ggplot2)\n",
    "library(rgdal)\n",
    "library(maptools)\n",
    "library(rgeos)\n",
    "\n",
    "\n",
    "# 1. Shapefile 불러오기\n",
    "# shapefile은 미국 지도의 경계와 각 좌표가 입력된 파일이다\n",
    "# 한 지역의 Polygon의 경계값에 대한 좌표를 포함한다.\n",
    "# BRFSS 사이트로부터 이 파일을 받을 수 있다.\n",
    "map <- readOGR(\"brfss_state_2010_download.shp\")\n",
    "\n",
    "# ggplot의 fortify 함수를 통해 shapefile을 데이터프레임으로 바꿔준다\n",
    "map.df <- fortify(map, region = \"state\")\n",
    "# 그리고 좌표의 이름을 x, y로 변경한다.\n",
    "names(map.df)[1:2] <- c(\"x\", \"y\")"
   ]
  },
  {
   "cell_type": "code",
   "execution_count": null,
   "metadata": {
    "collapsed": true
   },
   "outputs": [],
   "source": [
    "\n",
    "# 2. Datafile 불러오기\n",
    "# 여기서 사용할 데이터파일을 불러온다.\n",
    "test <- read.csv(\"ALCre1.csv\", stringsAsFactors = F)\n",
    "\n",
    "# 예시로 2002년 데이터를 사용한다.\n",
    "test2002 <- test[test$Year==2002, ]\n",
    "test2002 <- aggregate(test2002$ALC1, list(test2002$State), mean)\n",
    "names(test2002) <- c(\"id\", \"value\")\n",
    "head(test)"
   ]
  },
  {
   "cell_type": "code",
   "execution_count": null,
   "metadata": {
    "collapsed": true
   },
   "outputs": [],
   "source": [
    "# id별로 x,y좌표를 묶어준다\n",
    "# 그리고 각 주의 중앙좌표를 구하기 위해 평균 함수를 사용한다.\n",
    "st <- aggregate(cbind(x,y) ~ id, data=map.df, FUN=function(x) mean(range(x)))\n",
    "head(st)"
   ]
  },
  {
   "cell_type": "code",
   "execution_count": null,
   "metadata": {
    "collapsed": true
   },
   "outputs": [],
   "source": [
    "\n",
    "# 3. Data�� NA State ó��\n",
    "\n",
    "# ����� State�� �ִٸ� �������w��ӿ� NA�� �־��־�� �մϴ�.\n",
    "# �׷��� ��; ��� �����Ͱ� �ƿ� ��ٰ� ���ͼ� �׸��� ������ �ո��ϴ�.\n",
    "for (i in 1:nrow(st)) {\n",
    "  if (!(st[[i, 1]] %in% test2002$id)) {\n",
    "    test2002[nrow(test2002)+1,] <- c(st[[i,1]], NA)\n",
    "  }\n",
    "}\n",
    "\n",
    "test2002$value <- as.numeric(test2002$value)\n",
    "\n"
   ]
  },
  {
   "cell_type": "code",
   "execution_count": null,
   "metadata": {
    "collapsed": true
   },
   "outputs": [],
   "source": [
    "\n",
    "# 4. �׸� �׸���\n",
    "\n",
    "mid <- median(test2002$value, na.rm=T)\n",
    "head(test2002)\n",
    "\n",
    "x11()\n",
    "\n",
    "# ggplot�� �4뿡�� test2002�� �����Ͱ� ���ϴ�.\n",
    "# value�� ��� ��; �޸����ֱ� ������ fill=value �ɼ�; ����մϴ�.\n",
    "ggplot(test2002, aes(fill=value)) +\n",
    "  \n",
    "  # geom_map �Լ� ����Ͽ� ��� �׸��ϴ�.\n",
    "  # �������� map���� '���� fortify�� map.df�� ����, map_id ���ڿ� id��� ���� ���ݴϴ�.\n",
    "  # �� id ���� ���� State�� test2002�� State; ��������ݴϴ�.\n",
    "  geom_map(aes(map_id =id), map=map.df) +\n",
    "  \n",
    "  # expand_limits�� ���� ������ ���̰� �մϴ�.\n",
    "  # scale_fill_gradient�� �׶��̼� ���; �ְ�, ���� midpoint, �� �߰� ���� ���; ��d�� �� �� �ֽ4ϴ�.\n",
    "  # '���� mid��� ���� ������ ���� �� ��/�����Դϴ�.\n",
    "  # ���⼭ scale_fill_gradient2�� �ƴ� �ٸ� ��� ��� �Լ� ����ص� �����մϴ�.\n",
    "  expand_limits(map.df) + scale_fill_gradient2(midpoint=mid,\n",
    "                                               low=\"#ecf2fe\", mid=\"#81badb\",high=\"#135aa2\", na.value = \"pink\") +\n",
    "  \n",
    "  # State�� �̸��̳� �ٸ� ����; �ֱ� '�� ����ϴ� geom_text �Լ��Դϴ�.\n",
    "  # ���⼭�� '���� ���� st �������� ��d�� ��ǥ�� id (State ����̸�)��� ��; ���ݴϴ�.\n",
    "  geom_text(data=st, aes(x=x, y=y, label=id), size=3, inherit.aes = F)\n",
    "\n"
   ]
  }
 ],
 "metadata": {
  "kernelspec": {
   "display_name": "R",
   "language": "R",
   "name": "ir"
  },
  "language_info": {
   "codemirror_mode": "r",
   "file_extension": ".r",
   "mimetype": "text/x-r-source",
   "name": "R",
   "pygments_lexer": "r",
   "version": "3.4.3"
  }
 },
 "nbformat": 4,
 "nbformat_minor": 2
}
