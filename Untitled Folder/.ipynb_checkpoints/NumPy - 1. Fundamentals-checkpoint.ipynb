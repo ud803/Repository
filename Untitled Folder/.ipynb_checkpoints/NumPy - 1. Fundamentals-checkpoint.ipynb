{
 "cells": [
  {
   "cell_type": "markdown",
   "metadata": {},
   "source": [
    "** Numpy\n",
    "\n",
    "- Mathematical arrays , Matrices\n",
    "- Mathematical Functions\n",
    "\n",
    "Numpy's main object is the homogeneous multi-dimensional array.\n",
    "It is a table of elements (usually numbers), all of the same type, indexed by a tuple of positive integers.\n",
    "\n",
    "Dimensions are called **axes**. Number of axes is **rank**.\n",
    "\n",
    "[1, 2, 1] is an array of rank 1\n",
    "[[1,0,0], [0,1,2]] is an array of rank 2.\n",
    "\n",
    "First axis with length 2, second with 3\n",
    "\n",
    "axis 0 : col, axis 1 : row ,...\n",
    "\n",
    "\n",
    "* np.set_printoptions(threshold='nan') #force NumPy to print the entire array"
   ]
  },
  {
   "cell_type": "markdown",
   "metadata": {},
   "source": [
    "## 1. Array Creation"
   ]
  },
  {
   "cell_type": "markdown",
   "metadata": {},
   "source": [
    "### 1) Specified Creation"
   ]
  },
  {
   "cell_type": "code",
   "execution_count": 7,
   "metadata": {},
   "outputs": [
    {
     "name": "stdout",
     "output_type": "stream",
     "text": [
      "[[1 2 3]\n",
      " [4 5 6]]\n",
      "[[1 2 3]\n",
      " [4 5 6]]\n"
     ]
    }
   ],
   "source": [
    "import numpy as np\n",
    "\n",
    "# Numpy Array\n",
    "\n",
    "a = np.array([[1,2,3], [4,5,6]])\n",
    "print(a)\n",
    "\n",
    "print(np.array([ (1,2,3), (4,5,6)])) #same as above"
   ]
  },
  {
   "cell_type": "code",
   "execution_count": 6,
   "metadata": {},
   "outputs": [
    {
     "data": {
      "text/plain": [
       "array([[ 1.+0.j,  2.+0.j],\n",
       "       [ 3.+0.j,  4.+0.j]])"
      ]
     },
     "execution_count": 6,
     "metadata": {},
     "output_type": "execute_result"
    }
   ],
   "source": [
    "# array with type\n",
    "\n",
    "c = np.array([[1,2],[3,4]], dtype=complex)\n",
    "c"
   ]
  },
  {
   "cell_type": "markdown",
   "metadata": {},
   "source": [
    "### 2) Empty / Random Creation"
   ]
  },
  {
   "cell_type": "code",
   "execution_count": 9,
   "metadata": {},
   "outputs": [
    {
     "name": "stdout",
     "output_type": "stream",
     "text": [
      "[[ 0.  0.  0.  0.]\n",
      " [ 0.  0.  0.  0.]\n",
      " [ 0.  0.  0.  0.]]\n",
      "[[[1 1 1 1]\n",
      "  [1 1 1 1]\n",
      "  [1 1 1 1]]\n",
      "\n",
      " [[1 1 1 1]\n",
      "  [1 1 1 1]\n",
      "  [1 1 1 1]]]\n",
      "[  6.93166827e-310   4.67901755e-310]\n"
     ]
    }
   ],
   "source": [
    "# array with rand, empty num\n",
    "\n",
    "with_zero = np.zeros( (3,4) )\n",
    "with_one = np.ones( (2,3,4), dtype=np.int16 )\n",
    "with_rand = np.empty( 2, dtype=float )\n",
    "\n",
    "print(with_zero)\n",
    "print(with_one)\n",
    "print(with_rand)"
   ]
  },
  {
   "cell_type": "markdown",
   "metadata": {},
   "source": [
    "### 3) Sequential Creation"
   ]
  },
  {
   "cell_type": "code",
   "execution_count": 11,
   "metadata": {},
   "outputs": [
    {
     "name": "stdout",
     "output_type": "stream",
     "text": [
      "[0 1 2]\n",
      "[10 15 20 25]\n",
      "[ 0.   0.3  0.6  0.9  1.2  1.5  1.8]\n",
      "[ 0.    0.25  0.5   0.75  1.    1.25  1.5   1.75  2.  ]\n",
      "[1 2 3 0 4]\n"
     ]
    }
   ],
   "source": [
    "print(np.arange(3))       # from 0 to 2\n",
    "print(np.arange(10,30,5)) # over 10 below 30, step 5\n",
    "print(np.arange(0,2,0.3)) # impossible to predict # of elements\n",
    "print(np.linspace(0,2,9)) # 9 numbers from 0 to 2 (inclusive) - easy to predict num\n",
    "print(np.r_[1:4, 0, 4])   # special usage - veector addition"
   ]
  },
  {
   "cell_type": "markdown",
   "metadata": {},
   "source": [
    "### 4) Attributes"
   ]
  },
  {
   "cell_type": "code",
   "execution_count": 39,
   "metadata": {},
   "outputs": [
    {
     "name": "stdout",
     "output_type": "stream",
     "text": [
      "2\n",
      "(3, 4)\n",
      "12\n",
      "int64\n",
      "8\n",
      "<memory at 0x7f99a6ed03a8>\n"
     ]
    }
   ],
   "source": [
    "a = np.arange(12).reshape(3,4)\n",
    "\n",
    "print(a.ndim)     # number of axes of the array (also as rank)\n",
    "print(a.shape)    # dimension of array\n",
    "print(a.size)     # totalnumber of elements = shape[0]*shape[1]\n",
    "print(a.dtype)    # describe the type of elements\n",
    "print(a.itemsize) # size in byte of each element\n",
    "print(a.data)     # buffer containing the actual elements"
   ]
  },
  {
   "cell_type": "markdown",
   "metadata": {},
   "source": [
    "## 2. Array Indexing / Slicing / Iterating"
   ]
  },
  {
   "cell_type": "code",
   "execution_count": 17,
   "metadata": {},
   "outputs": [
    {
     "name": "stdout",
     "output_type": "stream",
     "text": [
      "[  0   1   8  27  64 125 216 343 512 729]\n",
      "729\n",
      "8\n",
      "[ 8 27 64]\n",
      "[ 0  8 64]\n",
      "[729 512 343 216 125  64  27   8   1   0]\n",
      "[[ 0  1  2  3]\n",
      " [10 11 12 13]\n",
      " [20 21 22 23]\n",
      " [30 31 32 33]\n",
      " [40 41 42 43]]\n"
     ]
    }
   ],
   "source": [
    "# Array Indexing \n",
    "\n",
    "a = np.arange(10)**3\n",
    "print(a)\n",
    "print(a[-1])     # last element\n",
    "print(a[2])\n",
    "print(a[2:5])\n",
    "print(a[:6:2])   # from 0 to 5, with every 2nd element\n",
    "print(a[::-1])   # every element, from backward\n",
    "\n",
    "\n",
    "# fromfunction\n",
    "\n",
    "def f(x,y) :\n",
    "    return 10*x+y\n",
    "\n",
    "b = np.fromfunction(f, (5,4), dtype=int )  # use index as parameter\n",
    "print(b)\n"
   ]
  },
  {
   "cell_type": "code",
   "execution_count": 19,
   "metadata": {},
   "outputs": [
    {
     "data": {
      "text/plain": [
       "array([ 27,  64, 125, 216, 343, 512, 729])"
      ]
     },
     "execution_count": 19,
     "metadata": {},
     "output_type": "execute_result"
    }
   ],
   "source": [
    "# Indexing with booleans\n",
    "b = a>16\n",
    "a[b]"
   ]
  },
  {
   "cell_type": "markdown",
   "metadata": {},
   "source": [
    " "
   ]
  },
  {
   "cell_type": "code",
   "execution_count": 24,
   "metadata": {},
   "outputs": [
    {
     "name": "stdout",
     "output_type": "stream",
     "text": [
      "[[ 1.  2.  3.]\n",
      " [ 4.  5.  6.]]\n",
      "5.0\n",
      "[ 4.  5.  6.]\n",
      "[ 3.  6.]\n"
     ]
    }
   ],
   "source": [
    "# Matrix Indexing / Slicing\n",
    "\n",
    "two_D_array = numpy.array([[1,2,3], [4,5,6]], float)\n",
    "print(two_D_array)\n",
    "print(two_D_array[1][1])\n",
    "print(two_D_array[1, :])\n",
    "print(two_D_array[:,2])"
   ]
  },
  {
   "cell_type": "markdown",
   "metadata": {},
   "source": [
    " "
   ]
  },
  {
   "cell_type": "markdown",
   "metadata": {},
   "source": [
    "* When fewer indices are provided than the number of axes, the missing indices are considered complete slices "
   ]
  },
  {
   "cell_type": "code",
   "execution_count": 24,
   "metadata": {},
   "outputs": [
    {
     "data": {
      "text/plain": [
       "array([40, 41, 42, 43])"
      ]
     },
     "execution_count": 24,
     "metadata": {},
     "output_type": "execute_result"
    }
   ],
   "source": [
    "b = np.fromfunction(f, (5,4), dtype=int )  # use index as parameter\n",
    "\n",
    "b[-1]  # equivalent to b[-1,:] , last row\n"
   ]
  },
  {
   "cell_type": "markdown",
   "metadata": {},
   "source": [
    " "
   ]
  },
  {
   "cell_type": "markdown",
   "metadata": {},
   "source": [
    " "
   ]
  },
  {
   "cell_type": "markdown",
   "metadata": {},
   "source": [
    "* dots(...) represent as many colons as needed to produce a complete indexing tuple.\n",
    "* x[1,2,...] equivalent to x[1,2,:,:,:]"
   ]
  },
  {
   "cell_type": "code",
   "execution_count": 25,
   "metadata": {},
   "outputs": [
    {
     "name": "stdout",
     "output_type": "stream",
     "text": [
      "(2, 2, 3)\n",
      "[[100 101 102]\n",
      " [110 112 113]]\n",
      "[[  2  13]\n",
      " [102 113]]\n"
     ]
    }
   ],
   "source": [
    "c = np.array( [[[0,1,2], [10,12,13]], [[100,101,102], [110,112,113]]])\n",
    "print(c.shape)\n",
    "print(c[1,...])  # same as c[1,:,:] or c[1]\n",
    "print(c[...,2])  # same as c[:,:,2]"
   ]
  },
  {
   "cell_type": "markdown",
   "metadata": {},
   "source": [
    " "
   ]
  },
  {
   "cell_type": "markdown",
   "metadata": {},
   "source": [
    " "
   ]
  },
  {
   "cell_type": "markdown",
   "metadata": {},
   "source": [
    "* Iterating over multi-dimension is done with respect to the first axis (row)"
   ]
  },
  {
   "cell_type": "code",
   "execution_count": 26,
   "metadata": {},
   "outputs": [
    {
     "name": "stdout",
     "output_type": "stream",
     "text": [
      "[0 1 2 3]\n",
      "[10 11 12 13]\n",
      "[20 21 22 23]\n",
      "[30 31 32 33]\n",
      "[40 41 42 43]\n",
      "0\n",
      "1\n",
      "2\n",
      "3\n",
      "10\n",
      "11\n",
      "12\n",
      "13\n",
      "20\n",
      "21\n",
      "22\n",
      "23\n",
      "30\n",
      "31\n",
      "32\n",
      "33\n",
      "40\n",
      "41\n",
      "42\n",
      "43\n"
     ]
    }
   ],
   "source": [
    "for row1 in b:\n",
    "    print(row1)\n",
    "    \n",
    "for element in b.flat :\n",
    "    print(element)            # iterate over all the elements"
   ]
  },
  {
   "cell_type": "markdown",
   "metadata": {},
   "source": [
    "## 3. Arithmentic Operations"
   ]
  },
  {
   "cell_type": "code",
   "execution_count": 37,
   "metadata": {},
   "outputs": [
    {
     "name": "stdout",
     "output_type": "stream",
     "text": [
      "3.0\n",
      "3.0\n",
      "1.41421356237\n",
      "Now with npArray\n",
      "15\n",
      "3.0\n",
      "1\n"
     ]
    }
   ],
   "source": [
    "# Basic Statistics\n",
    "\n",
    "numbers = [1,2,3,4,5]\n",
    "print(numpy.mean(numbers))\n",
    "print(numpy.median(numbers))\n",
    "print(numpy.std(numbers))\n",
    "\n",
    "print(\"Now with npArray\")\n",
    "\n",
    "number = np.array([1,2,3,4,5], int)\n",
    "print(number.sum())\n",
    "print(number.mean())\n",
    "print(number.min())"
   ]
  },
  {
   "cell_type": "code",
   "execution_count": 36,
   "metadata": {},
   "outputs": [
    {
     "name": "stdout",
     "output_type": "stream",
     "text": [
      "[[ 0  1  2  3]\n",
      " [ 4  5  6  7]\n",
      " [ 8  9 10 11]]\n",
      "[12 15 18 21]\n",
      "[0 4 8]\n",
      "[[ 0  1  3  6]\n",
      " [ 4  9 15 22]\n",
      " [ 8 17 27 38]]\n"
     ]
    }
   ],
   "source": [
    "# Basic Statistics 2\n",
    "\n",
    "b = np.arange(12).reshape(3,4)\n",
    "\n",
    "print(b)\n",
    "print(b.sum(axis=0))      # sum of each column\n",
    "print(b.min(axis=1))      # min of each row\n",
    "print(b.cumsum(axis=1))   # cum sum along each row"
   ]
  },
  {
   "cell_type": "code",
   "execution_count": 33,
   "metadata": {},
   "outputs": [
    {
     "name": "stdout",
     "output_type": "stream",
     "text": [
      "[ 6.  4.  9.]\n",
      "[  5.   4.  18.]\n",
      "27.0\n"
     ]
    }
   ],
   "source": [
    "# Array arithmetics\n",
    "\n",
    "array_1 = numpy.array([1,2,3], float)\n",
    "array_2 = numpy.array([5,2,6], float)\n",
    "print(array_1+array_2)\n",
    "print(array_1*array_2)\n",
    "\n",
    "print(numpy.dot(array_1, array_2)) # 벡터의 dot product"
   ]
  },
  {
   "cell_type": "code",
   "execution_count": 29,
   "metadata": {},
   "outputs": [
    {
     "name": "stdout",
     "output_type": "stream",
     "text": [
      "[ True  True False False]\n",
      "[  1.           2.71828183   7.3890561   20.08553692]\n",
      "[20 31 42 53]\n"
     ]
    }
   ],
   "source": [
    "# Array arithmetics 2\n",
    "\n",
    "a = np.array([20,30,40,50])\n",
    "b = np.arange(4)\n",
    "\n",
    "print(a<35)\n",
    "print(np.exp(b))\n",
    "print(np.add(a,b))"
   ]
  },
  {
   "cell_type": "code",
   "execution_count": 30,
   "metadata": {},
   "outputs": [
    {
     "name": "stdout",
     "output_type": "stream",
     "text": [
      "[[  6.   8.]\n",
      " [ 10.  12.]]\n",
      "[[  5.  12.]\n",
      " [ 21.  32.]]\n",
      "[[ 19.  22.]\n",
      " [ 43.  50.]]\n",
      "[[ 19.  22.]\n",
      " [ 43.  50.]]\n"
     ]
    }
   ],
   "source": [
    "# Matrix arithmetics\n",
    "\n",
    "array_1 = numpy.array([[1,2], [3,4]], float)\n",
    "array_2 = numpy.array([[5,6], [7,8]], float)\n",
    "print(array_1+array_2)\n",
    "print(array_1*array_2) # 주의, 행렬 곱이 아닌 원소끼리의 곱\n",
    "\n",
    "print(numpy.dot(array_1, array_2)) # 이게 행렬 곱이다. dot product\n",
    "print(array_1.dot(array_2)) # same as above"
   ]
  },
  {
   "cell_type": "markdown",
   "metadata": {},
   "source": [
    "* Upcasting occurs when two different data types collapse."
   ]
  },
  {
   "cell_type": "code",
   "execution_count": 32,
   "metadata": {},
   "outputs": [
    {
     "name": "stdout",
     "output_type": "stream",
     "text": [
      "float64\n",
      "float64\n"
     ]
    }
   ],
   "source": [
    "a = np.ones(3, np.int32)\n",
    "b = np.linspace(0, np.pi, 3)\n",
    "print(b.dtype)\n",
    "c = a+b\n",
    "print(c.dtype)  # int + float converts into more general form (float, in this case)"
   ]
  }
 ],
 "metadata": {
  "kernelspec": {
   "display_name": "Python 3",
   "language": "python",
   "name": "python3"
  },
  "language_info": {
   "codemirror_mode": {
    "name": "ipython",
    "version": 3
   },
   "file_extension": ".py",
   "mimetype": "text/x-python",
   "name": "python",
   "nbconvert_exporter": "python",
   "pygments_lexer": "ipython3",
   "version": "3.6.3"
  }
 },
 "nbformat": 4,
 "nbformat_minor": 2
}
